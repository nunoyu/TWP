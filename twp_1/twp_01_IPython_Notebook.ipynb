{
 "cells": [
  {
   "cell_type": "markdown",
   "metadata": {},
   "source": [
    "# Getting to know IPython notebook.\n",
    "\n",
    "Jev Kuznetsov (jev@tradingwithpython.com). \n",
    "\n",
    "This notebook is a part of [Trading With Python](http://www.tradingwithpython.com) course.\n",
    "\n",
    "## What is an IPython notebook ##\n",
    ">The IPython Notebook is a web-based interactive computational environment where you can combine code execution, text, mathematics, plots and rich media into a single document\n",
    "\n",
    "It was inspired by math software like Mathematica and Maple. IPython makes working with interactive code easy. You can now do (financial) research in the same manner as you would write a document, by combining written ideas, code and output to a single document. \n",
    "\n",
    "We will be using the notebook for the interactive research work. A conventional editor or an [IDE](http://en.wikipedia.org/wiki/Integrated_development_environment) will be used for writing python modules.\n",
    "\n",
    "A typical workflow is:\n",
    "Prototype in notebook -> Create module in IDE -> Reuse functions in notebook\n"
   ]
  },
  {
   "cell_type": "markdown",
   "metadata": {},
   "source": [
    "##Getting around##\n",
    "The notebook consists of 'cells', each cell is a short section of code or text. "
   ]
  },
  {
   "cell_type": "raw",
   "metadata": {},
   "source": [
    "The text can be just simple raw text."
   ]
  },
  {
   "cell_type": "markdown",
   "metadata": {},
   "source": [
    "Or rich formatted text using the [Markdown](http://en.wikipedia.org/wiki/Markdown) language. \n",
    "\n",
    "You can interact with a cell by using the menu above or use keyboar shortcuts:\n",
    "\n",
    "* _Double click_ on a cell to edit it.\n",
    "* _Ctrl-Enter_ to run the code and advance to the next cell\n",
    "* _Shift-Enter_ to run the cell code.\n",
    "\n",
    "To get hint about keyboard shortcuts, press _Ctrl-m h_ \n"
   ]
  },
  {
   "cell_type": "markdown",
   "metadata": {},
   "source": [
    "## Before we begin ##\n",
    "\n",
    "There are some specific IPython system commands which are called [cell magics](http://nbviewer.ipython.org/url/github.com/ipython/ipython/raw/master/examples/notebooks/Cell%20Magics.ipynb). A cell magic normally starts with a `%` sign\n"
   ]
  },
  {
   "cell_type": "code",
   "execution_count": 1,
   "metadata": {
    "collapsed": false
   },
   "outputs": [
    {
     "data": {
      "text/plain": [
       "'/home/jev/Development/python3/twp_notebooks'"
      ]
     },
     "execution_count": 1,
     "metadata": {},
     "output_type": "execute_result"
    }
   ],
   "source": [
    "# text after'#' is a comment, it is not executed\n",
    "# let's get current location\n",
    "%pwd"
   ]
  },
  {
   "cell_type": "markdown",
   "metadata": {},
   "source": [
    "another handy command is `ls` for listing files in the current directory, just like the [\\*nix](https://en.wikipedia.org/wiki/Unix-like) command"
   ]
  },
  {
   "cell_type": "code",
   "execution_count": 2,
   "metadata": {
    "collapsed": false
   },
   "outputs": [
    {
     "name": "stdout",
     "output_type": "stream",
     "text": [
      "2to3_nb.py  \u001b[0m\u001b[01;34mnumpy-sphinx-example\u001b[0m/  \u001b[01;34mtradingWithPython\u001b[0m/  \u001b[01;34mtwp_notebooks\u001b[0m/\r\n"
     ]
    }
   ],
   "source": [
    "ls ../"
   ]
  },
  {
   "cell_type": "markdown",
   "metadata": {},
   "source": [
    "# Overview of python basics #\n",
    "\n",
    "let's take a look at some Python basics that you should know by now.\n",
    "If you encounter something you are unfamiliar with, please take a look at [learnpython.org](http://www.learnpython.org)\n",
    "\n",
    "You should also take a look at these chapters of the [Python for Data Analysys (PDA) book](http://shop.oreilly.com/product/0636920023784.do)\n",
    "\n",
    "* Chapter 3: IPython: An Interactive Computing and Development Environment\n",
    "* Appendix: Python Language Essentials\n"
   ]
  },
  {
   "cell_type": "code",
   "execution_count": 3,
   "metadata": {
    "collapsed": false
   },
   "outputs": [
    {
     "name": "stdout",
     "output_type": "stream",
     "text": [
      "Hello world!\n"
     ]
    }
   ],
   "source": [
    "#printing is easy:\n",
    "print (\"Hello world!\")"
   ]
  },
  {
   "cell_type": "code",
   "execution_count": 4,
   "metadata": {
    "collapsed": false
   },
   "outputs": [
    {
     "name": "stdout",
     "output_type": "stream",
     "text": [
      "(3, 'some text', 3.0)\n"
     ]
    }
   ],
   "source": [
    "# simple variables\n",
    "a = 3\n",
    "b = 'some text'\n",
    "c = 3.0\n",
    "\n",
    "print((a, b, c))\n"
   ]
  },
  {
   "cell_type": "code",
   "execution_count": 5,
   "metadata": {
    "collapsed": false
   },
   "outputs": [
    {
     "name": "stdout",
     "output_type": "stream",
     "text": [
      "[1, 2, 3]\n",
      "[0, 1, 2, 3, 4, 5, 6, 7, 8, 9, 10, 11, 12, 13, 14, 15, 16, 17, 18, 19]\n"
     ]
    }
   ],
   "source": [
    "#lists\n",
    "L = [1,2,3]\n",
    "print(L)\n",
    "\n",
    "L = list(range(20))\n",
    "print(L)\n"
   ]
  },
  {
   "cell_type": "markdown",
   "metadata": {},
   "source": [
    "to get help for `range` function just type `range?`"
   ]
  },
  {
   "cell_type": "code",
   "execution_count": 6,
   "metadata": {
    "collapsed": false
   },
   "outputs": [],
   "source": [
    "#what is range\n",
    "range?"
   ]
  },
  {
   "cell_type": "markdown",
   "metadata": {},
   "source": [
    "You can remove the help popup by dragging it down or double-clicking on the division line."
   ]
  },
  {
   "cell_type": "code",
   "execution_count": 7,
   "metadata": {
    "collapsed": false
   },
   "outputs": [
    {
     "name": "stdout",
     "output_type": "stream",
     "text": [
      "<class 'dict'>\n",
      "(\"Value at 'two' is \", 2)\n"
     ]
    }
   ],
   "source": [
    "#dictionaries\n",
    "d = {'one':1,'two':2,'label':5}\n",
    "print((type(d)))\n",
    "print((\"Value at 'two' is \", d['two']))"
   ]
  },
  {
   "cell_type": "code",
   "execution_count": 8,
   "metadata": {
    "collapsed": false
   },
   "outputs": [
    {
     "name": "stdout",
     "output_type": "stream",
     "text": [
      "2\n",
      "3\n",
      "5\n",
      "7\n"
     ]
    }
   ],
   "source": [
    "#loops\n",
    "primes = [2,3,5,7]\n",
    "for prime in primes:\n",
    "    print(prime)\n"
   ]
  },
  {
   "cell_type": "code",
   "execution_count": 9,
   "metadata": {
    "collapsed": false
   },
   "outputs": [
    {
     "name": "stdout",
     "output_type": "stream",
     "text": [
      "('number:', 20)\n"
     ]
    }
   ],
   "source": [
    "#functions\n",
    "def my_function(n):\n",
    "    print((\"number:\", n))\n",
    "    \n",
    "my_function(20)\n",
    "    \n"
   ]
  },
  {
   "cell_type": "code",
   "execution_count": 10,
   "metadata": {
    "collapsed": false
   },
   "outputs": [
    {
     "name": "stdout",
     "output_type": "stream",
     "text": [
      "Hello world!\n"
     ]
    }
   ],
   "source": [
    "#classes\n",
    "class MyClass:\n",
    "    variable = \"blah\"\n",
    "\n",
    "    def function(self):\n",
    "        \"\"\" this function prints a message \"\"\"\n",
    "        print(\"Hello world!\")\n",
    "            \n",
    "    \n",
    "            \n",
    "c = MyClass()           \n",
    "c.function()\n"
   ]
  },
  {
   "cell_type": "code",
   "execution_count": 11,
   "metadata": {
    "collapsed": false
   },
   "outputs": [
    {
     "ename": "ZeroDivisionError",
     "evalue": "division by zero",
     "output_type": "error",
     "traceback": [
      "\u001b[1;31m---------------------------------------------------------------------------\u001b[0m",
      "\u001b[1;31mZeroDivisionError\u001b[0m                         Traceback (most recent call last)",
      "\u001b[1;32m<ipython-input-11-05c9758a9c21>\u001b[0m in \u001b[0;36m<module>\u001b[1;34m()\u001b[0m\n\u001b[1;32m----> 1\u001b[1;33m \u001b[1;36m1\u001b[0m\u001b[1;33m/\u001b[0m\u001b[1;36m0\u001b[0m\u001b[1;33m\u001b[0m\u001b[0m\n\u001b[0m",
      "\u001b[1;31mZeroDivisionError\u001b[0m: division by zero"
     ]
    }
   ],
   "source": [
    "1/0"
   ]
  },
  {
   "cell_type": "markdown",
   "metadata": {},
   "source": [
    "This is basically a *very* short overview of python programming language, which is not very special except for the clear syntax. In the next session we'll take a look at what makes Python so powerful for scientific and financial applications: numpy."
   ]
  }
 ],
 "metadata": {
  "kernelspec": {
   "display_name": "Python 3",
   "language": "python",
   "name": "python3"
  },
  "language_info": {
   "codemirror_mode": {
    "name": "ipython",
    "version": 3
   },
   "file_extension": ".py",
   "mimetype": "text/x-python",
   "name": "python",
   "nbconvert_exporter": "python",
   "pygments_lexer": "ipython3",
   "version": "3.5.1"
  }
 },
 "nbformat": 4,
 "nbformat_minor": 0
}

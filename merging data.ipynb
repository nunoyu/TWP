{
 "cells": [
  {
   "cell_type": "markdown",
   "metadata": {},
   "source": [
    "# Merging data with pandas\n",
    "\n",
    "A quick overview of the functionality is shown in [pandas cheatsheet](https://github.com/pandas-dev/pandas/blob/master/doc/cheatsheet/Pandas_Cheat_Sheet.pdf)\n",
    "\n",
    "For extensive documentation please see [pandas docs](http://pandas.pydata.org/pandas-docs/stable/merging.html)"
   ]
  },
  {
   "cell_type": "code",
   "execution_count": 1,
   "metadata": {
    "collapsed": true
   },
   "outputs": [],
   "source": [
    "import pandas as pd\n"
   ]
  },
  {
   "cell_type": "markdown",
   "metadata": {},
   "source": [
    "Most frequently I join separate series by creating a DataFrame with a dict, like shown below.\n",
    "pandas is able to figure out how deal with index, even if individual lengths of the series are not equal."
   ]
  },
  {
   "cell_type": "code",
   "execution_count": 2,
   "metadata": {
    "collapsed": false
   },
   "outputs": [
    {
     "data": {
      "text/html": [
       "<div>\n",
       "<table border=\"1\" class=\"dataframe\">\n",
       "  <thead>\n",
       "    <tr style=\"text-align: right;\">\n",
       "      <th></th>\n",
       "      <th>A</th>\n",
       "      <th>B</th>\n",
       "      <th>C</th>\n",
       "    </tr>\n",
       "  </thead>\n",
       "  <tbody>\n",
       "    <tr>\n",
       "      <th>a</th>\n",
       "      <td>1.0</td>\n",
       "      <td>1.0</td>\n",
       "      <td>1.0</td>\n",
       "    </tr>\n",
       "    <tr>\n",
       "      <th>b</th>\n",
       "      <td>2.0</td>\n",
       "      <td>2.0</td>\n",
       "      <td>2.0</td>\n",
       "    </tr>\n",
       "    <tr>\n",
       "      <th>c</th>\n",
       "      <td>3.0</td>\n",
       "      <td>NaN</td>\n",
       "      <td>NaN</td>\n",
       "    </tr>\n",
       "    <tr>\n",
       "      <th>d</th>\n",
       "      <td>NaN</td>\n",
       "      <td>3.0</td>\n",
       "      <td>NaN</td>\n",
       "    </tr>\n",
       "    <tr>\n",
       "      <th>f</th>\n",
       "      <td>NaN</td>\n",
       "      <td>4.0</td>\n",
       "      <td>NaN</td>\n",
       "    </tr>\n",
       "    <tr>\n",
       "      <th>g</th>\n",
       "      <td>NaN</td>\n",
       "      <td>NaN</td>\n",
       "      <td>3.0</td>\n",
       "    </tr>\n",
       "  </tbody>\n",
       "</table>\n",
       "</div>"
      ],
      "text/plain": [
       "     A    B    C\n",
       "a  1.0  1.0  1.0\n",
       "b  2.0  2.0  2.0\n",
       "c  3.0  NaN  NaN\n",
       "d  NaN  3.0  NaN\n",
       "f  NaN  4.0  NaN\n",
       "g  NaN  NaN  3.0"
      ]
     },
     "execution_count": 2,
     "metadata": {},
     "output_type": "execute_result"
    }
   ],
   "source": [
    "a = pd.Series(index=['a','b','c'], data=[1,2,3])\n",
    "b = pd.Series(index=['a','b','d','f'], data=[1,2,3,4])\n",
    "c = pd.Series(index=['a','b','g'],data=[1,2,3])\n",
    "\n",
    "df = pd.DataFrame({'A':a,'B':b,'C':c})\n",
    "df"
   ]
  },
  {
   "cell_type": "markdown",
   "metadata": {},
   "source": [
    "you may drop rows with incomplete data with `dropna`"
   ]
  },
  {
   "cell_type": "code",
   "execution_count": 3,
   "metadata": {
    "collapsed": false
   },
   "outputs": [
    {
     "data": {
      "text/html": [
       "<div>\n",
       "<table border=\"1\" class=\"dataframe\">\n",
       "  <thead>\n",
       "    <tr style=\"text-align: right;\">\n",
       "      <th></th>\n",
       "      <th>A</th>\n",
       "      <th>B</th>\n",
       "      <th>C</th>\n",
       "    </tr>\n",
       "  </thead>\n",
       "  <tbody>\n",
       "    <tr>\n",
       "      <th>a</th>\n",
       "      <td>1.0</td>\n",
       "      <td>1.0</td>\n",
       "      <td>1.0</td>\n",
       "    </tr>\n",
       "    <tr>\n",
       "      <th>b</th>\n",
       "      <td>2.0</td>\n",
       "      <td>2.0</td>\n",
       "      <td>2.0</td>\n",
       "    </tr>\n",
       "  </tbody>\n",
       "</table>\n",
       "</div>"
      ],
      "text/plain": [
       "     A    B    C\n",
       "a  1.0  1.0  1.0\n",
       "b  2.0  2.0  2.0"
      ]
     },
     "execution_count": 3,
     "metadata": {},
     "output_type": "execute_result"
    }
   ],
   "source": [
    "df.dropna()"
   ]
  },
  {
   "cell_type": "markdown",
   "metadata": {},
   "source": [
    "## Try with time series\n",
    "\n",
    "The main difference here is that we'll be working with `DataFrame` objects instead of series. \n",
    "These can be joined together with `join` method."
   ]
  },
  {
   "cell_type": "code",
   "execution_count": 4,
   "metadata": {
    "collapsed": true
   },
   "outputs": [],
   "source": [
    "from tradingWithPython import yahooFinance, cboe\n",
    "pd.options.display.max_rows = 6 \n",
    "pd.options.display.precision = 2 #  decimal precision"
   ]
  },
  {
   "cell_type": "code",
   "execution_count": 5,
   "metadata": {
    "collapsed": false
   },
   "outputs": [
    {
     "name": "stdout",
     "output_type": "stream",
     "text": [
      "Downloading VIX from http://www.cboe.com/publish/ScheduledTask/MktData/datahouse/vixcurrent.csv\n",
      "Downloading VXV from http://www.cboe.com/publish/scheduledtask/mktdata/datahouse/vxvdailyprices.csv\n",
      "Downloading VXMT from http://www.cboe.com/publish/ScheduledTask/MktData/datahouse/vxmtdailyprices.csv\n",
      "Downloading VVIX from http://www.cboe.com/publish/scheduledtask/mktdata/datahouse/VVIXtimeseries.csv\n"
     ]
    },
    {
     "data": {
      "text/html": [
       "<div>\n",
       "<table border=\"1\" class=\"dataframe\">\n",
       "  <thead>\n",
       "    <tr style=\"text-align: right;\">\n",
       "      <th></th>\n",
       "      <th>VIX</th>\n",
       "      <th>VVIX</th>\n",
       "      <th>VXMT</th>\n",
       "      <th>VXV</th>\n",
       "    </tr>\n",
       "  </thead>\n",
       "  <tbody>\n",
       "    <tr>\n",
       "      <th>2004-01-02</th>\n",
       "      <td>18.22</td>\n",
       "      <td>NaN</td>\n",
       "      <td>NaN</td>\n",
       "      <td>NaN</td>\n",
       "    </tr>\n",
       "    <tr>\n",
       "      <th>2004-01-05</th>\n",
       "      <td>17.49</td>\n",
       "      <td>NaN</td>\n",
       "      <td>NaN</td>\n",
       "      <td>NaN</td>\n",
       "    </tr>\n",
       "    <tr>\n",
       "      <th>2004-01-06</th>\n",
       "      <td>16.73</td>\n",
       "      <td>NaN</td>\n",
       "      <td>NaN</td>\n",
       "      <td>NaN</td>\n",
       "    </tr>\n",
       "    <tr>\n",
       "      <th>...</th>\n",
       "      <td>...</td>\n",
       "      <td>...</td>\n",
       "      <td>...</td>\n",
       "      <td>...</td>\n",
       "    </tr>\n",
       "    <tr>\n",
       "      <th>2017-02-08</th>\n",
       "      <td>11.45</td>\n",
       "      <td>94.58</td>\n",
       "      <td>16.60</td>\n",
       "      <td>14.56</td>\n",
       "    </tr>\n",
       "    <tr>\n",
       "      <th>2017-02-09</th>\n",
       "      <td>10.88</td>\n",
       "      <td>89.59</td>\n",
       "      <td>16.35</td>\n",
       "      <td>14.17</td>\n",
       "    </tr>\n",
       "    <tr>\n",
       "      <th>2017-02-10</th>\n",
       "      <td>10.85</td>\n",
       "      <td>85.77</td>\n",
       "      <td>16.17</td>\n",
       "      <td>13.91</td>\n",
       "    </tr>\n",
       "  </tbody>\n",
       "</table>\n",
       "<p>3301 rows × 4 columns</p>\n",
       "</div>"
      ],
      "text/plain": [
       "              VIX   VVIX   VXMT    VXV\n",
       "2004-01-02  18.22    NaN    NaN    NaN\n",
       "2004-01-05  17.49    NaN    NaN    NaN\n",
       "2004-01-06  16.73    NaN    NaN    NaN\n",
       "...           ...    ...    ...    ...\n",
       "2017-02-08  11.45  94.58  16.60  14.56\n",
       "2017-02-09  10.88  89.59  16.35  14.17\n",
       "2017-02-10  10.85  85.77  16.17  13.91\n",
       "\n",
       "[3301 rows x 4 columns]"
      ]
     },
     "execution_count": 5,
     "metadata": {},
     "output_type": "execute_result"
    }
   ],
   "source": [
    "volData = cboe.getHistoricData()\n",
    "volData"
   ]
  },
  {
   "cell_type": "code",
   "execution_count": 6,
   "metadata": {
    "collapsed": false
   },
   "outputs": [
    {
     "name": "stdout",
     "output_type": "stream",
     "text": [
      "Downloading data:\n",
      " [*********************100%***********************]  2 of 2 complete"
     ]
    },
    {
     "data": {
      "text/html": [
       "<div>\n",
       "<table border=\"1\" class=\"dataframe\">\n",
       "  <thead>\n",
       "    <tr style=\"text-align: right;\">\n",
       "      <th></th>\n",
       "      <th>SPY</th>\n",
       "      <th>VXX</th>\n",
       "    </tr>\n",
       "  </thead>\n",
       "  <tbody>\n",
       "    <tr>\n",
       "      <th>1993-01-29</th>\n",
       "      <td>28.00</td>\n",
       "      <td>NaN</td>\n",
       "    </tr>\n",
       "    <tr>\n",
       "      <th>1993-02-01</th>\n",
       "      <td>28.20</td>\n",
       "      <td>NaN</td>\n",
       "    </tr>\n",
       "    <tr>\n",
       "      <th>1993-02-02</th>\n",
       "      <td>28.26</td>\n",
       "      <td>NaN</td>\n",
       "    </tr>\n",
       "    <tr>\n",
       "      <th>...</th>\n",
       "      <td>...</td>\n",
       "      <td>...</td>\n",
       "    </tr>\n",
       "    <tr>\n",
       "      <th>2017-02-08</th>\n",
       "      <td>229.24</td>\n",
       "      <td>18.88</td>\n",
       "    </tr>\n",
       "    <tr>\n",
       "      <th>2017-02-09</th>\n",
       "      <td>230.60</td>\n",
       "      <td>18.52</td>\n",
       "    </tr>\n",
       "    <tr>\n",
       "      <th>2017-02-10</th>\n",
       "      <td>231.51</td>\n",
       "      <td>18.21</td>\n",
       "    </tr>\n",
       "  </tbody>\n",
       "</table>\n",
       "<p>6054 rows × 2 columns</p>\n",
       "</div>"
      ],
      "text/plain": [
       "               SPY    VXX\n",
       "1993-01-29   28.00    NaN\n",
       "1993-02-01   28.20    NaN\n",
       "1993-02-02   28.26    NaN\n",
       "...            ...    ...\n",
       "2017-02-08  229.24  18.88\n",
       "2017-02-09  230.60  18.52\n",
       "2017-02-10  231.51  18.21\n",
       "\n",
       "[6054 rows x 2 columns]"
      ]
     },
     "execution_count": 6,
     "metadata": {},
     "output_type": "execute_result"
    }
   ],
   "source": [
    "priceData = yahooFinance.getHistoricData(['SPY','VXX']).minor_xs('adj_close')\n",
    "priceData"
   ]
  },
  {
   "cell_type": "code",
   "execution_count": 7,
   "metadata": {
    "collapsed": false
   },
   "outputs": [
    {
     "data": {
      "text/html": [
       "<div>\n",
       "<table border=\"1\" class=\"dataframe\">\n",
       "  <thead>\n",
       "    <tr style=\"text-align: right;\">\n",
       "      <th></th>\n",
       "      <th>VIX</th>\n",
       "      <th>VVIX</th>\n",
       "      <th>VXMT</th>\n",
       "      <th>VXV</th>\n",
       "      <th>SPY</th>\n",
       "      <th>VXX</th>\n",
       "    </tr>\n",
       "  </thead>\n",
       "  <tbody>\n",
       "    <tr>\n",
       "      <th>2004-01-02</th>\n",
       "      <td>18.22</td>\n",
       "      <td>NaN</td>\n",
       "      <td>NaN</td>\n",
       "      <td>NaN</td>\n",
       "      <td>85.52</td>\n",
       "      <td>NaN</td>\n",
       "    </tr>\n",
       "    <tr>\n",
       "      <th>2004-01-05</th>\n",
       "      <td>17.49</td>\n",
       "      <td>NaN</td>\n",
       "      <td>NaN</td>\n",
       "      <td>NaN</td>\n",
       "      <td>86.45</td>\n",
       "      <td>NaN</td>\n",
       "    </tr>\n",
       "    <tr>\n",
       "      <th>2004-01-06</th>\n",
       "      <td>16.73</td>\n",
       "      <td>NaN</td>\n",
       "      <td>NaN</td>\n",
       "      <td>NaN</td>\n",
       "      <td>86.53</td>\n",
       "      <td>NaN</td>\n",
       "    </tr>\n",
       "    <tr>\n",
       "      <th>...</th>\n",
       "      <td>...</td>\n",
       "      <td>...</td>\n",
       "      <td>...</td>\n",
       "      <td>...</td>\n",
       "      <td>...</td>\n",
       "      <td>...</td>\n",
       "    </tr>\n",
       "    <tr>\n",
       "      <th>2017-02-08</th>\n",
       "      <td>11.45</td>\n",
       "      <td>94.58</td>\n",
       "      <td>16.60</td>\n",
       "      <td>14.56</td>\n",
       "      <td>229.24</td>\n",
       "      <td>18.88</td>\n",
       "    </tr>\n",
       "    <tr>\n",
       "      <th>2017-02-09</th>\n",
       "      <td>10.88</td>\n",
       "      <td>89.59</td>\n",
       "      <td>16.35</td>\n",
       "      <td>14.17</td>\n",
       "      <td>230.60</td>\n",
       "      <td>18.52</td>\n",
       "    </tr>\n",
       "    <tr>\n",
       "      <th>2017-02-10</th>\n",
       "      <td>10.85</td>\n",
       "      <td>85.77</td>\n",
       "      <td>16.17</td>\n",
       "      <td>13.91</td>\n",
       "      <td>231.51</td>\n",
       "      <td>18.21</td>\n",
       "    </tr>\n",
       "  </tbody>\n",
       "</table>\n",
       "<p>3301 rows × 6 columns</p>\n",
       "</div>"
      ],
      "text/plain": [
       "              VIX   VVIX   VXMT    VXV     SPY    VXX\n",
       "2004-01-02  18.22    NaN    NaN    NaN   85.52    NaN\n",
       "2004-01-05  17.49    NaN    NaN    NaN   86.45    NaN\n",
       "2004-01-06  16.73    NaN    NaN    NaN   86.53    NaN\n",
       "...           ...    ...    ...    ...     ...    ...\n",
       "2017-02-08  11.45  94.58  16.60  14.56  229.24  18.88\n",
       "2017-02-09  10.88  89.59  16.35  14.17  230.60  18.52\n",
       "2017-02-10  10.85  85.77  16.17  13.91  231.51  18.21\n",
       "\n",
       "[3301 rows x 6 columns]"
      ]
     },
     "execution_count": 7,
     "metadata": {},
     "output_type": "execute_result"
    }
   ],
   "source": [
    "fullData = volData.join(priceData)\n",
    "fullData"
   ]
  },
  {
   "cell_type": "markdown",
   "metadata": {},
   "source": [
    "note that the index of `volData` is the same as `volData`\n",
    "\n",
    "of course we can now use `dropna` to remove empty rows.\n"
   ]
  },
  {
   "cell_type": "code",
   "execution_count": 8,
   "metadata": {
    "collapsed": false
   },
   "outputs": [
    {
     "data": {
      "text/html": [
       "<div>\n",
       "<table border=\"1\" class=\"dataframe\">\n",
       "  <thead>\n",
       "    <tr style=\"text-align: right;\">\n",
       "      <th></th>\n",
       "      <th>VIX</th>\n",
       "      <th>VVIX</th>\n",
       "      <th>VXMT</th>\n",
       "      <th>VXV</th>\n",
       "      <th>SPY</th>\n",
       "      <th>VXX</th>\n",
       "    </tr>\n",
       "  </thead>\n",
       "  <tbody>\n",
       "    <tr>\n",
       "      <th>2009-01-30</th>\n",
       "      <td>44.84</td>\n",
       "      <td>98.72</td>\n",
       "      <td>43.78</td>\n",
       "      <td>44.60</td>\n",
       "      <td>70.16</td>\n",
       "      <td>26772.48</td>\n",
       "    </tr>\n",
       "    <tr>\n",
       "      <th>2009-02-02</th>\n",
       "      <td>45.52</td>\n",
       "      <td>96.48</td>\n",
       "      <td>43.28</td>\n",
       "      <td>43.91</td>\n",
       "      <td>69.95</td>\n",
       "      <td>26688.00</td>\n",
       "    </tr>\n",
       "    <tr>\n",
       "      <th>2009-02-03</th>\n",
       "      <td>43.06</td>\n",
       "      <td>92.25</td>\n",
       "      <td>42.17</td>\n",
       "      <td>42.24</td>\n",
       "      <td>70.93</td>\n",
       "      <td>25438.72</td>\n",
       "    </tr>\n",
       "    <tr>\n",
       "      <th>...</th>\n",
       "      <td>...</td>\n",
       "      <td>...</td>\n",
       "      <td>...</td>\n",
       "      <td>...</td>\n",
       "      <td>...</td>\n",
       "      <td>...</td>\n",
       "    </tr>\n",
       "    <tr>\n",
       "      <th>2017-02-08</th>\n",
       "      <td>11.45</td>\n",
       "      <td>94.58</td>\n",
       "      <td>16.60</td>\n",
       "      <td>14.56</td>\n",
       "      <td>229.24</td>\n",
       "      <td>18.88</td>\n",
       "    </tr>\n",
       "    <tr>\n",
       "      <th>2017-02-09</th>\n",
       "      <td>10.88</td>\n",
       "      <td>89.59</td>\n",
       "      <td>16.35</td>\n",
       "      <td>14.17</td>\n",
       "      <td>230.60</td>\n",
       "      <td>18.52</td>\n",
       "    </tr>\n",
       "    <tr>\n",
       "      <th>2017-02-10</th>\n",
       "      <td>10.85</td>\n",
       "      <td>85.77</td>\n",
       "      <td>16.17</td>\n",
       "      <td>13.91</td>\n",
       "      <td>231.51</td>\n",
       "      <td>18.21</td>\n",
       "    </tr>\n",
       "  </tbody>\n",
       "</table>\n",
       "<p>2022 rows × 6 columns</p>\n",
       "</div>"
      ],
      "text/plain": [
       "              VIX   VVIX   VXMT    VXV     SPY       VXX\n",
       "2009-01-30  44.84  98.72  43.78  44.60   70.16  26772.48\n",
       "2009-02-02  45.52  96.48  43.28  43.91   69.95  26688.00\n",
       "2009-02-03  43.06  92.25  42.17  42.24   70.93  25438.72\n",
       "...           ...    ...    ...    ...     ...       ...\n",
       "2017-02-08  11.45  94.58  16.60  14.56  229.24     18.88\n",
       "2017-02-09  10.88  89.59  16.35  14.17  230.60     18.52\n",
       "2017-02-10  10.85  85.77  16.17  13.91  231.51     18.21\n",
       "\n",
       "[2022 rows x 6 columns]"
      ]
     },
     "execution_count": 8,
     "metadata": {},
     "output_type": "execute_result"
    }
   ],
   "source": [
    "fullData.dropna()"
   ]
  }
 ],
 "metadata": {
  "kernelspec": {
   "display_name": "Python [default]",
   "language": "python",
   "name": "python3"
  },
  "language_info": {
   "codemirror_mode": {
    "name": "ipython",
    "version": 3
   },
   "file_extension": ".py",
   "mimetype": "text/x-python",
   "name": "python",
   "nbconvert_exporter": "python",
   "pygments_lexer": "ipython3",
   "version": "3.5.2"
  }
 },
 "nbformat": 4,
 "nbformat_minor": 2
}

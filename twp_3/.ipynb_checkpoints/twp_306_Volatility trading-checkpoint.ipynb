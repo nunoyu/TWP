{
 "cells": [
  {
   "cell_type": "markdown",
   "metadata": {},
   "source": [
    "#Volatility strategies#\n",
    "\n",
    "Volatility trading has been gaining quite some attention lately and for a good reason. There is definately some money to be made there, but you need to be careful. Trading volatility often involves shorting it, which is a pretty risky business as 20% daily volatility spike is not that uncommon.\n",
    "\n",
    "Shorting the short-term volatility etn VXX may seem like a great idea when you look at the chart from quite a distance. Due to the contango in the volatility futures, the etn experiences quite some headwind most of the time and looses a little bit its value every day. This happens due to daily rebalancing, for more information please look into the prospect.\n",
    "\n",
    "#Strategy thesis#\n",
    "VXX experiences most drag when the futures curve is in a steep contango. The futures curve is approximated by the VIX-VXV relationship. We will short VXX when VXV has an unusually high premium over VIX.\n",
    "\n",
    "#Get the data#\n",
    "From Yahoo Finance we need the volatility ETNs VXX and VXZ and SPY. From CBOE we will get the volatility indices VIX (spot) and VXV (1-month)\n",
    "As usual, the twp toolbox offers help here. "
   ]
  },
  {
   "cell_type": "code",
   "execution_count": 1,
   "metadata": {
    "collapsed": false
   },
   "outputs": [
    {
     "name": "stdout",
     "output_type": "stream",
     "text": [
      "Populating the interactive namespace from numpy and matplotlib\n"
     ]
    }
   ],
   "source": [
    "%pylab inline\n",
    "figsize(15,8)"
   ]
  },
  {
   "cell_type": "code",
   "execution_count": 2,
   "metadata": {
    "collapsed": false
   },
   "outputs": [],
   "source": [
    "#import libraries\n",
    "import tradingWithPython as twp # general functions\n",
    "import tradingWithPython.lib.cboe as cboe # cboe data\n",
    "import tradingWithPython.lib.yahooFinance as yf  # yahooFinance data\n",
    "import pandas as pd"
   ]
  },
  {
   "cell_type": "code",
   "execution_count": 3,
   "metadata": {
    "collapsed": false
   },
   "outputs": [
    {
     "name": "stdout",
     "output_type": "stream",
     "text": [
      "Got 6049 days of data\n",
      "Got 2018 days of data\n",
      "Got 2004 days of data\n",
      "Downloading VIX from http://www.cboe.com/publish/ScheduledTask/MktData/datahouse/vixcurrent.csv\n",
      "Downloading VXV from http://www.cboe.com/publish/scheduledtask/mktdata/datahouse/vxvdailyprices.csv\n"
     ]
    }
   ],
   "source": [
    "# get data\n",
    "spy = yf.getHistoricData('SPY')['adj_close']\n",
    "vxx = yf.getHistoricData('VXX')['adj_close']\n",
    "vxz = yf.getHistoricData('VXZ')['adj_close']\n",
    "vix = cboe.getHistoricData('VIX') \n",
    "vxv = cboe.getHistoricData('VXV')\n"
   ]
  },
  {
   "cell_type": "code",
   "execution_count": 7,
   "metadata": {
    "collapsed": false
   },
   "outputs": [
    {
     "data": {
      "text/plain": [
       "pandas.core.frame.DataFrame"
      ]
     },
     "execution_count": 7,
     "metadata": {},
     "output_type": "execute_result"
    }
   ],
   "source": [
    "type(vxv)"
   ]
  },
  {
   "cell_type": "code",
   "execution_count": 8,
   "metadata": {
    "collapsed": false
   },
   "outputs": [
    {
     "data": {
      "text/plain": [
       "pandas.core.series.Series"
      ]
     },
     "execution_count": 8,
     "metadata": {},
     "output_type": "execute_result"
    }
   ],
   "source": [
    "type(spy)"
   ]
  },
  {
   "cell_type": "code",
   "execution_count": 4,
   "metadata": {
    "collapsed": false
   },
   "outputs": [
    {
     "ename": "ValueError",
     "evalue": "could not broadcast input array from shape (2309) into shape (3296)",
     "output_type": "error",
     "traceback": [
      "\u001b[0;31m---------------------------------------------------------------------------\u001b[0m",
      "\u001b[0;31mValueError\u001b[0m                                Traceback (most recent call last)",
      "\u001b[0;32m<ipython-input-4-82ae047d5d81>\u001b[0m in \u001b[0;36m<module>\u001b[0;34m()\u001b[0m\n\u001b[1;32m      1\u001b[0m \u001b[1;31m#combine all data to a single DataFrame\u001b[0m\u001b[1;33m\u001b[0m\u001b[1;33m\u001b[0m\u001b[0m\n\u001b[1;32m      2\u001b[0m \u001b[1;33m\u001b[0m\u001b[0m\n\u001b[0;32m----> 3\u001b[0;31m \u001b[0mdf\u001b[0m \u001b[1;33m=\u001b[0m \u001b[0mpd\u001b[0m\u001b[1;33m.\u001b[0m\u001b[0mDataFrame\u001b[0m\u001b[1;33m(\u001b[0m\u001b[1;33m{\u001b[0m\u001b[1;34m'SPY'\u001b[0m\u001b[1;33m:\u001b[0m\u001b[0mspy\u001b[0m\u001b[1;33m,\u001b[0m\u001b[1;34m'VXX'\u001b[0m\u001b[1;33m:\u001b[0m\u001b[0mvxx\u001b[0m\u001b[1;33m,\u001b[0m\u001b[1;34m'VXZ'\u001b[0m\u001b[1;33m:\u001b[0m\u001b[0mvxz\u001b[0m\u001b[1;33m,\u001b[0m\u001b[1;34m'VIX'\u001b[0m\u001b[1;33m:\u001b[0m\u001b[0mvix\u001b[0m\u001b[1;33m,\u001b[0m\u001b[1;34m'VXV'\u001b[0m\u001b[1;33m:\u001b[0m\u001b[0mvxv\u001b[0m\u001b[1;33m}\u001b[0m\u001b[1;33m)\u001b[0m\u001b[1;33m.\u001b[0m\u001b[0mdropna\u001b[0m\u001b[1;33m(\u001b[0m\u001b[1;33m)\u001b[0m \u001b[1;31m#直接合并，不同的index范围，直接被dropna了。\u001b[0m\u001b[1;33m\u001b[0m\u001b[0m\n\u001b[0m\u001b[1;32m      4\u001b[0m \u001b[0mdf\u001b[0m\u001b[1;33m.\u001b[0m\u001b[0mplot\u001b[0m\u001b[1;33m(\u001b[0m\u001b[1;33m)\u001b[0m\u001b[1;33m\u001b[0m\u001b[0m\n",
      "\u001b[0;32mC:\\Users\\User\\Anaconda2\\envs\\py35\\lib\\site-packages\\pandas\\core\\frame.py\u001b[0m in \u001b[0;36m__init__\u001b[0;34m(self, data, index, columns, dtype, copy)\u001b[0m\n\u001b[1;32m    222\u001b[0m                                  dtype=dtype, copy=copy)\n\u001b[1;32m    223\u001b[0m         \u001b[1;32melif\u001b[0m \u001b[0misinstance\u001b[0m\u001b[1;33m(\u001b[0m\u001b[0mdata\u001b[0m\u001b[1;33m,\u001b[0m \u001b[0mdict\u001b[0m\u001b[1;33m)\u001b[0m\u001b[1;33m:\u001b[0m\u001b[1;33m\u001b[0m\u001b[0m\n\u001b[0;32m--> 224\u001b[0;31m             \u001b[0mmgr\u001b[0m \u001b[1;33m=\u001b[0m \u001b[0mself\u001b[0m\u001b[1;33m.\u001b[0m\u001b[0m_init_dict\u001b[0m\u001b[1;33m(\u001b[0m\u001b[0mdata\u001b[0m\u001b[1;33m,\u001b[0m \u001b[0mindex\u001b[0m\u001b[1;33m,\u001b[0m \u001b[0mcolumns\u001b[0m\u001b[1;33m,\u001b[0m \u001b[0mdtype\u001b[0m\u001b[1;33m=\u001b[0m\u001b[0mdtype\u001b[0m\u001b[1;33m)\u001b[0m\u001b[1;33m\u001b[0m\u001b[0m\n\u001b[0m\u001b[1;32m    225\u001b[0m         \u001b[1;32melif\u001b[0m \u001b[0misinstance\u001b[0m\u001b[1;33m(\u001b[0m\u001b[0mdata\u001b[0m\u001b[1;33m,\u001b[0m \u001b[0mma\u001b[0m\u001b[1;33m.\u001b[0m\u001b[0mMaskedArray\u001b[0m\u001b[1;33m)\u001b[0m\u001b[1;33m:\u001b[0m\u001b[1;33m\u001b[0m\u001b[0m\n\u001b[1;32m    226\u001b[0m             \u001b[1;32mimport\u001b[0m \u001b[0mnumpy\u001b[0m\u001b[1;33m.\u001b[0m\u001b[0mma\u001b[0m\u001b[1;33m.\u001b[0m\u001b[0mmrecords\u001b[0m \u001b[1;32mas\u001b[0m \u001b[0mmrecords\u001b[0m\u001b[1;33m\u001b[0m\u001b[0m\n",
      "\u001b[0;32mC:\\Users\\User\\Anaconda2\\envs\\py35\\lib\\site-packages\\pandas\\core\\frame.py\u001b[0m in \u001b[0;36m_init_dict\u001b[0;34m(self, data, index, columns, dtype)\u001b[0m\n\u001b[1;32m    358\u001b[0m             \u001b[0marrays\u001b[0m \u001b[1;33m=\u001b[0m \u001b[1;33m[\u001b[0m\u001b[0mdata\u001b[0m\u001b[1;33m[\u001b[0m\u001b[0mk\u001b[0m\u001b[1;33m]\u001b[0m \u001b[1;32mfor\u001b[0m \u001b[0mk\u001b[0m \u001b[1;32min\u001b[0m \u001b[0mkeys\u001b[0m\u001b[1;33m]\u001b[0m\u001b[1;33m\u001b[0m\u001b[0m\n\u001b[1;32m    359\u001b[0m \u001b[1;33m\u001b[0m\u001b[0m\n\u001b[0;32m--> 360\u001b[0;31m         \u001b[1;32mreturn\u001b[0m \u001b[0m_arrays_to_mgr\u001b[0m\u001b[1;33m(\u001b[0m\u001b[0marrays\u001b[0m\u001b[1;33m,\u001b[0m \u001b[0mdata_names\u001b[0m\u001b[1;33m,\u001b[0m \u001b[0mindex\u001b[0m\u001b[1;33m,\u001b[0m \u001b[0mcolumns\u001b[0m\u001b[1;33m,\u001b[0m \u001b[0mdtype\u001b[0m\u001b[1;33m=\u001b[0m\u001b[0mdtype\u001b[0m\u001b[1;33m)\u001b[0m\u001b[1;33m\u001b[0m\u001b[0m\n\u001b[0m\u001b[1;32m    361\u001b[0m \u001b[1;33m\u001b[0m\u001b[0m\n\u001b[1;32m    362\u001b[0m     \u001b[1;32mdef\u001b[0m \u001b[0m_init_ndarray\u001b[0m\u001b[1;33m(\u001b[0m\u001b[0mself\u001b[0m\u001b[1;33m,\u001b[0m \u001b[0mvalues\u001b[0m\u001b[1;33m,\u001b[0m \u001b[0mindex\u001b[0m\u001b[1;33m,\u001b[0m \u001b[0mcolumns\u001b[0m\u001b[1;33m,\u001b[0m \u001b[0mdtype\u001b[0m\u001b[1;33m=\u001b[0m\u001b[1;32mNone\u001b[0m\u001b[1;33m,\u001b[0m \u001b[0mcopy\u001b[0m\u001b[1;33m=\u001b[0m\u001b[1;32mFalse\u001b[0m\u001b[1;33m)\u001b[0m\u001b[1;33m:\u001b[0m\u001b[1;33m\u001b[0m\u001b[0m\n",
      "\u001b[0;32mC:\\Users\\User\\Anaconda2\\envs\\py35\\lib\\site-packages\\pandas\\core\\frame.py\u001b[0m in \u001b[0;36m_arrays_to_mgr\u001b[0;34m(arrays, arr_names, index, columns, dtype)\u001b[0m\n\u001b[1;32m   5239\u001b[0m     \u001b[0maxes\u001b[0m \u001b[1;33m=\u001b[0m \u001b[1;33m[\u001b[0m\u001b[0m_ensure_index\u001b[0m\u001b[1;33m(\u001b[0m\u001b[0mcolumns\u001b[0m\u001b[1;33m)\u001b[0m\u001b[1;33m,\u001b[0m \u001b[0m_ensure_index\u001b[0m\u001b[1;33m(\u001b[0m\u001b[0mindex\u001b[0m\u001b[1;33m)\u001b[0m\u001b[1;33m]\u001b[0m\u001b[1;33m\u001b[0m\u001b[0m\n\u001b[1;32m   5240\u001b[0m \u001b[1;33m\u001b[0m\u001b[0m\n\u001b[0;32m-> 5241\u001b[0;31m     \u001b[1;32mreturn\u001b[0m \u001b[0mcreate_block_manager_from_arrays\u001b[0m\u001b[1;33m(\u001b[0m\u001b[0marrays\u001b[0m\u001b[1;33m,\u001b[0m \u001b[0marr_names\u001b[0m\u001b[1;33m,\u001b[0m \u001b[0maxes\u001b[0m\u001b[1;33m)\u001b[0m\u001b[1;33m\u001b[0m\u001b[0m\n\u001b[0m\u001b[1;32m   5242\u001b[0m \u001b[1;33m\u001b[0m\u001b[0m\n\u001b[1;32m   5243\u001b[0m \u001b[1;33m\u001b[0m\u001b[0m\n",
      "\u001b[0;32mC:\\Users\\User\\Anaconda2\\envs\\py35\\lib\\site-packages\\pandas\\core\\internals.py\u001b[0m in \u001b[0;36mcreate_block_manager_from_arrays\u001b[0;34m(arrays, names, axes)\u001b[0m\n\u001b[1;32m   4002\u001b[0m         \u001b[1;32mreturn\u001b[0m \u001b[0mmgr\u001b[0m\u001b[1;33m\u001b[0m\u001b[0m\n\u001b[1;32m   4003\u001b[0m     \u001b[1;32mexcept\u001b[0m \u001b[0mValueError\u001b[0m \u001b[1;32mas\u001b[0m \u001b[0me\u001b[0m\u001b[1;33m:\u001b[0m\u001b[1;33m\u001b[0m\u001b[0m\n\u001b[0;32m-> 4004\u001b[0;31m         \u001b[0mconstruction_error\u001b[0m\u001b[1;33m(\u001b[0m\u001b[0mlen\u001b[0m\u001b[1;33m(\u001b[0m\u001b[0marrays\u001b[0m\u001b[1;33m)\u001b[0m\u001b[1;33m,\u001b[0m \u001b[0marrays\u001b[0m\u001b[1;33m[\u001b[0m\u001b[1;36m0\u001b[0m\u001b[1;33m]\u001b[0m\u001b[1;33m.\u001b[0m\u001b[0mshape\u001b[0m\u001b[1;33m,\u001b[0m \u001b[0maxes\u001b[0m\u001b[1;33m,\u001b[0m \u001b[0me\u001b[0m\u001b[1;33m)\u001b[0m\u001b[1;33m\u001b[0m\u001b[0m\n\u001b[0m\u001b[1;32m   4005\u001b[0m \u001b[1;33m\u001b[0m\u001b[0m\n\u001b[1;32m   4006\u001b[0m \u001b[1;33m\u001b[0m\u001b[0m\n",
      "\u001b[0;32mC:\\Users\\User\\Anaconda2\\envs\\py35\\lib\\site-packages\\pandas\\core\\internals.py\u001b[0m in \u001b[0;36mconstruction_error\u001b[0;34m(tot_items, block_shape, axes, e)\u001b[0m\n\u001b[1;32m   3964\u001b[0m     \u001b[0mimplied\u001b[0m \u001b[1;33m=\u001b[0m \u001b[0mtuple\u001b[0m\u001b[1;33m(\u001b[0m\u001b[0mmap\u001b[0m\u001b[1;33m(\u001b[0m\u001b[0mint\u001b[0m\u001b[1;33m,\u001b[0m \u001b[1;33m[\u001b[0m\u001b[0mlen\u001b[0m\u001b[1;33m(\u001b[0m\u001b[0max\u001b[0m\u001b[1;33m)\u001b[0m \u001b[1;32mfor\u001b[0m \u001b[0max\u001b[0m \u001b[1;32min\u001b[0m \u001b[0maxes\u001b[0m\u001b[1;33m]\u001b[0m\u001b[1;33m)\u001b[0m\u001b[1;33m)\u001b[0m\u001b[1;33m\u001b[0m\u001b[0m\n\u001b[1;32m   3965\u001b[0m     \u001b[1;32mif\u001b[0m \u001b[0mpassed\u001b[0m \u001b[1;33m==\u001b[0m \u001b[0mimplied\u001b[0m \u001b[1;32mand\u001b[0m \u001b[0me\u001b[0m \u001b[1;32mis\u001b[0m \u001b[1;32mnot\u001b[0m \u001b[1;32mNone\u001b[0m\u001b[1;33m:\u001b[0m\u001b[1;33m\u001b[0m\u001b[0m\n\u001b[0;32m-> 3966\u001b[0;31m         \u001b[1;32mraise\u001b[0m \u001b[0me\u001b[0m\u001b[1;33m\u001b[0m\u001b[0m\n\u001b[0m\u001b[1;32m   3967\u001b[0m     \u001b[1;32mif\u001b[0m \u001b[0mblock_shape\u001b[0m\u001b[1;33m[\u001b[0m\u001b[1;36m0\u001b[0m\u001b[1;33m]\u001b[0m \u001b[1;33m==\u001b[0m \u001b[1;36m0\u001b[0m\u001b[1;33m:\u001b[0m\u001b[1;33m\u001b[0m\u001b[0m\n\u001b[1;32m   3968\u001b[0m         \u001b[1;32mraise\u001b[0m \u001b[0mValueError\u001b[0m\u001b[1;33m(\u001b[0m\u001b[1;34m\"Empty data passed with indices specified.\"\u001b[0m\u001b[1;33m)\u001b[0m\u001b[1;33m\u001b[0m\u001b[0m\n",
      "\u001b[0;32mC:\\Users\\User\\Anaconda2\\envs\\py35\\lib\\site-packages\\pandas\\core\\internals.py\u001b[0m in \u001b[0;36mcreate_block_manager_from_arrays\u001b[0;34m(arrays, names, axes)\u001b[0m\n\u001b[1;32m   3997\u001b[0m \u001b[1;33m\u001b[0m\u001b[0m\n\u001b[1;32m   3998\u001b[0m     \u001b[1;32mtry\u001b[0m\u001b[1;33m:\u001b[0m\u001b[1;33m\u001b[0m\u001b[0m\n\u001b[0;32m-> 3999\u001b[0;31m         \u001b[0mblocks\u001b[0m \u001b[1;33m=\u001b[0m \u001b[0mform_blocks\u001b[0m\u001b[1;33m(\u001b[0m\u001b[0marrays\u001b[0m\u001b[1;33m,\u001b[0m \u001b[0mnames\u001b[0m\u001b[1;33m,\u001b[0m \u001b[0maxes\u001b[0m\u001b[1;33m)\u001b[0m\u001b[1;33m\u001b[0m\u001b[0m\n\u001b[0m\u001b[1;32m   4000\u001b[0m         \u001b[0mmgr\u001b[0m \u001b[1;33m=\u001b[0m \u001b[0mBlockManager\u001b[0m\u001b[1;33m(\u001b[0m\u001b[0mblocks\u001b[0m\u001b[1;33m,\u001b[0m \u001b[0maxes\u001b[0m\u001b[1;33m)\u001b[0m\u001b[1;33m\u001b[0m\u001b[0m\n\u001b[1;32m   4001\u001b[0m         \u001b[0mmgr\u001b[0m\u001b[1;33m.\u001b[0m\u001b[0m_consolidate_inplace\u001b[0m\u001b[1;33m(\u001b[0m\u001b[1;33m)\u001b[0m\u001b[1;33m\u001b[0m\u001b[0m\n",
      "\u001b[0;32mC:\\Users\\User\\Anaconda2\\envs\\py35\\lib\\site-packages\\pandas\\core\\internals.py\u001b[0m in \u001b[0;36mform_blocks\u001b[0;34m(arrays, names, axes)\u001b[0m\n\u001b[1;32m   4094\u001b[0m \u001b[1;33m\u001b[0m\u001b[0m\n\u001b[1;32m   4095\u001b[0m     \u001b[1;32mif\u001b[0m \u001b[0mlen\u001b[0m\u001b[1;33m(\u001b[0m\u001b[0mobject_items\u001b[0m\u001b[1;33m)\u001b[0m \u001b[1;33m>\u001b[0m \u001b[1;36m0\u001b[0m\u001b[1;33m:\u001b[0m\u001b[1;33m\u001b[0m\u001b[0m\n\u001b[0;32m-> 4096\u001b[0;31m         \u001b[0mobject_blocks\u001b[0m \u001b[1;33m=\u001b[0m \u001b[0m_simple_blockify\u001b[0m\u001b[1;33m(\u001b[0m\u001b[0mobject_items\u001b[0m\u001b[1;33m,\u001b[0m \u001b[0mnp\u001b[0m\u001b[1;33m.\u001b[0m\u001b[0mobject_\u001b[0m\u001b[1;33m)\u001b[0m\u001b[1;33m\u001b[0m\u001b[0m\n\u001b[0m\u001b[1;32m   4097\u001b[0m         \u001b[0mblocks\u001b[0m\u001b[1;33m.\u001b[0m\u001b[0mextend\u001b[0m\u001b[1;33m(\u001b[0m\u001b[0mobject_blocks\u001b[0m\u001b[1;33m)\u001b[0m\u001b[1;33m\u001b[0m\u001b[0m\n\u001b[1;32m   4098\u001b[0m \u001b[1;33m\u001b[0m\u001b[0m\n",
      "\u001b[0;32mC:\\Users\\User\\Anaconda2\\envs\\py35\\lib\\site-packages\\pandas\\core\\internals.py\u001b[0m in \u001b[0;36m_simple_blockify\u001b[0;34m(tuples, dtype)\u001b[0m\n\u001b[1;32m   4124\u001b[0m     \u001b[1;32mnot\u001b[0m \u001b[1;32mNone\u001b[0m\u001b[1;33m,\u001b[0m \u001b[0mcoerce\u001b[0m \u001b[0mto\u001b[0m \u001b[0mthis\u001b[0m \u001b[0mdtype\u001b[0m\u001b[1;33m\u001b[0m\u001b[0m\n\u001b[1;32m   4125\u001b[0m     \"\"\"\n\u001b[0;32m-> 4126\u001b[0;31m     \u001b[0mvalues\u001b[0m\u001b[1;33m,\u001b[0m \u001b[0mplacement\u001b[0m \u001b[1;33m=\u001b[0m \u001b[0m_stack_arrays\u001b[0m\u001b[1;33m(\u001b[0m\u001b[0mtuples\u001b[0m\u001b[1;33m,\u001b[0m \u001b[0mdtype\u001b[0m\u001b[1;33m)\u001b[0m\u001b[1;33m\u001b[0m\u001b[0m\n\u001b[0m\u001b[1;32m   4127\u001b[0m \u001b[1;33m\u001b[0m\u001b[0m\n\u001b[1;32m   4128\u001b[0m     \u001b[1;31m# CHECK DTYPE?\u001b[0m\u001b[1;33m\u001b[0m\u001b[1;33m\u001b[0m\u001b[0m\n",
      "\u001b[0;32mC:\\Users\\User\\Anaconda2\\envs\\py35\\lib\\site-packages\\pandas\\core\\internals.py\u001b[0m in \u001b[0;36m_stack_arrays\u001b[0;34m(tuples, dtype)\u001b[0m\n\u001b[1;32m   4188\u001b[0m     \u001b[0mstacked\u001b[0m \u001b[1;33m=\u001b[0m \u001b[0mnp\u001b[0m\u001b[1;33m.\u001b[0m\u001b[0mempty\u001b[0m\u001b[1;33m(\u001b[0m\u001b[0mshape\u001b[0m\u001b[1;33m,\u001b[0m \u001b[0mdtype\u001b[0m\u001b[1;33m=\u001b[0m\u001b[0mdtype\u001b[0m\u001b[1;33m)\u001b[0m\u001b[1;33m\u001b[0m\u001b[0m\n\u001b[1;32m   4189\u001b[0m     \u001b[1;32mfor\u001b[0m \u001b[0mi\u001b[0m\u001b[1;33m,\u001b[0m \u001b[0marr\u001b[0m \u001b[1;32min\u001b[0m \u001b[0menumerate\u001b[0m\u001b[1;33m(\u001b[0m\u001b[0marrays\u001b[0m\u001b[1;33m)\u001b[0m\u001b[1;33m:\u001b[0m\u001b[1;33m\u001b[0m\u001b[0m\n\u001b[0;32m-> 4190\u001b[0;31m         \u001b[0mstacked\u001b[0m\u001b[1;33m[\u001b[0m\u001b[0mi\u001b[0m\u001b[1;33m]\u001b[0m \u001b[1;33m=\u001b[0m \u001b[0m_asarray_compat\u001b[0m\u001b[1;33m(\u001b[0m\u001b[0marr\u001b[0m\u001b[1;33m)\u001b[0m\u001b[1;33m\u001b[0m\u001b[0m\n\u001b[0m\u001b[1;32m   4191\u001b[0m \u001b[1;33m\u001b[0m\u001b[0m\n\u001b[1;32m   4192\u001b[0m     \u001b[1;32mreturn\u001b[0m \u001b[0mstacked\u001b[0m\u001b[1;33m,\u001b[0m \u001b[0mplacement\u001b[0m\u001b[1;33m\u001b[0m\u001b[0m\n",
      "\u001b[0;31mValueError\u001b[0m: could not broadcast input array from shape (2309) into shape (3296)"
     ]
    }
   ],
   "source": [
    "#combine all data to a single DataFrame\n",
    "df = pd.DataFrame({'SPY':spy,'VXX':vxx,'VXZ':vxz,'VIX':vix,'VXV':vxv}).dropna() #直接合并，不同的index范围，直接被dropna了。\n",
    "df.plot()"
   ]
  },
  {
   "cell_type": "markdown",
   "metadata": {},
   "source": [
    "#Research relationship VIX-VXV#\n",
    "The ratio of VIX to VXV gives a good indication of the steepness of the fututures curve. The two are closely (co)related. Working with VIX/VXV ratio has been discussed in the blogsphere for some time, the best place to start is probably the [VIX an More blog](http://vixandmore.blogspot.nl/search/label/VIX%3AVXV)."
   ]
  },
  {
   "cell_type": "code",
   "execution_count": null,
   "metadata": {
    "collapsed": false
   },
   "outputs": [],
   "source": [
    "vol = pd.DataFrame({'VIX':vix,'VXV':vxv}).dropna() # volatility DataFrame\n",
    "vol.plot()"
   ]
  },
  {
   "cell_type": "markdown",
   "metadata": {},
   "source": [
    "I'll assume that the relationship between VXV and VIX is a second order polynome, our model will be VXV = a*VIX^2+b*VIX+c . I aslo could have used a simple linear first-order fit. A higher order (3 or more) fit is not favorable here as it is just to sensitive to overfitting."
   ]
  },
  {
   "cell_type": "code",
   "execution_count": null,
   "metadata": {
    "collapsed": false
   },
   "outputs": [],
   "source": [
    "x = vol.VIX.values # independant variable vector\n",
    "y = vol.VXV.values # dependant variable vector\n",
    "\n",
    "order = 2 # fit order. 1-linear , 2-quadratic\n",
    "\n",
    "p = np.polyfit(x,y,order)\n",
    "print 'Poly coefficients:' ,  p\n",
    "\n",
    "xx = np.linspace(10,80) # linear vector for evaluating fit\n",
    "\n",
    "\n",
    "plot(x,y,'go')\n",
    "\n",
    "w = 250\n",
    "plot(x[-w:],y[-w:],'ro') # plot last w days in red\n",
    "plot(xx,np.polyval(p,xx),linewidth=3) # plot computed fit\n",
    "\n",
    "grid(True)\n",
    "\n",
    "legend(('all days','last %i days' % w))\n",
    "title('VIX-VXV relationship')\n",
    "\n",
    "xlabel('VIX')\n",
    "ylabel('VXV')\n"
   ]
  },
  {
   "cell_type": "markdown",
   "metadata": {},
   "source": [
    "now we can create a function that estimates VXV based on VIX value. The difference between the current VXV and its estimated value will be our indicator *delta*"
   ]
  },
  {
   "cell_type": "code",
   "execution_count": null,
   "metadata": {
    "collapsed": false
   },
   "outputs": [],
   "source": [
    "def estimateVXV(vix, p):\n",
    "    ''' estimate VXV based on VIX value '''\n",
    "    vxv = pd.Series(index=vix.index,data=np.polyval(p, vix))\n",
    "    return vxv\n",
    "\n",
    "\n",
    "delta = (vxv-estimateVXV(vix,p)).dropna() # create delta indicator\n",
    "delta.plot()\n",
    "title('Delta')"
   ]
  },
  {
   "cell_type": "markdown",
   "metadata": {},
   "source": [
    "Let's simulate a couple of strategies. Individual results are saved to (temporary) *pnl* Series. The results of all strategies will be saved to the *PNL* DataFrame (capital letters)"
   ]
  },
  {
   "cell_type": "code",
   "execution_count": null,
   "metadata": {
    "collapsed": false
   },
   "outputs": [],
   "source": [
    "PNL = pd.DataFrame(index=delta.index) # init PNL with same dates as delta"
   ]
  },
  {
   "cell_type": "code",
   "execution_count": null,
   "metadata": {
    "collapsed": false
   },
   "outputs": [],
   "source": [
    "#-------dumbVXX strategy---------------\n",
    "# just sell VXX and rebalance each day to keep capital constant\n",
    "ret = vxx.pct_change()\n",
    "pnl = -ret # maintain short position\n",
    "PNL['dumbVXX'] = pnl\n",
    "\n",
    "\n",
    "#--------SPY buy&hold----------------\n",
    "ret = spy.pct_change()\n",
    "pnl = ret*3 # multiplying by 3 here because VXX has beta of about 3. .\n",
    "PNL['SPY'] = pnl\n",
    "\n",
    "\n",
    "#--------smartVXX strategy------------\n",
    "# hold short VXX position when delta is positive (VXV is higher than it should be compared to VIX, the futures are in stronger than \n",
    "# normal contango.\n",
    "\n",
    "threshDelta = 0 # delta threshold, strategy parameter\n",
    "tradeDir = 1*(delta > threshDelta) # trading direction. Multiply by 1 to convert [True/False] to numeric values [1/0]\n",
    "tradeDir = -tradeDir.fillna(0) # fill nans with zeros, '-' is for the short position\n",
    "\n",
    "ret = vxx.pct_change() # daily returns\n",
    "pnl = ret * tradeDir.shift(1) # don't forget to shift(1), todays position has effect on tomorrows return.\n",
    "\n",
    "PNL['smartVXX'] = pnl\n",
    "\n",
    "\n",
    "#-------smartSPY_VXX pair-----------\n",
    "# a near market-neutral pair would be a combination of 3xSPY+1xVXX. Let's trade it with same signals\n",
    "threshDelta = 0 # delta threshold, strategy parameter\n",
    "ret = vxx.pct_change()+3*spy.pct_change()\n",
    "ret = ret*2 # increase leverage to achieve same beta as VXX\n",
    "tradeDir = 1*((delta > threshDelta) & (vix.reindex(delta.index) < 25))# trading direction. Multiply by 1 to convert [True/False] to numeric values [1/0]\n",
    "tradeDir = -tradeDir.fillna(0) # fill nans with zeros, '-' is for the short position\n",
    "pnl = ret * tradeDir.shift(1) # don't forget to shift(1), todays position has effect on tomorrows return.\n",
    "PNL['smartSPY_VXX'] = pnl\n",
    "\n",
    "#------------------------------------\n",
    "PNL = PNL.dropna() # remove rows with mising entries. \n",
    "\n",
    "PNL.cumsum().plot() \n",
    "\n",
    "#---------print statistics\n",
    "print '----Sharpe ratio----'\n",
    "print twp.sharpe(PNL)\n",
    "print '----Profit ratio----'\n",
    "print twp.profitRatio(PNL)\n"
   ]
  },
  {
   "cell_type": "markdown",
   "metadata": {},
   "source": [
    "It is clear that the strategies using delta are performing much better than VXX and SPY buy-and-hold in terms of return/drawdown. A lower drawdown will enable to increase leverage or simply reduce the stress of watching a portfolio go down."
   ]
  },
  {
   "cell_type": "markdown",
   "metadata": {},
   "source": [
    "#More precise simulation#\n",
    "\n",
    "Above simulations are just a quick exploration of the possible strategies. I will now calculate the `smartVXX` strategy in more detail. We'll be using a walk-forward again."
   ]
  },
  {
   "cell_type": "code",
   "execution_count": null,
   "metadata": {
    "collapsed": false
   },
   "outputs": [],
   "source": [
    "# create estimator class for  VXV as a function of VIX. Same functionality as before,\n",
    "# but now nicely wrapped inside a class\n",
    "\n",
    "class VXV_estimator(object):\n",
    "    ''' class for estimating VXV based on VIX value '''\n",
    "    def __init__(self,order=2):\n",
    "        ''' order: polynome order of the model '''\n",
    "        self.order = order\n",
    "        \n",
    "        self.p = None\n",
    "        \n",
    "    def fit(self,vix,vxv):\n",
    "        ''' compute model based on vix and vxv values '''\n",
    "        vol = pd.DataFrame({'vix':vix,'vxv':vxv}).dropna() # create dataframe, drop missing rows\n",
    "               \n",
    "        x = vol.vix.values # independant variable vector\n",
    "        y = vol.vxv.values # dependant variable vector\n",
    "        \n",
    "        self.p = np.polyfit(x,y,self.order)\n",
    "       \n",
    "        \n",
    "    def estimate(self,vix):\n",
    "        ''' estimate vxv based on model '''\n",
    "        vxv = pd.Series(index=vix.index,data=np.polyval(self.p, vix))\n",
    "        return vxv\n",
    "    \n",
    "#----test estimator class\n",
    "    \n",
    "e = VXV_estimator(order=2)\n",
    "e.fit(vol.VIX,vol.VXV)\n",
    "\n",
    "delta = (vxv-e.estimate(vix)).dropna() # create delta indicator\n",
    "delta.plot()"
   ]
  },
  {
   "cell_type": "code",
   "execution_count": null,
   "metadata": {
    "collapsed": false
   },
   "outputs": [],
   "source": [
    "# pos2pnl is same as in twp toolbox, only simplified to work with Series.\n",
    "def pos2pnl(price,position , ibTransactionCost=False ):\n",
    "    \"\"\"\n",
    "    calculate pnl based on price and position\n",
    "    Inputs:\n",
    "    ---------\n",
    "    price: series  of price\n",
    "    position: number of shares at each time. Column names must be same as in price\n",
    "    ibTransactionCost: use bundled Interactive Brokers transaction cost of 0.005$/share\n",
    "\n",
    "    Returns a portfolio DataFrame. \n",
    "    Output is *cumulative* pnl\n",
    "    \"\"\"\n",
    "\n",
    "    delta=position.diff()\n",
    "    port = pd.DataFrame(index=price.index)\n",
    "\n",
    "    \n",
    "    port['cash'] = (-delta*price).cumsum()\n",
    "    port['stock'] = (position*price)\n",
    "\n",
    "    if ibTransactionCost:\n",
    "        tc = -0.005*position.diff().abs() # basic transaction cost\n",
    "        tc[(tc>-1) & (tc<0)] = -1  # everything under 1$ will be ceil'd to 1$\n",
    "        port['tc'] = tc.cumsum()\n",
    "    else:\n",
    "        port['tc'] = 0.\n",
    "\n",
    "    port['total'] = port['stock']+port['cash']+port['tc']\n",
    "\n",
    "    return port\n",
    "\n",
    "\n",
    "\n",
    "def simulate(vxx,delta, threshDelta = 0, bet=10000):\n",
    "    ''' simulate smartVXX strategy '''\n",
    "    \n",
    "    tradeDir = 1*(delta > threshDelta) # trading direction. \n",
    "    \n",
    "    \n",
    "    tradeDir = -tradeDir.fillna(0) # fill nans with zeros, '-' is for the short position\n",
    "    pos = tradeDir*bet/vxx # number of shares held\n",
    "    \n",
    "    \n",
    "    pnl = pos2pnl(vxx,pos, ibTransactionCost=True)\n",
    "    return pnl\n",
    "\n",
    "#---test function\n",
    "\n",
    "pnl = simulate(df.VXX, delta)\n",
    "\n",
    "pnl.plot()\n"
   ]
  },
  {
   "cell_type": "code",
   "execution_count": null,
   "metadata": {
    "collapsed": false
   },
   "outputs": [],
   "source": [
    "def generateFWD(data,nTrain = 250, nTest=50):\n",
    "    ''' \n",
    "    Walk forward generator. \n",
    "    '''\n",
    "    nTotal = nTrain+nTest\n",
    "    \n",
    "    for tp in xrange(nTrain,len(data) - nTest, nTest) :  # xrange() is a little more efficient than range()\n",
    "        # tp is a 'testpoint' which is at in-sample/out-of-sample boundary\n",
    "        yield (data.iloc[tp-nTrain:tp,:], data.iloc[tp:tp+nTest]) # return test and train datasets\n",
    "\n",
    "        \n",
    "# create datasets. Each element contains a [train,test] pair\n",
    "# train is in-sample data, test is out-of-sample data\n",
    "datasets = [[train,test] for train,test in generateFWD(df)]\n",
    "\n",
    "print 'Created %i datasets' % len(datasets)"
   ]
  },
  {
   "cell_type": "code",
   "execution_count": null,
   "metadata": {
    "collapsed": false
   },
   "outputs": [],
   "source": [
    "# perform walk-forward test\n",
    "pnl = []\n",
    "\n",
    "est = VXV_estimator(order=2)\n",
    "\n",
    "for dataset in datasets:\n",
    "    train = dataset[0]\n",
    "    test = dataset[1]\n",
    "    \n",
    "    est.fit(train.VIX,train.VXV)\n",
    "    delta = (test.VXV-est.estimate(test.VIX)).dropna() # create delta indicator\n",
    "    \n",
    "    pnl.append(simulate(test.VXX,delta, threshDelta = 0)['total'].diff()) \n",
    "    # .diff() is needed because pos2pnl returns cumulative result.\n",
    "    \n",
    "pnl = pd.concat(pnl).fillna(0) # convert list of dataframes to one dataframe\n",
    "pnl.cumsum().plot()\n",
    "title('smartVXX strategy with transaction cost')\n",
    "\n",
    "print 'Sharpe:', twp.sharpe(pnl)\n",
    "print 'Profit ratio:', twp.profitRatio(pnl)"
   ]
  },
  {
   "cell_type": "markdown",
   "metadata": {},
   "source": [
    "With a more precise backtest the strategy loses some sharpe and there are more inactive periods. The profit ratio is still not bad. This could be improved by introducing optimization for each training period. "
   ]
  }
 ],
 "metadata": {
  "anaconda-cloud": {},
  "kernelspec": {
   "display_name": "Python [default]",
   "language": "python",
   "name": "python3"
  },
  "language_info": {
   "codemirror_mode": {
    "name": "ipython",
    "version": 3
   },
   "file_extension": ".py",
   "mimetype": "text/x-python",
   "name": "python",
   "nbconvert_exporter": "python",
   "pygments_lexer": "ipython3",
   "version": "3.5.2"
  }
 },
 "nbformat": 4,
 "nbformat_minor": 0
}

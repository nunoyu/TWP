{
 "cells": [
  {
   "cell_type": "code",
   "execution_count": 1,
   "metadata": {
    "collapsed": false
   },
   "outputs": [
    {
     "name": "stdout",
     "output_type": "stream",
     "text": [
      "Populating the interactive namespace from numpy and matplotlib\n"
     ]
    }
   ],
   "source": [
    "%pylab inline\n",
    "import tradingWithPython as twp\n",
    "import tradingWithPython.lib.yahooFinance as yf\n",
    "import tradingWithPython.lib.backtest as backtest\n",
    "import pandas as pd\n",
    "import numpy as np\n",
    "import datetime"
   ]
  },
  {
   "cell_type": "code",
   "execution_count": 2,
   "metadata": {
    "collapsed": false,
    "scrolled": true
   },
   "outputs": [
    {
     "name": "stdout",
     "output_type": "stream",
     "text": [
      "Got 4029 days of data\n"
     ]
    },
    {
     "data": {
      "text/plain": [
       "<matplotlib.axes._subplots.AxesSubplot at 0x15c97ef85c0>"
      ]
     },
     "execution_count": 2,
     "metadata": {},
     "output_type": "execute_result"
    },
    {
     "data": {
      "image/png": "[encoded data removed]",
      "text/plain": [
       "<matplotlib.figure.Figure at 0x15c97dd7dd8>"
      ]
     },
     "metadata": {},
     "output_type": "display_data"
    }
   ],
   "source": [
    "symbol = 'spy'\n",
    "price = yf.getHistoricData(symbol, sDate=(2001,1,1))['adj_close']\n",
    "price.plot()"
   ]
  },
  {
   "cell_type": "code",
   "execution_count": 3,
   "metadata": {
    "collapsed": false
   },
   "outputs": [],
   "source": [
    "class MovAverage(object): #该子类的基类是object\n",
    "    ''' a class with all features and applications of strategy of Moving Average'''\n",
    "    def __init__(self, price, periods=[50, 10] ): #对程序进行初始化。该程序具有两个属性，price和periods\n",
    "        '''function to compare performance of different functions\n",
    "    parameters\n",
    "    ============\n",
    "    price: DataFrame\n",
    "        DataFrame timeseries with price of the underlying asset \n",
    "    periods: list\n",
    "        list with period parameter of slow a quick moving average \n",
    "        '''\n",
    "        self.price = price #这里并不是赋值。是建立一个局部变量，使其值等于建立类的对象的第一个参数。且参数没有默认值。\n",
    "        self.periods = periods #该参数有默认值\n",
    "    def simulate(self, bet=10000, plotOn=False): #bet和plotOn变量并不是self开头。因此，估计只能在simulate方法中使用，不能窜到别的函数中。\n",
    "        '''\n",
    "        function to simulate security performance\n",
    "        parameters\n",
    "        ==========\n",
    "        bet: int\n",
    "            vol of capital to long or short to\n",
    "        plotOn: bool\n",
    "            whether plot the simulation result\n",
    "        '''\n",
    "        maSlow = pd.rolling_mean(self.price, self.periods[0]) #只有在引用int函数中的参数时采用self...\n",
    "        maQuick = pd.rolling_mean(self.price, self.periods[1])\n",
    "        \n",
    "        pos = pd.Series(index=self.price.index)\n",
    "        \n",
    "        pos[maSlow>maQuick] = -bet #因为两个序列的索引相同。所以直接用条件判断来给出索引\n",
    "        pos[maSlow<=maQuick] = bet\n",
    "        \n",
    "        self.backtest = backtest.Backtest(self.price, pos, signalType='capital') #第一个self就是起名的习惯，没有引用的意义\n",
    "        \n",
    "        if plotOn:\n",
    "            figure()\n",
    "            self.backtest.plotTrades()\n",
    "    def optimize(self, fastPeriods=range(1, 20, 1), slowPeriods=range(20, 120, 1), plotOn=False, outOfSample=0):\n",
    "        '''\n",
    "        function o find optimal parameter values for rollingaverate\n",
    "        parameters\n",
    "        =========\n",
    "        fastPeriods: range\n",
    "            int range of fastperidos parameters\n",
    "        slowPeriods: range \n",
    "            int range of slowperiods parameter\n",
    "        plotOn: bool\n",
    "            whether plot the result \n",
    "        outOfSample: int\n",
    "            define the sample range as out of sample        \n",
    "        '''\n",
    "        print('Optimizing...')\n",
    "        SH = np.zeros((len(fastPeriods), len(slowPeriods)))\n",
    "        pBar = backtest.ProgressBar(len(fastPeriods)-1)\n",
    "        \n",
    "        for i, f in enumerate(fastPeriods):\n",
    "            pBar.animate(i)\n",
    "            for j, s in enumerate(slowPeriods):\n",
    "                self.periods = [s, f] #重新为类参数赋值\n",
    "                self.simulate() #用新的period参数跑一遍simulate。熟悉用self.simulate调用类自身具有的方法。\n",
    "                self.backtest.pnl[-(outOfSample-1): ] = np.nan  #去掉所有设定的outofsample的测试值。 这样在系统计算sharpe指数时，将不考虑这段。 \n",
    "                SH[i, j] = self.backtest.sharpe\n",
    "        i,j = np.unravel_index(SH.argmax(), SH.shape)\n",
    "        self.periods = [slowPeriods[j], fastPeriods[i]]\n",
    "        \n",
    "        print('\\nBest periods: %s (sharpe: %.2f)' % (str(self.periods), SH[i,j]  ))      \n",
    "        \n",
    "        if plotOn:\n",
    "            figure()\n",
    "            pcolor(slowPeriods,fastPeriods, SH) #slow本身就在x轴\n",
    "            ylabel('fast period [days]')\n",
    "            xlabel('slow period [days]');\n",
    "            colorbar();\n",
    "            \n",
    "    def __repr__(self):\n",
    "        '''\n",
    "        Output the result report        \n",
    "        '''\n",
    "        return 'Moving Averages strategy slowMa=%i,fastMa=%i' % (self.periods[0],self.periods[1])      \n",
    "        \n",
    "        \n",
    "        \n",
    "    \n",
    "    "
   ]
  },
  {
   "cell_type": "code",
   "execution_count": 4,
   "metadata": {
    "collapsed": false
   },
   "outputs": [],
   "source": [
    "spy = MovAverage(price)"
   ]
  },
  {
   "cell_type": "code",
   "execution_count": 5,
   "metadata": {
    "collapsed": false
   },
   "outputs": [
    {
     "name": "stdout",
     "output_type": "stream",
     "text": [
      "Optimizing...\n",
      "\r",
      " [                       0%                       ] "
     ]
    },
    {
     "name": "stderr",
     "output_type": "stream",
     "text": [
      "C:\\Users\\User\\Anaconda2\\envs\\py35\\lib\\site-packages\\ipykernel\\__main__.py:24: FutureWarning: pd.rolling_mean is deprecated for Series and will be removed in a future version, replace with \n",
      "\tSeries.rolling(center=False,window=20).mean()\n",
      "C:\\Users\\User\\Anaconda2\\envs\\py35\\lib\\site-packages\\ipykernel\\__main__.py:25: FutureWarning: pd.rolling_mean is deprecated for Series and will be removed in a future version, replace with \n",
      "\tSeries.rolling(center=False,window=1).mean()\n",
      "C:\\Users\\User\\Anaconda2\\envs\\py35\\lib\\site-packages\\ipykernel\\__main__.py:24: FutureWarning: pd.rolling_mean is deprecated for Series and will be removed in a future version, replace with \n",
      "\tSeries.rolling(center=False,window=21).mean()\n",
      "C:\\Users\\User\\Anaconda2\\envs\\py35\\lib\\site-packages\\ipykernel\\__main__.py:24: FutureWarning: pd.rolling_mean is deprecated for Series and will be removed in a future version, replace with \n",
      "\tSeries.rolling(center=False,window=22).mean()\n",
      "C:\\Users\\User\\Anaconda2\\envs\\py35\\lib\\site-packages\\ipykernel\\__main__.py:24: FutureWarning: pd.rolling_mean is deprecated for Series and will be removed in a future version, replace with \n",
      "\tSeries.rolling(center=False,window=23).mean()\n",
      "C:\\Users\\User\\Anaconda2\\envs\\py35\\lib\\site-packages\\ipykernel\\__main__.py:24: FutureWarning: pd.rolling_mean is deprecated for Series and will be removed in a future version, replace with \n",
      "\tSeries.rolling(center=False,window=24).mean()\n",
      "C:\\Users\\User\\Anaconda2\\envs\\py35\\lib\\site-packages\\ipykernel\\__main__.py:24: FutureWarning: pd.rolling_mean is deprecated for Series and will be removed in a future version, replace with \n",
      "\tSeries.rolling(center=False,window=25).mean()\n",
      "C:\\Users\\User\\Anaconda2\\envs\\py35\\lib\\site-packages\\ipykernel\\__main__.py:24: FutureWarning: pd.rolling_mean is deprecated for Series and will be removed in a future version, replace with \n",
      "\tSeries.rolling(center=False,window=26).mean()\n",
      "C:\\Users\\User\\Anaconda2\\envs\\py35\\lib\\site-packages\\ipykernel\\__main__.py:24: FutureWarning: pd.rolling_mean is deprecated for Series and will be removed in a future version, replace with \n",
      "\tSeries.rolling(center=False,window=27).mean()\n",
      "C:\\Users\\User\\Anaconda2\\envs\\py35\\lib\\site-packages\\ipykernel\\__main__.py:24: FutureWarning: pd.rolling_mean is deprecated for Series and will be removed in a future version, replace with \n",
      "\tSeries.rolling(center=False,window=28).mean()\n",
      "C:\\Users\\User\\Anaconda2\\envs\\py35\\lib\\site-packages\\ipykernel\\__main__.py:24: FutureWarning: pd.rolling_mean is deprecated for Series and will be removed in a future version, replace with \n",
      "\tSeries.rolling(center=False,window=29).mean()\n",
      "C:\\Users\\User\\Anaconda2\\envs\\py35\\lib\\site-packages\\ipykernel\\__main__.py:24: FutureWarning: pd.rolling_mean is deprecated for Series and will be removed in a future version, replace with \n",
      "\tSeries.rolling(center=False,window=30).mean()\n",
      "C:\\Users\\User\\Anaconda2\\envs\\py35\\lib\\site-packages\\ipykernel\\__main__.py:24: FutureWarning: pd.rolling_mean is deprecated for Series and will be removed in a future version, replace with \n",
      "\tSeries.rolling(center=False,window=31).mean()\n",
      "C:\\Users\\User\\Anaconda2\\envs\\py35\\lib\\site-packages\\ipykernel\\__main__.py:24: FutureWarning: pd.rolling_mean is deprecated for Series and will be removed in a future version, replace with \n",
      "\tSeries.rolling(center=False,window=32).mean()\n",
      "C:\\Users\\User\\Anaconda2\\envs\\py35\\lib\\site-packages\\ipykernel\\__main__.py:24: FutureWarning: pd.rolling_mean is deprecated for Series and will be removed in a future version, replace with \n",
      "\tSeries.rolling(center=False,window=33).mean()\n",
      "C:\\Users\\User\\Anaconda2\\envs\\py35\\lib\\site-packages\\ipykernel\\__main__.py:24: FutureWarning: pd.rolling_mean is deprecated for Series and will be removed in a future version, replace with \n",
      "\tSeries.rolling(center=False,window=34).mean()\n",
      "C:\\Users\\User\\Anaconda2\\envs\\py35\\lib\\site-packages\\ipykernel\\__main__.py:24: FutureWarning: pd.rolling_mean is deprecated for Series and will be removed in a future version, replace with \n",
      "\tSeries.rolling(center=False,window=35).mean()\n",
      "C:\\Users\\User\\Anaconda2\\envs\\py35\\lib\\site-packages\\ipykernel\\__main__.py:24: FutureWarning: pd.rolling_mean is deprecated for Series and will be removed in a future version, replace with \n",
      "\tSeries.rolling(center=False,window=36).mean()\n",
      "C:\\Users\\User\\Anaconda2\\envs\\py35\\lib\\site-packages\\ipykernel\\__main__.py:24: FutureWarning: pd.rolling_mean is deprecated for Series and will be removed in a future version, replace with \n",
      "\tSeries.rolling(center=False,window=37).mean()\n",
      "C:\\Users\\User\\Anaconda2\\envs\\py35\\lib\\site-packages\\ipykernel\\__main__.py:24: FutureWarning: pd.rolling_mean is deprecated for Series and will be removed in a future version, replace with \n",
      "\tSeries.rolling(center=False,window=38).mean()\n",
      "C:\\Users\\User\\Anaconda2\\envs\\py35\\lib\\site-packages\\ipykernel\\__main__.py:24: FutureWarning: pd.rolling_mean is deprecated for Series and will be removed in a future version, replace with \n",
      "\tSeries.rolling(center=False,window=39).mean()\n",
      "C:\\Users\\User\\Anaconda2\\envs\\py35\\lib\\site-packages\\ipykernel\\__main__.py:24: FutureWarning: pd.rolling_mean is deprecated for Series and will be removed in a future version, replace with \n",
      "\tSeries.rolling(center=False,window=40).mean()\n",
      "C:\\Users\\User\\Anaconda2\\envs\\py35\\lib\\site-packages\\ipykernel\\__main__.py:24: FutureWarning: pd.rolling_mean is deprecated for Series and will be removed in a future version, replace with \n",
      "\tSeries.rolling(center=False,window=41).mean()\n",
      "C:\\Users\\User\\Anaconda2\\envs\\py35\\lib\\site-packages\\ipykernel\\__main__.py:24: FutureWarning: pd.rolling_mean is deprecated for Series and will be removed in a future version, replace with \n",
      "\tSeries.rolling(center=False,window=42).mean()\n",
      "C:\\Users\\User\\Anaconda2\\envs\\py35\\lib\\site-packages\\ipykernel\\__main__.py:24: FutureWarning: pd.rolling_mean is deprecated for Series and will be removed in a future version, replace with \n",
      "\tSeries.rolling(center=False,window=43).mean()\n",
      "C:\\Users\\User\\Anaconda2\\envs\\py35\\lib\\site-packages\\ipykernel\\__main__.py:24: FutureWarning: pd.rolling_mean is deprecated for Series and will be removed in a future version, replace with \n",
      "\tSeries.rolling(center=False,window=44).mean()\n",
      "C:\\Users\\User\\Anaconda2\\envs\\py35\\lib\\site-packages\\ipykernel\\__main__.py:24: FutureWarning: pd.rolling_mean is deprecated for Series and will be removed in a future version, replace with \n",
      "\tSeries.rolling(center=False,window=45).mean()\n",
      "C:\\Users\\User\\Anaconda2\\envs\\py35\\lib\\site-packages\\ipykernel\\__main__.py:24: FutureWarning: pd.rolling_mean is deprecated for Series and will be removed in a future version, replace with \n",
      "\tSeries.rolling(center=False,window=46).mean()\n",
      "C:\\Users\\User\\Anaconda2\\envs\\py35\\lib\\site-packages\\ipykernel\\__main__.py:24: FutureWarning: pd.rolling_mean is deprecated for Series and will be removed in a future version, replace with \n",
      "\tSeries.rolling(center=False,window=47).mean()\n",
      "C:\\Users\\User\\Anaconda2\\envs\\py35\\lib\\site-packages\\ipykernel\\__main__.py:24: FutureWarning: pd.rolling_mean is deprecated for Series and will be removed in a future version, replace with \n",
      "\tSeries.rolling(center=False,window=48).mean()\n",
      "C:\\Users\\User\\Anaconda2\\envs\\py35\\lib\\site-packages\\ipykernel\\__main__.py:24: FutureWarning: pd.rolling_mean is deprecated for Series and will be removed in a future version, replace with \n",
      "\tSeries.rolling(center=False,window=49).mean()\n",
      "C:\\Users\\User\\Anaconda2\\envs\\py35\\lib\\site-packages\\ipykernel\\__main__.py:24: FutureWarning: pd.rolling_mean is deprecated for Series and will be removed in a future version, replace with \n",
      "\tSeries.rolling(center=False,window=50).mean()\n",
      "C:\\Users\\User\\Anaconda2\\envs\\py35\\lib\\site-packages\\ipykernel\\__main__.py:24: FutureWarning: pd.rolling_mean is deprecated for Series and will be removed in a future version, replace with \n",
      "\tSeries.rolling(center=False,window=51).mean()\n",
      "C:\\Users\\User\\Anaconda2\\envs\\py35\\lib\\site-packages\\ipykernel\\__main__.py:24: FutureWarning: pd.rolling_mean is deprecated for Series and will be removed in a future version, replace with \n",
      "\tSeries.rolling(center=False,window=52).mean()\n",
      "C:\\Users\\User\\Anaconda2\\envs\\py35\\lib\\site-packages\\ipykernel\\__main__.py:24: FutureWarning: pd.rolling_mean is deprecated for Series and will be removed in a future version, replace with \n",
      "\tSeries.rolling(center=False,window=53).mean()\n",
      "C:\\Users\\User\\Anaconda2\\envs\\py35\\lib\\site-packages\\ipykernel\\__main__.py:24: FutureWarning: pd.rolling_mean is deprecated for Series and will be removed in a future version, replace with \n",
      "\tSeries.rolling(center=False,window=54).mean()\n",
      "C:\\Users\\User\\Anaconda2\\envs\\py35\\lib\\site-packages\\ipykernel\\__main__.py:24: FutureWarning: pd.rolling_mean is deprecated for Series and will be removed in a future version, replace with \n",
      "\tSeries.rolling(center=False,window=55).mean()\n",
      "C:\\Users\\User\\Anaconda2\\envs\\py35\\lib\\site-packages\\ipykernel\\__main__.py:24: FutureWarning: pd.rolling_mean is deprecated for Series and will be removed in a future version, replace with \n",
      "\tSeries.rolling(center=False,window=56).mean()\n",
      "C:\\Users\\User\\Anaconda2\\envs\\py35\\lib\\site-packages\\ipykernel\\__main__.py:24: FutureWarning: pd.rolling_mean is deprecated for Series and will be removed in a future version, replace with \n",
      "\tSeries.rolling(center=False,window=57).mean()\n",
      "C:\\Users\\User\\Anaconda2\\envs\\py35\\lib\\site-packages\\ipykernel\\__main__.py:24: FutureWarning: pd.rolling_mean is deprecated for Series and will be removed in a future version, replace with \n",
      "\tSeries.rolling(center=False,window=58).mean()\n",
      "C:\\Users\\User\\Anaconda2\\envs\\py35\\lib\\site-packages\\ipykernel\\__main__.py:24: FutureWarning: pd.rolling_mean is deprecated for Series and will be removed in a future version, replace with \n",
      "\tSeries.rolling(center=False,window=59).mean()\n",
      "C:\\Users\\User\\Anaconda2\\envs\\py35\\lib\\site-packages\\ipykernel\\__main__.py:24: FutureWarning: pd.rolling_mean is deprecated for Series and will be removed in a future version, replace with \n",
      "\tSeries.rolling(center=False,window=60).mean()\n",
      "C:\\Users\\User\\Anaconda2\\envs\\py35\\lib\\site-packages\\ipykernel\\__main__.py:24: FutureWarning: pd.rolling_mean is deprecated for Series and will be removed in a future version, replace with \n",
      "\tSeries.rolling(center=False,window=61).mean()\n",
      "C:\\Users\\User\\Anaconda2\\envs\\py35\\lib\\site-packages\\ipykernel\\__main__.py:24: FutureWarning: pd.rolling_mean is deprecated for Series and will be removed in a future version, replace with \n",
      "\tSeries.rolling(center=False,window=62).mean()\n",
      "C:\\Users\\User\\Anaconda2\\envs\\py35\\lib\\site-packages\\ipykernel\\__main__.py:24: FutureWarning: pd.rolling_mean is deprecated for Series and will be removed in a future version, replace with \n",
      "\tSeries.rolling(center=False,window=63).mean()\n",
      "C:\\Users\\User\\Anaconda2\\envs\\py35\\lib\\site-packages\\ipykernel\\__main__.py:24: FutureWarning: pd.rolling_mean is deprecated for Series and will be removed in a future version, replace with \n",
      "\tSeries.rolling(center=False,window=64).mean()\n",
      "C:\\Users\\User\\Anaconda2\\envs\\py35\\lib\\site-packages\\ipykernel\\__main__.py:24: FutureWarning: pd.rolling_mean is deprecated for Series and will be removed in a future version, replace with \n",
      "\tSeries.rolling(center=False,window=65).mean()\n",
      "C:\\Users\\User\\Anaconda2\\envs\\py35\\lib\\site-packages\\ipykernel\\__main__.py:24: FutureWarning: pd.rolling_mean is deprecated for Series and will be removed in a future version, replace with \n",
      "\tSeries.rolling(center=False,window=66).mean()\n",
      "C:\\Users\\User\\Anaconda2\\envs\\py35\\lib\\site-packages\\ipykernel\\__main__.py:24: FutureWarning: pd.rolling_mean is deprecated for Series and will be removed in a future version, replace with \n",
      "\tSeries.rolling(center=False,window=67).mean()\n",
      "C:\\Users\\User\\Anaconda2\\envs\\py35\\lib\\site-packages\\ipykernel\\__main__.py:24: FutureWarning: pd.rolling_mean is deprecated for Series and will be removed in a future version, replace with \n",
      "\tSeries.rolling(center=False,window=68).mean()\n",
      "C:\\Users\\User\\Anaconda2\\envs\\py35\\lib\\site-packages\\ipykernel\\__main__.py:24: FutureWarning: pd.rolling_mean is deprecated for Series and will be removed in a future version, replace with \n",
      "\tSeries.rolling(center=False,window=69).mean()\n",
      "C:\\Users\\User\\Anaconda2\\envs\\py35\\lib\\site-packages\\ipykernel\\__main__.py:24: FutureWarning: pd.rolling_mean is deprecated for Series and will be removed in a future version, replace with \n",
      "\tSeries.rolling(center=False,window=70).mean()\n",
      "C:\\Users\\User\\Anaconda2\\envs\\py35\\lib\\site-packages\\ipykernel\\__main__.py:24: FutureWarning: pd.rolling_mean is deprecated for Series and will be removed in a future version, replace with \n",
      "\tSeries.rolling(center=False,window=71).mean()\n",
      "C:\\Users\\User\\Anaconda2\\envs\\py35\\lib\\site-packages\\ipykernel\\__main__.py:24: FutureWarning: pd.rolling_mean is deprecated for Series and will be removed in a future version, replace with \n",
      "\tSeries.rolling(center=False,window=72).mean()\n",
      "C:\\Users\\User\\Anaconda2\\envs\\py35\\lib\\site-packages\\ipykernel\\__main__.py:24: FutureWarning: pd.rolling_mean is deprecated for Series and will be removed in a future version, replace with \n",
      "\tSeries.rolling(center=False,window=73).mean()\n",
      "C:\\Users\\User\\Anaconda2\\envs\\py35\\lib\\site-packages\\ipykernel\\__main__.py:24: FutureWarning: pd.rolling_mean is deprecated for Series and will be removed in a future version, replace with \n",
      "\tSeries.rolling(center=False,window=74).mean()\n",
      "C:\\Users\\User\\Anaconda2\\envs\\py35\\lib\\site-packages\\ipykernel\\__main__.py:24: FutureWarning: pd.rolling_mean is deprecated for Series and will be removed in a future version, replace with \n",
      "\tSeries.rolling(center=False,window=75).mean()\n",
      "C:\\Users\\User\\Anaconda2\\envs\\py35\\lib\\site-packages\\ipykernel\\__main__.py:24: FutureWarning: pd.rolling_mean is deprecated for Series and will be removed in a future version, replace with \n",
      "\tSeries.rolling(center=False,window=76).mean()\n",
      "C:\\Users\\User\\Anaconda2\\envs\\py35\\lib\\site-packages\\ipykernel\\__main__.py:24: FutureWarning: pd.rolling_mean is deprecated for Series and will be removed in a future version, replace with \n",
      "\tSeries.rolling(center=False,window=77).mean()\n",
      "C:\\Users\\User\\Anaconda2\\envs\\py35\\lib\\site-packages\\ipykernel\\__main__.py:24: FutureWarning: pd.rolling_mean is deprecated for Series and will be removed in a future version, replace with \n",
      "\tSeries.rolling(center=False,window=78).mean()\n",
      "C:\\Users\\User\\Anaconda2\\envs\\py35\\lib\\site-packages\\ipykernel\\__main__.py:24: FutureWarning: pd.rolling_mean is deprecated for Series and will be removed in a future version, replace with \n",
      "\tSeries.rolling(center=False,window=79).mean()\n",
      "C:\\Users\\User\\Anaconda2\\envs\\py35\\lib\\site-packages\\ipykernel\\__main__.py:24: FutureWarning: pd.rolling_mean is deprecated for Series and will be removed in a future version, replace with \n",
      "\tSeries.rolling(center=False,window=80).mean()\n",
      "C:\\Users\\User\\Anaconda2\\envs\\py35\\lib\\site-packages\\ipykernel\\__main__.py:24: FutureWarning: pd.rolling_mean is deprecated for Series and will be removed in a future version, replace with \n",
      "\tSeries.rolling(center=False,window=81).mean()\n",
      "C:\\Users\\User\\Anaconda2\\envs\\py35\\lib\\site-packages\\ipykernel\\__main__.py:24: FutureWarning: pd.rolling_mean is deprecated for Series and will be removed in a future version, replace with \n",
      "\tSeries.rolling(center=False,window=82).mean()\n",
      "C:\\Users\\User\\Anaconda2\\envs\\py35\\lib\\site-packages\\ipykernel\\__main__.py:24: FutureWarning: pd.rolling_mean is deprecated for Series and will be removed in a future version, replace with \n",
      "\tSeries.rolling(center=False,window=83).mean()\n",
      "C:\\Users\\User\\Anaconda2\\envs\\py35\\lib\\site-packages\\ipykernel\\__main__.py:24: FutureWarning: pd.rolling_mean is deprecated for Series and will be removed in a future version, replace with \n",
      "\tSeries.rolling(center=False,window=84).mean()\n",
      "C:\\Users\\User\\Anaconda2\\envs\\py35\\lib\\site-packages\\ipykernel\\__main__.py:24: FutureWarning: pd.rolling_mean is deprecated for Series and will be removed in a future version, replace with \n",
      "\tSeries.rolling(center=False,window=85).mean()\n",
      "C:\\Users\\User\\Anaconda2\\envs\\py35\\lib\\site-packages\\ipykernel\\__main__.py:24: FutureWarning: pd.rolling_mean is deprecated for Series and will be removed in a future version, replace with \n",
      "\tSeries.rolling(center=False,window=86).mean()\n",
      "C:\\Users\\User\\Anaconda2\\envs\\py35\\lib\\site-packages\\ipykernel\\__main__.py:24: FutureWarning: pd.rolling_mean is deprecated for Series and will be removed in a future version, replace with \n",
      "\tSeries.rolling(center=False,window=87).mean()\n",
      "C:\\Users\\User\\Anaconda2\\envs\\py35\\lib\\site-packages\\ipykernel\\__main__.py:24: FutureWarning: pd.rolling_mean is deprecated for Series and will be removed in a future version, replace with \n",
      "\tSeries.rolling(center=False,window=88).mean()\n",
      "C:\\Users\\User\\Anaconda2\\envs\\py35\\lib\\site-packages\\ipykernel\\__main__.py:24: FutureWarning: pd.rolling_mean is deprecated for Series and will be removed in a future version, replace with \n",
      "\tSeries.rolling(center=False,window=89).mean()\n",
      "C:\\Users\\User\\Anaconda2\\envs\\py35\\lib\\site-packages\\ipykernel\\__main__.py:24: FutureWarning: pd.rolling_mean is deprecated for Series and will be removed in a future version, replace with \n",
      "\tSeries.rolling(center=False,window=90).mean()\n",
      "C:\\Users\\User\\Anaconda2\\envs\\py35\\lib\\site-packages\\ipykernel\\__main__.py:24: FutureWarning: pd.rolling_mean is deprecated for Series and will be removed in a future version, replace with \n",
      "\tSeries.rolling(center=False,window=91).mean()\n",
      "C:\\Users\\User\\Anaconda2\\envs\\py35\\lib\\site-packages\\ipykernel\\__main__.py:24: FutureWarning: pd.rolling_mean is deprecated for Series and will be removed in a future version, replace with \n",
      "\tSeries.rolling(center=False,window=92).mean()\n",
      "C:\\Users\\User\\Anaconda2\\envs\\py35\\lib\\site-packages\\ipykernel\\__main__.py:24: FutureWarning: pd.rolling_mean is deprecated for Series and will be removed in a future version, replace with \n",
      "\tSeries.rolling(center=False,window=93).mean()\n",
      "C:\\Users\\User\\Anaconda2\\envs\\py35\\lib\\site-packages\\ipykernel\\__main__.py:24: FutureWarning: pd.rolling_mean is deprecated for Series and will be removed in a future version, replace with \n",
      "\tSeries.rolling(center=False,window=94).mean()\n",
      "C:\\Users\\User\\Anaconda2\\envs\\py35\\lib\\site-packages\\ipykernel\\__main__.py:24: FutureWarning: pd.rolling_mean is deprecated for Series and will be removed in a future version, replace with \n",
      "\tSeries.rolling(center=False,window=95).mean()\n",
      "C:\\Users\\User\\Anaconda2\\envs\\py35\\lib\\site-packages\\ipykernel\\__main__.py:24: FutureWarning: pd.rolling_mean is deprecated for Series and will be removed in a future version, replace with \n",
      "\tSeries.rolling(center=False,window=96).mean()\n",
      "C:\\Users\\User\\Anaconda2\\envs\\py35\\lib\\site-packages\\ipykernel\\__main__.py:24: FutureWarning: pd.rolling_mean is deprecated for Series and will be removed in a future version, replace with \n",
      "\tSeries.rolling(center=False,window=97).mean()\n",
      "C:\\Users\\User\\Anaconda2\\envs\\py35\\lib\\site-packages\\ipykernel\\__main__.py:24: FutureWarning: pd.rolling_mean is deprecated for Series and will be removed in a future version, replace with \n",
      "\tSeries.rolling(center=False,window=98).mean()\n",
      "C:\\Users\\User\\Anaconda2\\envs\\py35\\lib\\site-packages\\ipykernel\\__main__.py:24: FutureWarning: pd.rolling_mean is deprecated for Series and will be removed in a future version, replace with \n",
      "\tSeries.rolling(center=False,window=99).mean()\n",
      "C:\\Users\\User\\Anaconda2\\envs\\py35\\lib\\site-packages\\ipykernel\\__main__.py:24: FutureWarning: pd.rolling_mean is deprecated for Series and will be removed in a future version, replace with \n",
      "\tSeries.rolling(center=False,window=100).mean()\n"
     ]
    },
    {
     "name": "stdout",
     "output_type": "stream",
     "text": [
      "\r",
      " [***                    6%                       ]  1 of 18 complete "
     ]
    },
    {
     "name": "stderr",
     "output_type": "stream",
     "text": [
      "C:\\Users\\User\\Anaconda2\\envs\\py35\\lib\\site-packages\\ipykernel\\__main__.py:24: FutureWarning: pd.rolling_mean is deprecated for Series and will be removed in a future version, replace with \n",
      "\tSeries.rolling(center=False,window=101).mean()\n",
      "C:\\Users\\User\\Anaconda2\\envs\\py35\\lib\\site-packages\\ipykernel\\__main__.py:24: FutureWarning: pd.rolling_mean is deprecated for Series and will be removed in a future version, replace with \n",
      "\tSeries.rolling(center=False,window=102).mean()\n",
      "C:\\Users\\User\\Anaconda2\\envs\\py35\\lib\\site-packages\\ipykernel\\__main__.py:24: FutureWarning: pd.rolling_mean is deprecated for Series and will be removed in a future version, replace with \n",
      "\tSeries.rolling(center=False,window=103).mean()\n",
      "C:\\Users\\User\\Anaconda2\\envs\\py35\\lib\\site-packages\\ipykernel\\__main__.py:24: FutureWarning: pd.rolling_mean is deprecated for Series and will be removed in a future version, replace with \n",
      "\tSeries.rolling(center=False,window=104).mean()\n",
      "C:\\Users\\User\\Anaconda2\\envs\\py35\\lib\\site-packages\\ipykernel\\__main__.py:24: FutureWarning: pd.rolling_mean is deprecated for Series and will be removed in a future version, replace with \n",
      "\tSeries.rolling(center=False,window=105).mean()\n",
      "C:\\Users\\User\\Anaconda2\\envs\\py35\\lib\\site-packages\\ipykernel\\__main__.py:24: FutureWarning: pd.rolling_mean is deprecated for Series and will be removed in a future version, replace with \n",
      "\tSeries.rolling(center=False,window=106).mean()\n",
      "C:\\Users\\User\\Anaconda2\\envs\\py35\\lib\\site-packages\\ipykernel\\__main__.py:24: FutureWarning: pd.rolling_mean is deprecated for Series and will be removed in a future version, replace with \n",
      "\tSeries.rolling(center=False,window=107).mean()\n",
      "C:\\Users\\User\\Anaconda2\\envs\\py35\\lib\\site-packages\\ipykernel\\__main__.py:24: FutureWarning: pd.rolling_mean is deprecated for Series and will be removed in a future version, replace with \n",
      "\tSeries.rolling(center=False,window=108).mean()\n",
      "C:\\Users\\User\\Anaconda2\\envs\\py35\\lib\\site-packages\\ipykernel\\__main__.py:24: FutureWarning: pd.rolling_mean is deprecated for Series and will be removed in a future version, replace with \n",
      "\tSeries.rolling(center=False,window=109).mean()\n",
      "C:\\Users\\User\\Anaconda2\\envs\\py35\\lib\\site-packages\\ipykernel\\__main__.py:24: FutureWarning: pd.rolling_mean is deprecated for Series and will be removed in a future version, replace with \n",
      "\tSeries.rolling(center=False,window=110).mean()\n",
      "C:\\Users\\User\\Anaconda2\\envs\\py35\\lib\\site-packages\\ipykernel\\__main__.py:24: FutureWarning: pd.rolling_mean is deprecated for Series and will be removed in a future version, replace with \n",
      "\tSeries.rolling(center=False,window=111).mean()\n",
      "C:\\Users\\User\\Anaconda2\\envs\\py35\\lib\\site-packages\\ipykernel\\__main__.py:24: FutureWarning: pd.rolling_mean is deprecated for Series and will be removed in a future version, replace with \n",
      "\tSeries.rolling(center=False,window=112).mean()\n",
      "C:\\Users\\User\\Anaconda2\\envs\\py35\\lib\\site-packages\\ipykernel\\__main__.py:24: FutureWarning: pd.rolling_mean is deprecated for Series and will be removed in a future version, replace with \n",
      "\tSeries.rolling(center=False,window=113).mean()\n",
      "C:\\Users\\User\\Anaconda2\\envs\\py35\\lib\\site-packages\\ipykernel\\__main__.py:24: FutureWarning: pd.rolling_mean is deprecated for Series and will be removed in a future version, replace with \n",
      "\tSeries.rolling(center=False,window=114).mean()\n",
      "C:\\Users\\User\\Anaconda2\\envs\\py35\\lib\\site-packages\\ipykernel\\__main__.py:24: FutureWarning: pd.rolling_mean is deprecated for Series and will be removed in a future version, replace with \n",
      "\tSeries.rolling(center=False,window=115).mean()\n",
      "C:\\Users\\User\\Anaconda2\\envs\\py35\\lib\\site-packages\\ipykernel\\__main__.py:24: FutureWarning: pd.rolling_mean is deprecated for Series and will be removed in a future version, replace with \n",
      "\tSeries.rolling(center=False,window=116).mean()\n",
      "C:\\Users\\User\\Anaconda2\\envs\\py35\\lib\\site-packages\\ipykernel\\__main__.py:24: FutureWarning: pd.rolling_mean is deprecated for Series and will be removed in a future version, replace with \n",
      "\tSeries.rolling(center=False,window=117).mean()\n",
      "C:\\Users\\User\\Anaconda2\\envs\\py35\\lib\\site-packages\\ipykernel\\__main__.py:24: FutureWarning: pd.rolling_mean is deprecated for Series and will be removed in a future version, replace with \n",
      "\tSeries.rolling(center=False,window=118).mean()\n",
      "C:\\Users\\User\\Anaconda2\\envs\\py35\\lib\\site-packages\\ipykernel\\__main__.py:24: FutureWarning: pd.rolling_mean is deprecated for Series and will be removed in a future version, replace with \n",
      "\tSeries.rolling(center=False,window=119).mean()\n",
      "C:\\Users\\User\\Anaconda2\\envs\\py35\\lib\\site-packages\\ipykernel\\__main__.py:25: FutureWarning: pd.rolling_mean is deprecated for Series and will be removed in a future version, replace with \n",
      "\tSeries.rolling(center=False,window=2).mean()\n"
     ]
    },
    {
     "name": "stdout",
     "output_type": "stream",
     "text": [
      "\r",
      " [*****                 11%                       ]  2 of 18 complete "
     ]
    },
    {
     "name": "stderr",
     "output_type": "stream",
     "text": [
      "C:\\Users\\User\\Anaconda2\\envs\\py35\\lib\\site-packages\\ipykernel\\__main__.py:25: FutureWarning: pd.rolling_mean is deprecated for Series and will be removed in a future version, replace with \n",
      "\tSeries.rolling(center=False,window=3).mean()\n"
     ]
    },
    {
     "name": "stdout",
     "output_type": "stream",
     "text": [
      "\r",
      " [********              17%                       ]  3 of 18 complete "
     ]
    },
    {
     "name": "stderr",
     "output_type": "stream",
     "text": [
      "C:\\Users\\User\\Anaconda2\\envs\\py35\\lib\\site-packages\\ipykernel\\__main__.py:25: FutureWarning: pd.rolling_mean is deprecated for Series and will be removed in a future version, replace with \n",
      "\tSeries.rolling(center=False,window=4).mean()\n"
     ]
    },
    {
     "name": "stdout",
     "output_type": "stream",
     "text": [
      "\r",
      " [***********           22%                       ]  4 of 18 complete "
     ]
    },
    {
     "name": "stderr",
     "output_type": "stream",
     "text": [
      "C:\\Users\\User\\Anaconda2\\envs\\py35\\lib\\site-packages\\ipykernel\\__main__.py:25: FutureWarning: pd.rolling_mean is deprecated for Series and will be removed in a future version, replace with \n",
      "\tSeries.rolling(center=False,window=5).mean()\n"
     ]
    },
    {
     "name": "stdout",
     "output_type": "stream",
     "text": [
      "\r",
      " [*************         28%                       ]  5 of 18 complete "
     ]
    },
    {
     "name": "stderr",
     "output_type": "stream",
     "text": [
      "C:\\Users\\User\\Anaconda2\\envs\\py35\\lib\\site-packages\\ipykernel\\__main__.py:25: FutureWarning: pd.rolling_mean is deprecated for Series and will be removed in a future version, replace with \n",
      "\tSeries.rolling(center=False,window=6).mean()\n"
     ]
    },
    {
     "name": "stdout",
     "output_type": "stream",
     "text": [
      "\r",
      " [****************      33%                       ]  6 of 18 complete "
     ]
    },
    {
     "name": "stderr",
     "output_type": "stream",
     "text": [
      "C:\\Users\\User\\Anaconda2\\envs\\py35\\lib\\site-packages\\ipykernel\\__main__.py:25: FutureWarning: pd.rolling_mean is deprecated for Series and will be removed in a future version, replace with \n",
      "\tSeries.rolling(center=False,window=7).mean()\n"
     ]
    },
    {
     "name": "stdout",
     "output_type": "stream",
     "text": [
      "\r",
      " [*******************   39%                       ]  7 of 18 complete "
     ]
    },
    {
     "name": "stderr",
     "output_type": "stream",
     "text": [
      "C:\\Users\\User\\Anaconda2\\envs\\py35\\lib\\site-packages\\ipykernel\\__main__.py:25: FutureWarning: pd.rolling_mean is deprecated for Series and will be removed in a future version, replace with \n",
      "\tSeries.rolling(center=False,window=8).mean()\n"
     ]
    },
    {
     "name": "stdout",
     "output_type": "stream",
     "text": [
      "\r",
      " [********************* 44%                       ]  8 of 18 complete "
     ]
    },
    {
     "name": "stderr",
     "output_type": "stream",
     "text": [
      "C:\\Users\\User\\Anaconda2\\envs\\py35\\lib\\site-packages\\ipykernel\\__main__.py:25: FutureWarning: pd.rolling_mean is deprecated for Series and will be removed in a future version, replace with \n",
      "\tSeries.rolling(center=False,window=9).mean()\n"
     ]
    },
    {
     "name": "stdout",
     "output_type": "stream",
     "text": [
      "\r",
      " [**********************50%                       ]  9 of 18 complete "
     ]
    },
    {
     "name": "stderr",
     "output_type": "stream",
     "text": [
      "C:\\Users\\User\\Anaconda2\\envs\\py35\\lib\\site-packages\\ipykernel\\__main__.py:25: FutureWarning: pd.rolling_mean is deprecated for Series and will be removed in a future version, replace with \n",
      "\tSeries.rolling(center=False,window=10).mean()\n"
     ]
    },
    {
     "name": "stdout",
     "output_type": "stream",
     "text": [
      "\r",
      " [**********************56%**                     ]  10 of 18 complete "
     ]
    },
    {
     "name": "stderr",
     "output_type": "stream",
     "text": [
      "C:\\Users\\User\\Anaconda2\\envs\\py35\\lib\\site-packages\\ipykernel\\__main__.py:25: FutureWarning: pd.rolling_mean is deprecated for Series and will be removed in a future version, replace with \n",
      "\tSeries.rolling(center=False,window=11).mean()\n"
     ]
    },
    {
     "name": "stdout",
     "output_type": "stream",
     "text": [
      "\r",
      " [**********************61%****                   ]  11 of 18 complete "
     ]
    },
    {
     "name": "stderr",
     "output_type": "stream",
     "text": [
      "C:\\Users\\User\\Anaconda2\\envs\\py35\\lib\\site-packages\\ipykernel\\__main__.py:25: FutureWarning: pd.rolling_mean is deprecated for Series and will be removed in a future version, replace with \n",
      "\tSeries.rolling(center=False,window=12).mean()\n"
     ]
    },
    {
     "name": "stdout",
     "output_type": "stream",
     "text": [
      "\r",
      " [**********************67%*******                ]  12 of 18 complete "
     ]
    },
    {
     "name": "stderr",
     "output_type": "stream",
     "text": [
      "C:\\Users\\User\\Anaconda2\\envs\\py35\\lib\\site-packages\\ipykernel\\__main__.py:25: FutureWarning: pd.rolling_mean is deprecated for Series and will be removed in a future version, replace with \n",
      "\tSeries.rolling(center=False,window=13).mean()\n"
     ]
    },
    {
     "name": "stdout",
     "output_type": "stream",
     "text": [
      "\r",
      " [**********************72%**********             ]  13 of 18 complete "
     ]
    },
    {
     "name": "stderr",
     "output_type": "stream",
     "text": [
      "C:\\Users\\User\\Anaconda2\\envs\\py35\\lib\\site-packages\\ipykernel\\__main__.py:25: FutureWarning: pd.rolling_mean is deprecated for Series and will be removed in a future version, replace with \n",
      "\tSeries.rolling(center=False,window=14).mean()\n"
     ]
    },
    {
     "name": "stdout",
     "output_type": "stream",
     "text": [
      "\r",
      " [**********************78%************           ]  14 of 18 complete "
     ]
    },
    {
     "name": "stderr",
     "output_type": "stream",
     "text": [
      "C:\\Users\\User\\Anaconda2\\envs\\py35\\lib\\site-packages\\ipykernel\\__main__.py:25: FutureWarning: pd.rolling_mean is deprecated for Series and will be removed in a future version, replace with \n",
      "\tSeries.rolling(center=False,window=15).mean()\n"
     ]
    },
    {
     "name": "stdout",
     "output_type": "stream",
     "text": [
      "\r",
      " [**********************83%***************        ]  15 of 18 complete "
     ]
    },
    {
     "name": "stderr",
     "output_type": "stream",
     "text": [
      "C:\\Users\\User\\Anaconda2\\envs\\py35\\lib\\site-packages\\ipykernel\\__main__.py:25: FutureWarning: pd.rolling_mean is deprecated for Series and will be removed in a future version, replace with \n",
      "\tSeries.rolling(center=False,window=16).mean()\n"
     ]
    },
    {
     "name": "stdout",
     "output_type": "stream",
     "text": [
      "\r",
      " [**********************89%******************     ]  16 of 18 complete "
     ]
    },
    {
     "name": "stderr",
     "output_type": "stream",
     "text": [
      "C:\\Users\\User\\Anaconda2\\envs\\py35\\lib\\site-packages\\ipykernel\\__main__.py:25: FutureWarning: pd.rolling_mean is deprecated for Series and will be removed in a future version, replace with \n",
      "\tSeries.rolling(center=False,window=17).mean()\n"
     ]
    },
    {
     "name": "stdout",
     "output_type": "stream",
     "text": [
      "\r",
      " [**********************94%********************   ]  17 of 18 complete "
     ]
    },
    {
     "name": "stderr",
     "output_type": "stream",
     "text": [
      "C:\\Users\\User\\Anaconda2\\envs\\py35\\lib\\site-packages\\ipykernel\\__main__.py:25: FutureWarning: pd.rolling_mean is deprecated for Series and will be removed in a future version, replace with \n",
      "\tSeries.rolling(center=False,window=18).mean()\n"
     ]
    },
    {
     "name": "stdout",
     "output_type": "stream",
     "text": [
      "\r",
      " [*********************100%***********************]  18 of 18 complete "
     ]
    },
    {
     "name": "stderr",
     "output_type": "stream",
     "text": [
      "C:\\Users\\User\\Anaconda2\\envs\\py35\\lib\\site-packages\\ipykernel\\__main__.py:25: FutureWarning: pd.rolling_mean is deprecated for Series and will be removed in a future version, replace with \n",
      "\tSeries.rolling(center=False,window=19).mean()\n"
     ]
    },
    {
     "name": "stdout",
     "output_type": "stream",
     "text": [
      "\n",
      "Best periods: [78, 9] (sharpe: 0.47)\n"
     ]
    },
    {
     "data": {
      "image/png": "[encoded data removed]",
      "text/plain": [
       "<matplotlib.figure.Figure at 0x15c980c4978>"
      ]
     },
     "metadata": {},
     "output_type": "display_data"
    }
   ],
   "source": [
    "spy.optimize(plotOn=True, outOfSample=250) #确定最优的periods参数"
   ]
  },
  {
   "cell_type": "code",
   "execution_count": 6,
   "metadata": {
    "collapsed": false
   },
   "outputs": [
    {
     "name": "stderr",
     "output_type": "stream",
     "text": [
      "C:\\Users\\User\\Anaconda2\\envs\\py35\\lib\\site-packages\\ipykernel\\__main__.py:24: FutureWarning: pd.rolling_mean is deprecated for Series and will be removed in a future version, replace with \n",
      "\tSeries.rolling(center=False,window=78).mean()\n",
      "C:\\Users\\User\\Anaconda2\\envs\\py35\\lib\\site-packages\\ipykernel\\__main__.py:25: FutureWarning: pd.rolling_mean is deprecated for Series and will be removed in a future version, replace with \n",
      "\tSeries.rolling(center=False,window=9).mean()\n"
     ]
    },
    {
     "data": {
      "image/png": "[encoded data removed]",
      "text/plain": [
       "<matplotlib.figure.Figure at 0x15c980b22e8>"
      ]
     },
     "metadata": {},
     "output_type": "display_data"
    }
   ],
   "source": [
    "spy.simulate(plotOn=True)"
   ]
  },
  {
   "cell_type": "code",
   "execution_count": 7,
   "metadata": {
    "collapsed": false
   },
   "outputs": [
    {
     "data": {
      "text/plain": [
       "<matplotlib.axes._subplots.AxesSubplot at 0x15c994789e8>"
      ]
     },
     "execution_count": 7,
     "metadata": {},
     "output_type": "execute_result"
    },
    {
     "data": {
      "image/png": "[encoded data removed]",
      "text/plain": [
       "<matplotlib.figure.Figure at 0x15c994bf128>"
      ]
     },
     "metadata": {},
     "output_type": "display_data"
    }
   ],
   "source": [
    "spy.backtest.pnl.plot()"
   ]
  },
  {
   "cell_type": "code",
   "execution_count": 8,
   "metadata": {
    "collapsed": true
   },
   "outputs": [],
   "source": [
    "step = 250 #步长为1年\n",
    "result = []"
   ]
  },
  {
   "cell_type": "code",
   "execution_count": 9,
   "metadata": {
    "collapsed": false,
    "scrolled": false
   },
   "outputs": [
    {
     "name": "stdout",
     "output_type": "stream",
     "text": [
      "use datas in range 2001-01-02 2003-12-29\n",
      "Optimizing...\n",
      "\r",
      " [                       0%                       ] "
     ]
    },
    {
     "name": "stderr",
     "output_type": "stream",
     "text": [
      "C:\\Users\\User\\Anaconda2\\envs\\py35\\lib\\site-packages\\ipykernel\\__main__.py:24: FutureWarning: pd.rolling_mean is deprecated for Series and will be removed in a future version, replace with \n",
      "\tSeries.rolling(center=False,window=20).mean()\n",
      "C:\\Users\\User\\Anaconda2\\envs\\py35\\lib\\site-packages\\ipykernel\\__main__.py:25: FutureWarning: pd.rolling_mean is deprecated for Series and will be removed in a future version, replace with \n",
      "\tSeries.rolling(center=False,window=1).mean()\n",
      "C:\\Users\\User\\Anaconda2\\envs\\py35\\lib\\site-packages\\ipykernel\\__main__.py:24: FutureWarning: pd.rolling_mean is deprecated for Series and will be removed in a future version, replace with \n",
      "\tSeries.rolling(center=False,window=21).mean()\n",
      "C:\\Users\\User\\Anaconda2\\envs\\py35\\lib\\site-packages\\ipykernel\\__main__.py:24: FutureWarning: pd.rolling_mean is deprecated for Series and will be removed in a future version, replace with \n",
      "\tSeries.rolling(center=False,window=22).mean()\n",
      "C:\\Users\\User\\Anaconda2\\envs\\py35\\lib\\site-packages\\ipykernel\\__main__.py:24: FutureWarning: pd.rolling_mean is deprecated for Series and will be removed in a future version, replace with \n",
      "\tSeries.rolling(center=False,window=23).mean()\n",
      "C:\\Users\\User\\Anaconda2\\envs\\py35\\lib\\site-packages\\ipykernel\\__main__.py:24: FutureWarning: pd.rolling_mean is deprecated for Series and will be removed in a future version, replace with \n",
      "\tSeries.rolling(center=False,window=24).mean()\n",
      "C:\\Users\\User\\Anaconda2\\envs\\py35\\lib\\site-packages\\ipykernel\\__main__.py:24: FutureWarning: pd.rolling_mean is deprecated for Series and will be removed in a future version, replace with \n",
      "\tSeries.rolling(center=False,window=25).mean()\n",
      "C:\\Users\\User\\Anaconda2\\envs\\py35\\lib\\site-packages\\ipykernel\\__main__.py:24: FutureWarning: pd.rolling_mean is deprecated for Series and will be removed in a future version, replace with \n",
      "\tSeries.rolling(center=False,window=26).mean()\n",
      "C:\\Users\\User\\Anaconda2\\envs\\py35\\lib\\site-packages\\ipykernel\\__main__.py:24: FutureWarning: pd.rolling_mean is deprecated for Series and will be removed in a future version, replace with \n",
      "\tSeries.rolling(center=False,window=27).mean()\n",
      "C:\\Users\\User\\Anaconda2\\envs\\py35\\lib\\site-packages\\ipykernel\\__main__.py:24: FutureWarning: pd.rolling_mean is deprecated for Series and will be removed in a future version, replace with \n",
      "\tSeries.rolling(center=False,window=28).mean()\n",
      "C:\\Users\\User\\Anaconda2\\envs\\py35\\lib\\site-packages\\ipykernel\\__main__.py:24: FutureWarning: pd.rolling_mean is deprecated for Series and will be removed in a future version, replace with \n",
      "\tSeries.rolling(center=False,window=29).mean()\n",
      "C:\\Users\\User\\Anaconda2\\envs\\py35\\lib\\site-packages\\ipykernel\\__main__.py:24: FutureWarning: pd.rolling_mean is deprecated for Series and will be removed in a future version, replace with \n",
      "\tSeries.rolling(center=False,window=30).mean()\n",
      "C:\\Users\\User\\Anaconda2\\envs\\py35\\lib\\site-packages\\ipykernel\\__main__.py:24: FutureWarning: pd.rolling_mean is deprecated for Series and will be removed in a future version, replace with \n",
      "\tSeries.rolling(center=False,window=31).mean()\n",
      "C:\\Users\\User\\Anaconda2\\envs\\py35\\lib\\site-packages\\ipykernel\\__main__.py:24: FutureWarning: pd.rolling_mean is deprecated for Series and will be removed in a future version, replace with \n",
      "\tSeries.rolling(center=False,window=32).mean()\n",
      "C:\\Users\\User\\Anaconda2\\envs\\py35\\lib\\site-packages\\ipykernel\\__main__.py:24: FutureWarning: pd.rolling_mean is deprecated for Series and will be removed in a future version, replace with \n",
      "\tSeries.rolling(center=False,window=33).mean()\n",
      "C:\\Users\\User\\Anaconda2\\envs\\py35\\lib\\site-packages\\ipykernel\\__main__.py:24: FutureWarning: pd.rolling_mean is deprecated for Series and will be removed in a future version, replace with \n",
      "\tSeries.rolling(center=False,window=34).mean()\n",
      "C:\\Users\\User\\Anaconda2\\envs\\py35\\lib\\site-packages\\ipykernel\\__main__.py:24: FutureWarning: pd.rolling_mean is deprecated for Series and will be removed in a future version, replace with \n",
      "\tSeries.rolling(center=False,window=35).mean()\n",
      "C:\\Users\\User\\Anaconda2\\envs\\py35\\lib\\site-packages\\ipykernel\\__main__.py:24: FutureWarning: pd.rolling_mean is deprecated for Series and will be removed in a future version, replace with \n",
      "\tSeries.rolling(center=False,window=36).mean()\n",
      "C:\\Users\\User\\Anaconda2\\envs\\py35\\lib\\site-packages\\ipykernel\\__main__.py:24: FutureWarning: pd.rolling_mean is deprecated for Series and will be removed in a future version, replace with \n",
      "\tSeries.rolling(center=False,window=37).mean()\n",
      "C:\\Users\\User\\Anaconda2\\envs\\py35\\lib\\site-packages\\ipykernel\\__main__.py:24: FutureWarning: pd.rolling_mean is deprecated for Series and will be removed in a future version, replace with \n",
      "\tSeries.rolling(center=False,window=38).mean()\n",
      "C:\\Users\\User\\Anaconda2\\envs\\py35\\lib\\site-packages\\ipykernel\\__main__.py:24: FutureWarning: pd.rolling_mean is deprecated for Series and will be removed in a future version, replace with \n",
      "\tSeries.rolling(center=False,window=39).mean()\n",
      "C:\\Users\\User\\Anaconda2\\envs\\py35\\lib\\site-packages\\ipykernel\\__main__.py:24: FutureWarning: pd.rolling_mean is deprecated for Series and will be removed in a future version, replace with \n",
      "\tSeries.rolling(center=False,window=40).mean()\n",
      "C:\\Users\\User\\Anaconda2\\envs\\py35\\lib\\site-packages\\ipykernel\\__main__.py:24: FutureWarning: pd.rolling_mean is deprecated for Series and will be removed in a future version, replace with \n",
      "\tSeries.rolling(center=False,window=41).mean()\n",
      "C:\\Users\\User\\Anaconda2\\envs\\py35\\lib\\site-packages\\ipykernel\\__main__.py:24: FutureWarning: pd.rolling_mean is deprecated for Series and will be removed in a future version, replace with \n",
      "\tSeries.rolling(center=False,window=42).mean()\n",
      "C:\\Users\\User\\Anaconda2\\envs\\py35\\lib\\site-packages\\ipykernel\\__main__.py:24: FutureWarning: pd.rolling_mean is deprecated for Series and will be removed in a future version, replace with \n",
      "\tSeries.rolling(center=False,window=43).mean()\n",
      "C:\\Users\\User\\Anaconda2\\envs\\py35\\lib\\site-packages\\ipykernel\\__main__.py:24: FutureWarning: pd.rolling_mean is deprecated for Series and will be removed in a future version, replace with \n",
      "\tSeries.rolling(center=False,window=44).mean()\n",
      "C:\\Users\\User\\Anaconda2\\envs\\py35\\lib\\site-packages\\ipykernel\\__main__.py:24: FutureWarning: pd.rolling_mean is deprecated for Series and will be removed in a future version, replace with \n",
      "\tSeries.rolling(center=False,window=45).mean()\n",
      "C:\\Users\\User\\Anaconda2\\envs\\py35\\lib\\site-packages\\ipykernel\\__main__.py:24: FutureWarning: pd.rolling_mean is deprecated for Series and will be removed in a future version, replace with \n",
      "\tSeries.rolling(center=False,window=46).mean()\n",
      "C:\\Users\\User\\Anaconda2\\envs\\py35\\lib\\site-packages\\ipykernel\\__main__.py:24: FutureWarning: pd.rolling_mean is deprecated for Series and will be removed in a future version, replace with \n",
      "\tSeries.rolling(center=False,window=47).mean()\n",
      "C:\\Users\\User\\Anaconda2\\envs\\py35\\lib\\site-packages\\ipykernel\\__main__.py:24: FutureWarning: pd.rolling_mean is deprecated for Series and will be removed in a future version, replace with \n",
      "\tSeries.rolling(center=False,window=48).mean()\n",
      "C:\\Users\\User\\Anaconda2\\envs\\py35\\lib\\site-packages\\ipykernel\\__main__.py:24: FutureWarning: pd.rolling_mean is deprecated for Series and will be removed in a future version, replace with \n",
      "\tSeries.rolling(center=False,window=49).mean()\n",
      "C:\\Users\\User\\Anaconda2\\envs\\py35\\lib\\site-packages\\ipykernel\\__main__.py:24: FutureWarning: pd.rolling_mean is deprecated for Series and will be removed in a future version, replace with \n",
      "\tSeries.rolling(center=False,window=50).mean()\n",
      "C:\\Users\\User\\Anaconda2\\envs\\py35\\lib\\site-packages\\ipykernel\\__main__.py:24: FutureWarning: pd.rolling_mean is deprecated for Series and will be removed in a future version, replace with \n",
      "\tSeries.rolling(center=False,window=51).mean()\n",
      "C:\\Users\\User\\Anaconda2\\envs\\py35\\lib\\site-packages\\ipykernel\\__main__.py:24: FutureWarning: pd.rolling_mean is deprecated for Series and will be removed in a future version, replace with \n",
      "\tSeries.rolling(center=False,window=52).mean()\n",
      "C:\\Users\\User\\Anaconda2\\envs\\py35\\lib\\site-packages\\ipykernel\\__main__.py:24: FutureWarning: pd.rolling_mean is deprecated for Series and will be removed in a future version, replace with \n",
      "\tSeries.rolling(center=False,window=53).mean()\n",
      "C:\\Users\\User\\Anaconda2\\envs\\py35\\lib\\site-packages\\ipykernel\\__main__.py:24: FutureWarning: pd.rolling_mean is deprecated for Series and will be removed in a future version, replace with \n",
      "\tSeries.rolling(center=False,window=54).mean()\n",
      "C:\\Users\\User\\Anaconda2\\envs\\py35\\lib\\site-packages\\ipykernel\\__main__.py:24: FutureWarning: pd.rolling_mean is deprecated for Series and will be removed in a future version, replace with \n",
      "\tSeries.rolling(center=False,window=55).mean()\n",
      "C:\\Users\\User\\Anaconda2\\envs\\py35\\lib\\site-packages\\ipykernel\\__main__.py:24: FutureWarning: pd.rolling_mean is deprecated for Series and will be removed in a future version, replace with \n",
      "\tSeries.rolling(center=False,window=56).mean()\n",
      "C:\\Users\\User\\Anaconda2\\envs\\py35\\lib\\site-packages\\ipykernel\\__main__.py:24: FutureWarning: pd.rolling_mean is deprecated for Series and will be removed in a future version, replace with \n",
      "\tSeries.rolling(center=False,window=57).mean()\n",
      "C:\\Users\\User\\Anaconda2\\envs\\py35\\lib\\site-packages\\ipykernel\\__main__.py:24: FutureWarning: pd.rolling_mean is deprecated for Series and will be removed in a future version, replace with \n",
      "\tSeries.rolling(center=False,window=58).mean()\n",
      "C:\\Users\\User\\Anaconda2\\envs\\py35\\lib\\site-packages\\ipykernel\\__main__.py:24: FutureWarning: pd.rolling_mean is deprecated for Series and will be removed in a future version, replace with \n",
      "\tSeries.rolling(center=False,window=59).mean()\n",
      "C:\\Users\\User\\Anaconda2\\envs\\py35\\lib\\site-packages\\ipykernel\\__main__.py:24: FutureWarning: pd.rolling_mean is deprecated for Series and will be removed in a future version, replace with \n",
      "\tSeries.rolling(center=False,window=60).mean()\n",
      "C:\\Users\\User\\Anaconda2\\envs\\py35\\lib\\site-packages\\ipykernel\\__main__.py:24: FutureWarning: pd.rolling_mean is deprecated for Series and will be removed in a future version, replace with \n",
      "\tSeries.rolling(center=False,window=61).mean()\n",
      "C:\\Users\\User\\Anaconda2\\envs\\py35\\lib\\site-packages\\ipykernel\\__main__.py:24: FutureWarning: pd.rolling_mean is deprecated for Series and will be removed in a future version, replace with \n",
      "\tSeries.rolling(center=False,window=62).mean()\n",
      "C:\\Users\\User\\Anaconda2\\envs\\py35\\lib\\site-packages\\ipykernel\\__main__.py:24: FutureWarning: pd.rolling_mean is deprecated for Series and will be removed in a future version, replace with \n",
      "\tSeries.rolling(center=False,window=63).mean()\n",
      "C:\\Users\\User\\Anaconda2\\envs\\py35\\lib\\site-packages\\ipykernel\\__main__.py:24: FutureWarning: pd.rolling_mean is deprecated for Series and will be removed in a future version, replace with \n",
      "\tSeries.rolling(center=False,window=64).mean()\n",
      "C:\\Users\\User\\Anaconda2\\envs\\py35\\lib\\site-packages\\ipykernel\\__main__.py:24: FutureWarning: pd.rolling_mean is deprecated for Series and will be removed in a future version, replace with \n",
      "\tSeries.rolling(center=False,window=65).mean()\n",
      "C:\\Users\\User\\Anaconda2\\envs\\py35\\lib\\site-packages\\ipykernel\\__main__.py:24: FutureWarning: pd.rolling_mean is deprecated for Series and will be removed in a future version, replace with \n",
      "\tSeries.rolling(center=False,window=66).mean()\n",
      "C:\\Users\\User\\Anaconda2\\envs\\py35\\lib\\site-packages\\ipykernel\\__main__.py:24: FutureWarning: pd.rolling_mean is deprecated for Series and will be removed in a future version, replace with \n",
      "\tSeries.rolling(center=False,window=67).mean()\n",
      "C:\\Users\\User\\Anaconda2\\envs\\py35\\lib\\site-packages\\ipykernel\\__main__.py:24: FutureWarning: pd.rolling_mean is deprecated for Series and will be removed in a future version, replace with \n",
      "\tSeries.rolling(center=False,window=68).mean()\n",
      "C:\\Users\\User\\Anaconda2\\envs\\py35\\lib\\site-packages\\ipykernel\\__main__.py:24: FutureWarning: pd.rolling_mean is deprecated for Series and will be removed in a future version, replace with \n",
      "\tSeries.rolling(center=False,window=69).mean()\n",
      "C:\\Users\\User\\Anaconda2\\envs\\py35\\lib\\site-packages\\ipykernel\\__main__.py:24: FutureWarning: pd.rolling_mean is deprecated for Series and will be removed in a future version, replace with \n",
      "\tSeries.rolling(center=False,window=70).mean()\n",
      "C:\\Users\\User\\Anaconda2\\envs\\py35\\lib\\site-packages\\ipykernel\\__main__.py:24: FutureWarning: pd.rolling_mean is deprecated for Series and will be removed in a future version, replace with \n",
      "\tSeries.rolling(center=False,window=71).mean()\n",
      "C:\\Users\\User\\Anaconda2\\envs\\py35\\lib\\site-packages\\ipykernel\\__main__.py:24: FutureWarning: pd.rolling_mean is deprecated for Series and will be removed in a future version, replace with \n",
      "\tSeries.rolling(center=False,window=72).mean()\n",
      "C:\\Users\\User\\Anaconda2\\envs\\py35\\lib\\site-packages\\ipykernel\\__main__.py:24: FutureWarning: pd.rolling_mean is deprecated for Series and will be removed in a future version, replace with \n",
      "\tSeries.rolling(center=False,window=73).mean()\n",
      "C:\\Users\\User\\Anaconda2\\envs\\py35\\lib\\site-packages\\ipykernel\\__main__.py:24: FutureWarning: pd.rolling_mean is deprecated for Series and will be removed in a future version, replace with \n",
      "\tSeries.rolling(center=False,window=74).mean()\n",
      "C:\\Users\\User\\Anaconda2\\envs\\py35\\lib\\site-packages\\ipykernel\\__main__.py:24: FutureWarning: pd.rolling_mean is deprecated for Series and will be removed in a future version, replace with \n",
      "\tSeries.rolling(center=False,window=75).mean()\n",
      "C:\\Users\\User\\Anaconda2\\envs\\py35\\lib\\site-packages\\ipykernel\\__main__.py:24: FutureWarning: pd.rolling_mean is deprecated for Series and will be removed in a future version, replace with \n",
      "\tSeries.rolling(center=False,window=76).mean()\n",
      "C:\\Users\\User\\Anaconda2\\envs\\py35\\lib\\site-packages\\ipykernel\\__main__.py:24: FutureWarning: pd.rolling_mean is deprecated for Series and will be removed in a future version, replace with \n",
      "\tSeries.rolling(center=False,window=77).mean()\n",
      "C:\\Users\\User\\Anaconda2\\envs\\py35\\lib\\site-packages\\ipykernel\\__main__.py:24: FutureWarning: pd.rolling_mean is deprecated for Series and will be removed in a future version, replace with \n",
      "\tSeries.rolling(center=False,window=78).mean()\n",
      "C:\\Users\\User\\Anaconda2\\envs\\py35\\lib\\site-packages\\ipykernel\\__main__.py:24: FutureWarning: pd.rolling_mean is deprecated for Series and will be removed in a future version, replace with \n",
      "\tSeries.rolling(center=False,window=79).mean()\n",
      "C:\\Users\\User\\Anaconda2\\envs\\py35\\lib\\site-packages\\ipykernel\\__main__.py:24: FutureWarning: pd.rolling_mean is deprecated for Series and will be removed in a future version, replace with \n",
      "\tSeries.rolling(center=False,window=80).mean()\n",
      "C:\\Users\\User\\Anaconda2\\envs\\py35\\lib\\site-packages\\ipykernel\\__main__.py:24: FutureWarning: pd.rolling_mean is deprecated for Series and will be removed in a future version, replace with \n",
      "\tSeries.rolling(center=False,window=81).mean()\n",
      "C:\\Users\\User\\Anaconda2\\envs\\py35\\lib\\site-packages\\ipykernel\\__main__.py:24: FutureWarning: pd.rolling_mean is deprecated for Series and will be removed in a future version, replace with \n",
      "\tSeries.rolling(center=False,window=82).mean()\n",
      "C:\\Users\\User\\Anaconda2\\envs\\py35\\lib\\site-packages\\ipykernel\\__main__.py:24: FutureWarning: pd.rolling_mean is deprecated for Series and will be removed in a future version, replace with \n",
      "\tSeries.rolling(center=False,window=83).mean()\n",
      "C:\\Users\\User\\Anaconda2\\envs\\py35\\lib\\site-packages\\ipykernel\\__main__.py:24: FutureWarning: pd.rolling_mean is deprecated for Series and will be removed in a future version, replace with \n",
      "\tSeries.rolling(center=False,window=84).mean()\n",
      "C:\\Users\\User\\Anaconda2\\envs\\py35\\lib\\site-packages\\ipykernel\\__main__.py:24: FutureWarning: pd.rolling_mean is deprecated for Series and will be removed in a future version, replace with \n",
      "\tSeries.rolling(center=False,window=85).mean()\n",
      "C:\\Users\\User\\Anaconda2\\envs\\py35\\lib\\site-packages\\ipykernel\\__main__.py:24: FutureWarning: pd.rolling_mean is deprecated for Series and will be removed in a future version, replace with \n",
      "\tSeries.rolling(center=False,window=86).mean()\n",
      "C:\\Users\\User\\Anaconda2\\envs\\py35\\lib\\site-packages\\ipykernel\\__main__.py:24: FutureWarning: pd.rolling_mean is deprecated for Series and will be removed in a future version, replace with \n",
      "\tSeries.rolling(center=False,window=87).mean()\n",
      "C:\\Users\\User\\Anaconda2\\envs\\py35\\lib\\site-packages\\ipykernel\\__main__.py:24: FutureWarning: pd.rolling_mean is deprecated for Series and will be removed in a future version, replace with \n",
      "\tSeries.rolling(center=False,window=88).mean()\n",
      "C:\\Users\\User\\Anaconda2\\envs\\py35\\lib\\site-packages\\ipykernel\\__main__.py:24: FutureWarning: pd.rolling_mean is deprecated for Series and will be removed in a future version, replace with \n",
      "\tSeries.rolling(center=False,window=89).mean()\n",
      "C:\\Users\\User\\Anaconda2\\envs\\py35\\lib\\site-packages\\ipykernel\\__main__.py:24: FutureWarning: pd.rolling_mean is deprecated for Series and will be removed in a future version, replace with \n",
      "\tSeries.rolling(center=False,window=90).mean()\n",
      "C:\\Users\\User\\Anaconda2\\envs\\py35\\lib\\site-packages\\ipykernel\\__main__.py:24: FutureWarning: pd.rolling_mean is deprecated for Series and will be removed in a future version, replace with \n",
      "\tSeries.rolling(center=False,window=91).mean()\n",
      "C:\\Users\\User\\Anaconda2\\envs\\py35\\lib\\site-packages\\ipykernel\\__main__.py:24: FutureWarning: pd.rolling_mean is deprecated for Series and will be removed in a future version, replace with \n",
      "\tSeries.rolling(center=False,window=92).mean()\n",
      "C:\\Users\\User\\Anaconda2\\envs\\py35\\lib\\site-packages\\ipykernel\\__main__.py:24: FutureWarning: pd.rolling_mean is deprecated for Series and will be removed in a future version, replace with \n",
      "\tSeries.rolling(center=False,window=93).mean()\n",
      "C:\\Users\\User\\Anaconda2\\envs\\py35\\lib\\site-packages\\ipykernel\\__main__.py:24: FutureWarning: pd.rolling_mean is deprecated for Series and will be removed in a future version, replace with \n",
      "\tSeries.rolling(center=False,window=94).mean()\n",
      "C:\\Users\\User\\Anaconda2\\envs\\py35\\lib\\site-packages\\ipykernel\\__main__.py:24: FutureWarning: pd.rolling_mean is deprecated for Series and will be removed in a future version, replace with \n",
      "\tSeries.rolling(center=False,window=95).mean()\n"
     ]
    },
    {
     "name": "stdout",
     "output_type": "stream",
     "text": [
      "\r",
      " [***                    6%                       ]  1 of 18 complete "
     ]
    },
    {
     "name": "stderr",
     "output_type": "stream",
     "text": [
      "C:\\Users\\User\\Anaconda2\\envs\\py35\\lib\\site-packages\\ipykernel\\__main__.py:24: FutureWarning: pd.rolling_mean is deprecated for Series and will be removed in a future version, replace with \n",
      "\tSeries.rolling(center=False,window=96).mean()\n",
      "C:\\Users\\User\\Anaconda2\\envs\\py35\\lib\\site-packages\\ipykernel\\__main__.py:24: FutureWarning: pd.rolling_mean is deprecated for Series and will be removed in a future version, replace with \n",
      "\tSeries.rolling(center=False,window=97).mean()\n",
      "C:\\Users\\User\\Anaconda2\\envs\\py35\\lib\\site-packages\\ipykernel\\__main__.py:24: FutureWarning: pd.rolling_mean is deprecated for Series and will be removed in a future version, replace with \n",
      "\tSeries.rolling(center=False,window=98).mean()\n",
      "C:\\Users\\User\\Anaconda2\\envs\\py35\\lib\\site-packages\\ipykernel\\__main__.py:24: FutureWarning: pd.rolling_mean is deprecated for Series and will be removed in a future version, replace with \n",
      "\tSeries.rolling(center=False,window=99).mean()\n",
      "C:\\Users\\User\\Anaconda2\\envs\\py35\\lib\\site-packages\\ipykernel\\__main__.py:24: FutureWarning: pd.rolling_mean is deprecated for Series and will be removed in a future version, replace with \n",
      "\tSeries.rolling(center=False,window=100).mean()\n",
      "C:\\Users\\User\\Anaconda2\\envs\\py35\\lib\\site-packages\\ipykernel\\__main__.py:24: FutureWarning: pd.rolling_mean is deprecated for Series and will be removed in a future version, replace with \n",
      "\tSeries.rolling(center=False,window=101).mean()\n",
      "C:\\Users\\User\\Anaconda2\\envs\\py35\\lib\\site-packages\\ipykernel\\__main__.py:24: FutureWarning: pd.rolling_mean is deprecated for Series and will be removed in a future version, replace with \n",
      "\tSeries.rolling(center=False,window=102).mean()\n",
      "C:\\Users\\User\\Anaconda2\\envs\\py35\\lib\\site-packages\\ipykernel\\__main__.py:24: FutureWarning: pd.rolling_mean is deprecated for Series and will be removed in a future version, replace with \n",
      "\tSeries.rolling(center=False,window=103).mean()\n",
      "C:\\Users\\User\\Anaconda2\\envs\\py35\\lib\\site-packages\\ipykernel\\__main__.py:24: FutureWarning: pd.rolling_mean is deprecated for Series and will be removed in a future version, replace with \n",
      "\tSeries.rolling(center=False,window=104).mean()\n",
      "C:\\Users\\User\\Anaconda2\\envs\\py35\\lib\\site-packages\\ipykernel\\__main__.py:24: FutureWarning: pd.rolling_mean is deprecated for Series and will be removed in a future version, replace with \n",
      "\tSeries.rolling(center=False,window=105).mean()\n",
      "C:\\Users\\User\\Anaconda2\\envs\\py35\\lib\\site-packages\\ipykernel\\__main__.py:24: FutureWarning: pd.rolling_mean is deprecated for Series and will be removed in a future version, replace with \n",
      "\tSeries.rolling(center=False,window=106).mean()\n",
      "C:\\Users\\User\\Anaconda2\\envs\\py35\\lib\\site-packages\\ipykernel\\__main__.py:24: FutureWarning: pd.rolling_mean is deprecated for Series and will be removed in a future version, replace with \n",
      "\tSeries.rolling(center=False,window=107).mean()\n",
      "C:\\Users\\User\\Anaconda2\\envs\\py35\\lib\\site-packages\\ipykernel\\__main__.py:24: FutureWarning: pd.rolling_mean is deprecated for Series and will be removed in a future version, replace with \n",
      "\tSeries.rolling(center=False,window=108).mean()\n",
      "C:\\Users\\User\\Anaconda2\\envs\\py35\\lib\\site-packages\\ipykernel\\__main__.py:24: FutureWarning: pd.rolling_mean is deprecated for Series and will be removed in a future version, replace with \n",
      "\tSeries.rolling(center=False,window=109).mean()\n",
      "C:\\Users\\User\\Anaconda2\\envs\\py35\\lib\\site-packages\\ipykernel\\__main__.py:24: FutureWarning: pd.rolling_mean is deprecated for Series and will be removed in a future version, replace with \n",
      "\tSeries.rolling(center=False,window=110).mean()\n",
      "C:\\Users\\User\\Anaconda2\\envs\\py35\\lib\\site-packages\\ipykernel\\__main__.py:24: FutureWarning: pd.rolling_mean is deprecated for Series and will be removed in a future version, replace with \n",
      "\tSeries.rolling(center=False,window=111).mean()\n",
      "C:\\Users\\User\\Anaconda2\\envs\\py35\\lib\\site-packages\\ipykernel\\__main__.py:24: FutureWarning: pd.rolling_mean is deprecated for Series and will be removed in a future version, replace with \n",
      "\tSeries.rolling(center=False,window=112).mean()\n",
      "C:\\Users\\User\\Anaconda2\\envs\\py35\\lib\\site-packages\\ipykernel\\__main__.py:24: FutureWarning: pd.rolling_mean is deprecated for Series and will be removed in a future version, replace with \n",
      "\tSeries.rolling(center=False,window=113).mean()\n",
      "C:\\Users\\User\\Anaconda2\\envs\\py35\\lib\\site-packages\\ipykernel\\__main__.py:24: FutureWarning: pd.rolling_mean is deprecated for Series and will be removed in a future version, replace with \n",
      "\tSeries.rolling(center=False,window=114).mean()\n",
      "C:\\Users\\User\\Anaconda2\\envs\\py35\\lib\\site-packages\\ipykernel\\__main__.py:24: FutureWarning: pd.rolling_mean is deprecated for Series and will be removed in a future version, replace with \n",
      "\tSeries.rolling(center=False,window=115).mean()\n",
      "C:\\Users\\User\\Anaconda2\\envs\\py35\\lib\\site-packages\\ipykernel\\__main__.py:24: FutureWarning: pd.rolling_mean is deprecated for Series and will be removed in a future version, replace with \n",
      "\tSeries.rolling(center=False,window=116).mean()\n",
      "C:\\Users\\User\\Anaconda2\\envs\\py35\\lib\\site-packages\\ipykernel\\__main__.py:24: FutureWarning: pd.rolling_mean is deprecated for Series and will be removed in a future version, replace with \n",
      "\tSeries.rolling(center=False,window=117).mean()\n",
      "C:\\Users\\User\\Anaconda2\\envs\\py35\\lib\\site-packages\\ipykernel\\__main__.py:24: FutureWarning: pd.rolling_mean is deprecated for Series and will be removed in a future version, replace with \n",
      "\tSeries.rolling(center=False,window=118).mean()\n",
      "C:\\Users\\User\\Anaconda2\\envs\\py35\\lib\\site-packages\\ipykernel\\__main__.py:24: FutureWarning: pd.rolling_mean is deprecated for Series and will be removed in a future version, replace with \n",
      "\tSeries.rolling(center=False,window=119).mean()\n",
      "C:\\Users\\User\\Anaconda2\\envs\\py35\\lib\\site-packages\\ipykernel\\__main__.py:25: FutureWarning: pd.rolling_mean is deprecated for Series and will be removed in a future version, replace with \n",
      "\tSeries.rolling(center=False,window=2).mean()\n"
     ]
    },
    {
     "name": "stdout",
     "output_type": "stream",
     "text": [
      "\r",
      " [*****                 11%                       ]  2 of 18 complete "
     ]
    },
    {
     "name": "stderr",
     "output_type": "stream",
     "text": [
      "C:\\Users\\User\\Anaconda2\\envs\\py35\\lib\\site-packages\\ipykernel\\__main__.py:25: FutureWarning: pd.rolling_mean is deprecated for Series and will be removed in a future version, replace with \n",
      "\tSeries.rolling(center=False,window=3).mean()\n"
     ]
    },
    {
     "name": "stdout",
     "output_type": "stream",
     "text": [
      "\r",
      " [********              17%                       ]  3 of 18 complete "
     ]
    },
    {
     "name": "stderr",
     "output_type": "stream",
     "text": [
      "C:\\Users\\User\\Anaconda2\\envs\\py35\\lib\\site-packages\\ipykernel\\__main__.py:25: FutureWarning: pd.rolling_mean is deprecated for Series and will be removed in a future version, replace with \n",
      "\tSeries.rolling(center=False,window=4).mean()\n"
     ]
    },
    {
     "name": "stdout",
     "output_type": "stream",
     "text": [
      "\r",
      " [***********           22%                       ]  4 of 18 complete "
     ]
    },
    {
     "name": "stderr",
     "output_type": "stream",
     "text": [
      "C:\\Users\\User\\Anaconda2\\envs\\py35\\lib\\site-packages\\ipykernel\\__main__.py:25: FutureWarning: pd.rolling_mean is deprecated for Series and will be removed in a future version, replace with \n",
      "\tSeries.rolling(center=False,window=5).mean()\n"
     ]
    },
    {
     "name": "stdout",
     "output_type": "stream",
     "text": [
      "\r",
      " [*************         28%                       ]  5 of 18 complete "
     ]
    },
    {
     "name": "stderr",
     "output_type": "stream",
     "text": [
      "C:\\Users\\User\\Anaconda2\\envs\\py35\\lib\\site-packages\\ipykernel\\__main__.py:25: FutureWarning: pd.rolling_mean is deprecated for Series and will be removed in a future version, replace with \n",
      "\tSeries.rolling(center=False,window=6).mean()\n"
     ]
    },
    {
     "name": "stdout",
     "output_type": "stream",
     "text": [
      "\r",
      " [****************      33%                       ]  6 of 18 complete "
     ]
    },
    {
     "name": "stderr",
     "output_type": "stream",
     "text": [
      "C:\\Users\\User\\Anaconda2\\envs\\py35\\lib\\site-packages\\ipykernel\\__main__.py:25: FutureWarning: pd.rolling_mean is deprecated for Series and will be removed in a future version, replace with \n",
      "\tSeries.rolling(center=False,window=7).mean()\n"
     ]
    },
    {
     "name": "stdout",
     "output_type": "stream",
     "text": [
      "\r",
      " [*******************   39%                       ]  7 of 18 complete "
     ]
    },
    {
     "name": "stderr",
     "output_type": "stream",
     "text": [
      "C:\\Users\\User\\Anaconda2\\envs\\py35\\lib\\site-packages\\ipykernel\\__main__.py:25: FutureWarning: pd.rolling_mean is deprecated for Series and will be removed in a future version, replace with \n",
      "\tSeries.rolling(center=False,window=8).mean()\n"
     ]
    },
    {
     "name": "stdout",
     "output_type": "stream",
     "text": [
      "\r",
      " [********************* 44%                       ]  8 of 18 complete "
     ]
    },
    {
     "name": "stderr",
     "output_type": "stream",
     "text": [
      "C:\\Users\\User\\Anaconda2\\envs\\py35\\lib\\site-packages\\ipykernel\\__main__.py:25: FutureWarning: pd.rolling_mean is deprecated for Series and will be removed in a future version, replace with \n",
      "\tSeries.rolling(center=False,window=9).mean()\n"
     ]
    },
    {
     "name": "stdout",
     "output_type": "stream",
     "text": [
      "\r",
      " [**********************50%                       ]  9 of 18 complete "
     ]
    },
    {
     "name": "stderr",
     "output_type": "stream",
     "text": [
      "C:\\Users\\User\\Anaconda2\\envs\\py35\\lib\\site-packages\\ipykernel\\__main__.py:25: FutureWarning: pd.rolling_mean is deprecated for Series and will be removed in a future version, replace with \n",
      "\tSeries.rolling(center=False,window=10).mean()\n"
     ]
    },
    {
     "name": "stdout",
     "output_type": "stream",
     "text": [
      "\r",
      " [**********************56%**                     ]  10 of 18 complete "
     ]
    },
    {
     "name": "stderr",
     "output_type": "stream",
     "text": [
      "C:\\Users\\User\\Anaconda2\\envs\\py35\\lib\\site-packages\\ipykernel\\__main__.py:25: FutureWarning: pd.rolling_mean is deprecated for Series and will be removed in a future version, replace with \n",
      "\tSeries.rolling(center=False,window=11).mean()\n"
     ]
    },
    {
     "name": "stdout",
     "output_type": "stream",
     "text": [
      "\r",
      " [**********************61%****                   ]  11 of 18 complete "
     ]
    },
    {
     "name": "stderr",
     "output_type": "stream",
     "text": [
      "C:\\Users\\User\\Anaconda2\\envs\\py35\\lib\\site-packages\\ipykernel\\__main__.py:25: FutureWarning: pd.rolling_mean is deprecated for Series and will be removed in a future version, replace with \n",
      "\tSeries.rolling(center=False,window=12).mean()\n"
     ]
    },
    {
     "name": "stdout",
     "output_type": "stream",
     "text": [
      "\r",
      " [**********************67%*******                ]  12 of 18 complete "
     ]
    },
    {
     "name": "stderr",
     "output_type": "stream",
     "text": [
      "C:\\Users\\User\\Anaconda2\\envs\\py35\\lib\\site-packages\\ipykernel\\__main__.py:25: FutureWarning: pd.rolling_mean is deprecated for Series and will be removed in a future version, replace with \n",
      "\tSeries.rolling(center=False,window=13).mean()\n"
     ]
    },
    {
     "name": "stdout",
     "output_type": "stream",
     "text": [
      "\r",
      " [**********************72%**********             ]  13 of 18 complete "
     ]
    },
    {
     "name": "stderr",
     "output_type": "stream",
     "text": [
      "C:\\Users\\User\\Anaconda2\\envs\\py35\\lib\\site-packages\\ipykernel\\__main__.py:25: FutureWarning: pd.rolling_mean is deprecated for Series and will be removed in a future version, replace with \n",
      "\tSeries.rolling(center=False,window=14).mean()\n"
     ]
    },
    {
     "name": "stdout",
     "output_type": "stream",
     "text": [
      "\r",
      " [**********************78%************           ]  14 of 18 complete "
     ]
    },
    {
     "name": "stderr",
     "output_type": "stream",
     "text": [
      "C:\\Users\\User\\Anaconda2\\envs\\py35\\lib\\site-packages\\ipykernel\\__main__.py:25: FutureWarning: pd.rolling_mean is deprecated for Series and will be removed in a future version, replace with \n",
      "\tSeries.rolling(center=False,window=15).mean()\n"
     ]
    },
    {
     "name": "stdout",
     "output_type": "stream",
     "text": [
      "\r",
      " [**********************83%***************        ]  15 of 18 complete "
     ]
    },
    {
     "name": "stderr",
     "output_type": "stream",
     "text": [
      "C:\\Users\\User\\Anaconda2\\envs\\py35\\lib\\site-packages\\ipykernel\\__main__.py:25: FutureWarning: pd.rolling_mean is deprecated for Series and will be removed in a future version, replace with \n",
      "\tSeries.rolling(center=False,window=16).mean()\n"
     ]
    },
    {
     "name": "stdout",
     "output_type": "stream",
     "text": [
      "\r",
      " [**********************89%******************     ]  16 of 18 complete "
     ]
    },
    {
     "name": "stderr",
     "output_type": "stream",
     "text": [
      "C:\\Users\\User\\Anaconda2\\envs\\py35\\lib\\site-packages\\ipykernel\\__main__.py:25: FutureWarning: pd.rolling_mean is deprecated for Series and will be removed in a future version, replace with \n",
      "\tSeries.rolling(center=False,window=17).mean()\n"
     ]
    },
    {
     "name": "stdout",
     "output_type": "stream",
     "text": [
      "\r",
      " [**********************94%********************   ]  17 of 18 complete "
     ]
    },
    {
     "name": "stderr",
     "output_type": "stream",
     "text": [
      "C:\\Users\\User\\Anaconda2\\envs\\py35\\lib\\site-packages\\ipykernel\\__main__.py:25: FutureWarning: pd.rolling_mean is deprecated for Series and will be removed in a future version, replace with \n",
      "\tSeries.rolling(center=False,window=18).mean()\n"
     ]
    },
    {
     "name": "stdout",
     "output_type": "stream",
     "text": [
      "\r",
      " [*********************100%***********************]  18 of 18 complete "
     ]
    },
    {
     "name": "stderr",
     "output_type": "stream",
     "text": [
      "C:\\Users\\User\\Anaconda2\\envs\\py35\\lib\\site-packages\\ipykernel\\__main__.py:25: FutureWarning: pd.rolling_mean is deprecated for Series and will be removed in a future version, replace with \n",
      "\tSeries.rolling(center=False,window=19).mean()\n"
     ]
    },
    {
     "name": "stdout",
     "output_type": "stream",
     "text": [
      "\n",
      "Best periods: [25, 7] (sharpe: 1.29)\n",
      "use datas in range 2002-01-04 2004-12-27\n",
      "Optimizing...\n",
      " [*********************100%***********************]  18 of 18 complete \n",
      "Best periods: [70, 13] (sharpe: 1.46)\n",
      "use datas in range 2003-01-02 2005-12-21\n",
      "Optimizing...\n",
      " [*********************100%***********************]  18 of 18 complete \n",
      "Best periods: [60, 14] (sharpe: 1.47)\n",
      "use datas in range 2003-12-30 2006-12-19\n",
      "Optimizing...\n",
      " [*********************100%***********************]  18 of 18 complete \n",
      "Best periods: [22, 15] (sharpe: 0.45)\n",
      "use datas in range 2004-12-28 2007-12-18\n",
      "Optimizing...\n",
      " [*********************100%***********************]  18 of 18 complete \n",
      "Best periods: [70, 9] (sharpe: 1.09)\n",
      "use datas in range 2005-12-22 2008-12-15\n",
      "Optimizing...\n",
      " [*********************100%***********************]  18 of 18 complete \n",
      "Best periods: [52, 4] (sharpe: 0.59)\n",
      "use datas in range 2006-12-20 2009-12-11\n",
      "Optimizing...\n",
      " [*********************100%***********************]  18 of 18 complete \n",
      "Best periods: [21, 19] (sharpe: 1.22)\n",
      "use datas in range 2007-12-19 2010-12-09\n",
      "Optimizing...\n",
      " [*********************100%***********************]  18 of 18 complete \n",
      "Best periods: [72, 14] (sharpe: 1.64)\n",
      "use datas in range 2008-12-16 2011-12-06\n",
      "Optimizing...\n",
      " [*********************100%***********************]  18 of 18 complete \n",
      "Best periods: [74, 6] (sharpe: 1.20)\n",
      "use datas in range 2009-12-14 2012-12-05\n",
      "Optimizing...\n",
      " [*********************100%***********************]  18 of 18 complete \n",
      "Best periods: [48, 2] (sharpe: 0.41)\n",
      "use datas in range 2010-12-10 2013-12-03\n",
      "Optimizing...\n",
      " [*********************100%***********************]  18 of 18 complete \n",
      "Best periods: [66, 12] (sharpe: 0.45)\n",
      "use datas in range 2011-12-07 2014-12-01\n",
      "Optimizing...\n",
      " [*********************100%***********************]  18 of 18 complete \n",
      "Best periods: [31, 17] (sharpe: 1.61)\n",
      "use datas in range 2012-12-06 2015-11-27\n",
      "Optimizing...\n",
      " [*********************100%***********************]  18 of 18 complete \n",
      "Best periods: [100, 6] (sharpe: 1.60)\n",
      "use datas in range 2013-12-04 2016-11-23\n",
      "Optimizing...\n",
      " [*********************100%***********************]  18 of 18 complete \n",
      "Best periods: [89, 5] (sharpe: 0.72)\n"
     ]
    }
   ],
   "source": [
    "for idx in range(step*3, len(price), step): #750，1000， 1250...\n",
    "    p = price[idx-(step*3):idx] #以idx为右边界，回头看3年\n",
    "    print('use datas in range', p.index[0].date(), p.index[-1].date())\n",
    "    start = MovAverage(p) #利用数据建立类\n",
    "    start.optimize(plotOn=False, outOfSample=250) #最近一年的数据不参与优化\n",
    "    start.simulate(plotOn=False)\n",
    "    result.append(start.backtest.pnl.diff()[-250:]) #日账户余额增量, 只要最后一年的。因为头两年用于优化，最后一年用于作为outofsamplo测试"
   ]
  },
  {
   "cell_type": "code",
   "execution_count": 11,
   "metadata": {
    "collapsed": false
   },
   "outputs": [
    {
     "name": "stdout",
     "output_type": "stream",
     "text": [
      "[0] 2003-01-02 2003-12-29\n",
      "[1] 2003-12-30 2004-12-27\n",
      "[2] 2004-12-28 2005-12-21\n",
      "[3] 2005-12-22 2006-12-19\n",
      "[4] 2006-12-20 2007-12-18\n",
      "[5] 2007-12-19 2008-12-15\n",
      "[6] 2008-12-16 2009-12-11\n",
      "[7] 2009-12-14 2010-12-09\n",
      "[8] 2010-12-10 2011-12-06\n",
      "[9] 2011-12-07 2012-12-05\n",
      "[10] 2012-12-06 2013-12-03\n",
      "[11] 2013-12-04 2014-12-01\n",
      "[12] 2014-12-02 2015-11-27\n",
      "[13] 2015-11-30 2016-11-23\n"
     ]
    }
   ],
   "source": [
    "for i,r in enumerate(result):\n",
    "    print('[%i]' %i, r.index[0].date(), r.index[-1].date()) "
   ]
  },
  {
   "cell_type": "code",
   "execution_count": 12,
   "metadata": {
    "collapsed": true
   },
   "outputs": [],
   "source": [
    "pnl = pd.concat(result) #result记录了n个长度为1年的pnl增量值，concat用来将n年连起来"
   ]
  },
  {
   "cell_type": "code",
   "execution_count": 16,
   "metadata": {
    "collapsed": false
   },
   "outputs": [
    {
     "data": {
      "text/plain": [
       "<matplotlib.axes._subplots.AxesSubplot at 0x15c99354400>"
      ]
     },
     "execution_count": 16,
     "metadata": {},
     "output_type": "execute_result"
    },
    {
     "data": {
      "image/png": "[encoded data removed]",
      "text/plain": [
       "<matplotlib.figure.Figure at 0x15c99311c18>"
      ]
     },
     "metadata": {},
     "output_type": "display_data"
    }
   ],
   "source": [
    "pnl.cumsum().plot()"
   ]
  },
  {
   "cell_type": "code",
   "execution_count": null,
   "metadata": {
    "collapsed": true
   },
   "outputs": [],
   "source": []
  }
 ],
 "metadata": {
  "anaconda-cloud": {},
  "kernelspec": {
   "display_name": "Python [conda env:py35]",
   "language": "python",
   "name": "conda-env-py35-py"
  },
  "language_info": {
   "codemirror_mode": {
    "name": "ipython",
    "version": 3
   },
   "file_extension": ".py",
   "mimetype": "text/x-python",
   "name": "python",
   "nbconvert_exporter": "python",
   "pygments_lexer": "ipython3",
   "version": "3.5.2"
  }
 },
 "nbformat": 4,
 "nbformat_minor": 1
}

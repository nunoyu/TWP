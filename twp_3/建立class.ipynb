{
 "cells": [
  {
   "cell_type": "code",
   "execution_count": 9,
   "metadata": {
    "collapsed": false
   },
   "outputs": [
    {
     "name": "stdout",
     "output_type": "stream",
     "text": [
      "Populating the interactive namespace from numpy and matplotlib\n"
     ]
    }
   ],
   "source": [
    "%pylab inline\n",
    "import tradingWithPython as twp\n",
    "import tradingWithPython.lib.yahooFinance as yf\n",
    "import tradingWithPython.lib.backtest as backtest\n",
    "import pandas as pd\n",
    "import numpy as np\n",
    "import datetime"
   ]
  },
  {
   "cell_type": "code",
   "execution_count": 35,
   "metadata": {
    "collapsed": false,
    "scrolled": true
   },
   "outputs": [
    {
     "name": "stdout",
     "output_type": "stream",
     "text": [
      "Got 4025 days of data\n"
     ]
    },
    {
     "data": {
      "text/plain": [
       "<matplotlib.axes._subplots.AxesSubplot at 0x161475a1fd0>"
      ]
     },
     "execution_count": 35,
     "metadata": {},
     "output_type": "execute_result"
    },
    {
     "data": {
      "image/png": "[encoded data removed]",
      "text/plain": [
       "<matplotlib.figure.Figure at 0x16147558da0>"
      ]
     },
     "metadata": {},
     "output_type": "display_data"
    }
   ],
   "source": [
    "symbol = 'spy'\n",
    "price = yf.getHistoricData(symbol, sDate=(2001,1,1))['adj_close']\n",
    "price.plot()"
   ]
  },
  {
   "cell_type": "code",
   "execution_count": 38,
   "metadata": {
    "collapsed": false
   },
   "outputs": [],
   "source": [
    "class MovAverage(object):\n",
    "    ''' a class with all features and applications of strategy of Moving Average'''\n",
    "    def __init__(self, price, periods=[50, 10] ): #对程序进行初始化\n",
    "        '''function to compare performance of different functions\n",
    "    parameters\n",
    "    ============\n",
    "    price: DataFrame\n",
    "        DataFrame timeseries with price of the underlying asset \n",
    "    periods: list\n",
    "        list with period parameter of slow a quick moving average \n",
    "        '''\n",
    "        self.price = price \n",
    "        self.peridos = periods\n",
    "    def simulate(self, bet=10000, plotOn=False):\n",
    "        '''function to simulate security performance\n",
    "    parameters\n",
    "    ==========\n",
    "    bet: int\n",
    "        vol of capital to long or short to\n",
    "    plotOn: bool\n",
    "        whether plot the simulation result\n",
    "        '''\n",
    "        maSlow = pd.rolling_mean(self.price, self.periods[0]) #只有在引用int函数中的参数时采用self...\n",
    "        maQuick = pd.rolling_mean(self.price, self.periods[1])\n",
    "        \n",
    "        pos = pd.Series(index=self.price.index)\n",
    "        \n",
    "        pos[maSlow>maQuick] = -bet\n",
    "        pos[maSlow<=maQuick] = bet\n",
    "        \n",
    "        self.backtest = backtest.backtest(self.price, pos, signalType='capital') #第一个self就是起名的习惯，没有引用的意义\n",
    "        \n",
    "        if plotOn:\n",
    "            figure()\n",
    "            self.backtest.plotTrades()\n",
    "            \n",
    "        \n",
    "        \n",
    "        \n",
    "    \n",
    "    "
   ]
  },
  {
   "cell_type": "code",
   "execution_count": 43,
   "metadata": {
    "collapsed": false
   },
   "outputs": [],
   "source": [
    "spy = MovAverage(price, periods=[50, 10])"
   ]
  },
  {
   "cell_type": "code",
   "execution_count": 44,
   "metadata": {
    "collapsed": false
   },
   "outputs": [
    {
     "ename": "AttributeError",
     "evalue": "'MovAverage' object has no attribute 'periods'",
     "output_type": "error",
     "traceback": [
      "\u001b[0;31m---------------------------------------------------------------------------\u001b[0m",
      "\u001b[0;31mAttributeError\u001b[0m                            Traceback (most recent call last)",
      "\u001b[0;32m<ipython-input-44-48043fb02d66>\u001b[0m in \u001b[0;36m<module>\u001b[0;34m()\u001b[0m\n\u001b[0;32m----> 1\u001b[0;31m \u001b[0mspy\u001b[0m\u001b[1;33m.\u001b[0m\u001b[0msimulate\u001b[0m\u001b[1;33m(\u001b[0m\u001b[1;33m)\u001b[0m\u001b[1;33m\u001b[0m\u001b[0m\n\u001b[0m",
      "\u001b[0;32m<ipython-input-38-2dfa338b3194>\u001b[0m in \u001b[0;36msimulate\u001b[0;34m(self, bet, plotOn)\u001b[0m\n\u001b[1;32m     21\u001b[0m         \u001b[0mwhether\u001b[0m \u001b[0mplot\u001b[0m \u001b[0mthe\u001b[0m \u001b[0msimulation\u001b[0m \u001b[0mresult\u001b[0m\u001b[1;33m\u001b[0m\u001b[0m\n\u001b[1;32m     22\u001b[0m         '''\n\u001b[0;32m---> 23\u001b[0;31m         \u001b[0mmaSlow\u001b[0m \u001b[1;33m=\u001b[0m \u001b[0mpd\u001b[0m\u001b[1;33m.\u001b[0m\u001b[0mrolling_mean\u001b[0m\u001b[1;33m(\u001b[0m\u001b[0mself\u001b[0m\u001b[1;33m.\u001b[0m\u001b[0mprice\u001b[0m\u001b[1;33m,\u001b[0m \u001b[0mself\u001b[0m\u001b[1;33m.\u001b[0m\u001b[0mperiods\u001b[0m\u001b[1;33m[\u001b[0m\u001b[1;36m0\u001b[0m\u001b[1;33m]\u001b[0m\u001b[1;33m)\u001b[0m \u001b[1;31m#只有在引用int函数中的参数时采用self...\u001b[0m\u001b[1;33m\u001b[0m\u001b[0m\n\u001b[0m\u001b[1;32m     24\u001b[0m         \u001b[0mmaQuick\u001b[0m \u001b[1;33m=\u001b[0m \u001b[0mpd\u001b[0m\u001b[1;33m.\u001b[0m\u001b[0mrolling_mean\u001b[0m\u001b[1;33m(\u001b[0m\u001b[0mself\u001b[0m\u001b[1;33m.\u001b[0m\u001b[0mprice\u001b[0m\u001b[1;33m,\u001b[0m \u001b[0mself\u001b[0m\u001b[1;33m.\u001b[0m\u001b[0mperiods\u001b[0m\u001b[1;33m[\u001b[0m\u001b[1;36m1\u001b[0m\u001b[1;33m]\u001b[0m\u001b[1;33m)\u001b[0m\u001b[1;33m\u001b[0m\u001b[0m\n\u001b[1;32m     25\u001b[0m \u001b[1;33m\u001b[0m\u001b[0m\n",
      "\u001b[0;31mAttributeError\u001b[0m: 'MovAverage' object has no attribute 'periods'"
     ]
    }
   ],
   "source": [
    "spy.simulate()"
   ]
  },
  {
   "cell_type": "code",
   "execution_count": null,
   "metadata": {
    "collapsed": true
   },
   "outputs": [],
   "source": []
  }
 ],
 "metadata": {
  "kernelspec": {
   "display_name": "Python [conda env:py35]",
   "language": "python",
   "name": "conda-env-py35-py"
  },
  "language_info": {
   "codemirror_mode": {
    "name": "ipython",
    "version": 3
   },
   "file_extension": ".py",
   "mimetype": "text/x-python",
   "name": "python",
   "nbconvert_exporter": "python",
   "pygments_lexer": "ipython3",
   "version": "3.5.2"
  }
 },
 "nbformat": 4,
 "nbformat_minor": 1
}

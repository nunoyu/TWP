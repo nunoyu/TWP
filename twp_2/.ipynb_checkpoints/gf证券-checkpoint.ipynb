{
 "cells": [
  {
   "cell_type": "code",
   "execution_count": null,
   "metadata": {
    "collapsed": false
   },
   "outputs": [],
   "source": [
    "import easytrader\n",
    "import time"
   ]
  },
  {
   "cell_type": "code",
   "execution_count": null,
   "metadata": {
    "collapsed": true
   },
   "outputs": [],
   "source": [
    "user = easytrader.use('gf')"
   ]
  },
  {
   "cell_type": "code",
   "execution_count": null,
   "metadata": {
    "collapsed": false
   },
   "outputs": [],
   "source": [
    "user.prepare('gf.json')"
   ]
  },
  {
   "cell_type": "markdown",
   "metadata": {},
   "source": [
    "user.balance\n",
    "user.position\n",
    "user.entrust\n",
    "user.buy('162411', price=0.55, amount=100)\n",
    "user.sell('162411', price=0.55, amount=100)\n",
    "user.cancel_entrust('委托单号', '股票代码')\n",
    "user.exchangebill   # 查询最近30天的交割单\n",
    "user.current_deal #当日交割\n",
    "user.get_exchangebill('开始日期', '截止日期')   # 指定查询时间段, 日期格式为 \"20160214\""
   ]
  },
  {
   "cell_type": "code",
   "execution_count": null,
   "metadata": {
    "collapsed": false
   },
   "outputs": [],
   "source": [
    "import threading\n",
    "import time\n",
    "def KeepOnline():\n",
    "    user.balance\n",
    "    global timer\n",
    "    timer = threading.Timer(5.0, KeepOnline)\n",
    "    timer.start()\n",
    "\n",
    "if __name__ == \"__main__\":\n",
    "    timer = threading.Timer(5.0, KeepOnline )\n",
    "    timer.start()"
   ]
  },
  {
   "cell_type": "code",
   "execution_count": null,
   "metadata": {
    "collapsed": true
   },
   "outputs": [],
   "source": []
  }
 ],
 "metadata": {
  "anaconda-cloud": {},
  "kernelspec": {
   "display_name": "Python [conda env:py35]",
   "language": "python",
   "name": "conda-env-py35-py"
  },
  "language_info": {
   "codemirror_mode": {
    "name": "ipython",
    "version": 3
   },
   "file_extension": ".py",
   "mimetype": "text/x-python",
   "name": "python",
   "nbconvert_exporter": "python",
   "pygments_lexer": "ipython3",
   "version": "3.5.2"
  }
 },
 "nbformat": 4,
 "nbformat_minor": 1
}

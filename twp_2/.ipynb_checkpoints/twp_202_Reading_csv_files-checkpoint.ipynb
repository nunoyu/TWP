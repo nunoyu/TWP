{
 "cells": [
  {
   "cell_type": "markdown",
   "metadata": {},
   "source": [
    "# Working with csv files#\n",
    "\n",
    "[Csv files](http://en.wikipedia.org/wiki/Comma-separated_values) are frequently used for price data storage. This a very  popular method because:\n",
    "\n",
    "* Files are plain text, human readable\n",
    "* Supported by most systems\n",
    "\n",
    "Let's take a look at working with this type of data. \n",
    "\n",
    "To start we need an example csv file. The code below creates a `tmp` subdirectory and writes `test.csv` into it. "
   ]
  },
  {
   "cell_type": "code",
   "execution_count": 1,
   "metadata": {
    "collapsed": false
   },
   "outputs": [
    {
     "name": "stdout",
     "output_type": "stream",
     "text": [
      "Populating the interactive namespace from numpy and matplotlib\n"
     ]
    }
   ],
   "source": [
    "%pylab inline\n",
    "import tradingWithPython as twp\n",
    "twp.extra.setNotebookStyle()"
   ]
  },
  {
   "cell_type": "code",
   "execution_count": 2,
   "metadata": {
    "collapsed": false
   },
   "outputs": [],
   "source": [
    "import os\n",
    "if not os.path.exists('tmp'): os.mkdir('tmp') # create tmp subdirectory if it does not exist yet\n",
    "\n",
    "#------write data to test.csv    \n",
    "txt = \"\"\"date, colB, colC\n",
    "01-01-2013,2,a\n",
    "02-01-2013,4,b\n",
    "03-01-2013,6,c\n",
    "\"\"\"\n",
    "\n",
    "with open('tmp/test.csv','w') as f: # with ... open ... as  is a robust way to open a file and read/write to it\n",
    "    f.write(txt)\n",
    "    \n",
    "    "
   ]
  },
  {
   "cell_type": "markdown",
   "metadata": {},
   "source": [
    "## The easy way##\n",
    "The easiest way to load a csv file is to use [`DataFrame.from_csv()`]() or [`read_csv()`](http://pandas.pydata.org/pandas-docs/version/0.9.1/io.html#csv-text-files) functions from pandas. When it parses data correctly, it is the best way to read and write csv files. However, there are some situations where the result is not exactly what you would expect. \n",
    "Let's read our `test.csv`  , the *date* column should be used as index and converted to `datetime` type."
   ]
  },
  {
   "cell_type": "code",
   "execution_count": 3,
   "metadata": {
    "collapsed": false
   },
   "outputs": [
    {
     "name": "stdout",
     "output_type": "stream",
     "text": [
      "Data types:\n",
      "--------------\n",
      " date     object\n",
      " colB     int64\n",
      " colC    object\n",
      "dtype: object\n"
     ]
    },
    {
     "data": {
      "text/html": [
       "<div>\n",
       "<table border=\"1\" class=\"dataframe\">\n",
       "  <thead>\n",
       "    <tr style=\"text-align: right;\">\n",
       "      <th></th>\n",
       "      <th>date</th>\n",
       "      <th>colB</th>\n",
       "      <th>colC</th>\n",
       "    </tr>\n",
       "  </thead>\n",
       "  <tbody>\n",
       "    <tr>\n",
       "      <th>0</th>\n",
       "      <td>01-01-2013</td>\n",
       "      <td>2</td>\n",
       "      <td>a</td>\n",
       "    </tr>\n",
       "    <tr>\n",
       "      <th>1</th>\n",
       "      <td>02-01-2013</td>\n",
       "      <td>4</td>\n",
       "      <td>b</td>\n",
       "    </tr>\n",
       "    <tr>\n",
       "      <th>2</th>\n",
       "      <td>03-01-2013</td>\n",
       "      <td>6</td>\n",
       "      <td>c</td>\n",
       "    </tr>\n",
       "  </tbody>\n",
       "</table>\n",
       "</div>"
      ],
      "text/plain": [
       "         date   colB  colC\n",
       "0  01-01-2013      2     a\n",
       "1  02-01-2013      4     b\n",
       "2  03-01-2013      6     c"
      ]
     },
     "execution_count": 3,
     "metadata": {},
     "output_type": "execute_result"
    }
   ],
   "source": [
    "import pandas as pd\n",
    "df = pd.read_csv('tmp/test.csv') # load DataFrame from csv\n",
    "print('Data types:\\n--------------\\n', df.dtypes) # show column types\n",
    "df # output dataframe in pretty formatting"
   ]
  },
  {
   "cell_type": "markdown",
   "metadata": {},
   "source": [
    "In this case the columns are read correctly, but the date, which we actually want to be the index column is not parsed (it is still a string). An index has also been automatically added. This can be fixed by specifying some parameters (see the [documentation](http://pandas.pydata.org/pandas-docs/version/0.10.1/io.html) for all options):"
   ]
  },
  {
   "cell_type": "code",
   "execution_count": 4,
   "metadata": {
    "collapsed": false
   },
   "outputs": [
    {
     "name": "stdout",
     "output_type": "stream",
     "text": [
      "Data types:\n",
      "--------------\n",
      "  colB     int64\n",
      " colC    object\n",
      "dtype: object\n"
     ]
    },
    {
     "data": {
      "text/html": [
       "<div>\n",
       "<table border=\"1\" class=\"dataframe\">\n",
       "  <thead>\n",
       "    <tr style=\"text-align: right;\">\n",
       "      <th></th>\n",
       "      <th>colB</th>\n",
       "      <th>colC</th>\n",
       "    </tr>\n",
       "    <tr>\n",
       "      <th>date</th>\n",
       "      <th></th>\n",
       "      <th></th>\n",
       "    </tr>\n",
       "  </thead>\n",
       "  <tbody>\n",
       "    <tr>\n",
       "      <th>2013-01-01</th>\n",
       "      <td>2</td>\n",
       "      <td>a</td>\n",
       "    </tr>\n",
       "    <tr>\n",
       "      <th>2013-01-02</th>\n",
       "      <td>4</td>\n",
       "      <td>b</td>\n",
       "    </tr>\n",
       "    <tr>\n",
       "      <th>2013-01-03</th>\n",
       "      <td>6</td>\n",
       "      <td>c</td>\n",
       "    </tr>\n",
       "  </tbody>\n",
       "</table>\n",
       "</div>"
      ],
      "text/plain": [
       "             colB  colC\n",
       "date                   \n",
       "2013-01-01      2     a\n",
       "2013-01-02      4     b\n",
       "2013-01-03      6     c"
      ]
     },
     "execution_count": 4,
     "metadata": {},
     "output_type": "execute_result"
    }
   ],
   "source": [
    "df = pd.read_csv('tmp/test.csv',index_col=0, header=0,dayfirst=True,parse_dates=True) # load DataFrame from csv\n",
    "print('Data types:\\n--------------\\n', df.dtypes) # show column types\n",
    "df"
   ]
  },
  {
   "cell_type": "code",
   "execution_count": 5,
   "metadata": {
    "collapsed": false
   },
   "outputs": [
    {
     "data": {
      "text/plain": [
       "Timestamp('2013-01-01 00:00:00')"
      ]
     },
     "execution_count": 5,
     "metadata": {},
     "output_type": "execute_result"
    }
   ],
   "source": [
    "df.index[0]"
   ]
  },
  {
   "cell_type": "markdown",
   "metadata": {},
   "source": [
    "This looks better! \n",
    "For the (rare) cases where `read_csv()` does not work as you would like there is always a manual way of parsing file line-by-line\n",
    "\n",
    "##The hard(ish) way##\n",
    "The advantage of doing this manually is that you can parse any type of csv file exactly to your liking.This is the method I use for parsing most of the csv data coming from the net (see `yahooFinance.py` in the TWP library).\n",
    "The code below parses a csv in several steps:\n",
    "\n",
    "1. read text lines from file\n",
    "2. parse header data\n",
    "3. fill `data` array with values, converting strings to the right data type\n",
    "4. create a dictionary of header-data pairs\n",
    "5. create a DataFrame\n",
    "\n",
    "\n",
    "First a simple example of parsing a single line:"
   ]
  },
  {
   "cell_type": "code",
   "execution_count": 6,
   "metadata": {
    "collapsed": false
   },
   "outputs": [
    {
     "data": {
      "text/plain": [
       "24"
      ]
     },
     "execution_count": 6,
     "metadata": {},
     "output_type": "execute_result"
    }
   ],
   "source": [
    "# example of parsing a single line\n",
    "s = 'foo,bar,24'  # create a string consisting of two substrings and a number\n",
    "l = s.split(',') # split string to a list, using ',' as a separator\n",
    "int(l[2]) # convert third element to an integer"
   ]
  },
  {
   "cell_type": "markdown",
   "metadata": {},
   "source": [
    "...and now parsing the csv file we saved earlier"
   ]
  },
  {
   "cell_type": "code",
   "execution_count": 7,
   "metadata": {
    "collapsed": false
   },
   "outputs": [
    {
     "name": "stdout",
     "output_type": "stream",
     "text": [
      "lines: ['date, colB, colC\\n', '01-01-2013,2,a\\n', '02-01-2013,4,b\\n', '03-01-2013,6,c\\n']\n",
      "header: ['date', ' colB', ' colC']\n",
      "data: [[datetime.date(2013, 1, 1), datetime.date(2013, 1, 2), datetime.date(2013, 1, 3)], [2, 4, 6], ['a', 'b', 'c']]\n",
      "dataDict: {' colB': [2, 4, 6], ' colC': ['a', 'b', 'c']}\n"
     ]
    },
    {
     "data": {
      "text/html": [
       "<div>\n",
       "<table border=\"1\" class=\"dataframe\">\n",
       "  <thead>\n",
       "    <tr style=\"text-align: right;\">\n",
       "      <th></th>\n",
       "      <th>colB</th>\n",
       "      <th>colC</th>\n",
       "    </tr>\n",
       "  </thead>\n",
       "  <tbody>\n",
       "    <tr>\n",
       "      <th>2013-01-01</th>\n",
       "      <td>2</td>\n",
       "      <td>a</td>\n",
       "    </tr>\n",
       "    <tr>\n",
       "      <th>2013-01-02</th>\n",
       "      <td>4</td>\n",
       "      <td>b</td>\n",
       "    </tr>\n",
       "    <tr>\n",
       "      <th>2013-01-03</th>\n",
       "      <td>6</td>\n",
       "      <td>c</td>\n",
       "    </tr>\n",
       "  </tbody>\n",
       "</table>\n",
       "</div>"
      ],
      "text/plain": [
       "             colB  colC\n",
       "2013-01-01      2     a\n",
       "2013-01-02      4     b\n",
       "2013-01-03      6     c"
      ]
     },
     "execution_count": 7,
     "metadata": {},
     "output_type": "execute_result"
    }
   ],
   "source": [
    "import datetime as dt # shorthand notation for datetime module\n",
    "\n",
    "#---------- read lines from file\n",
    "with open('tmp/test.csv','r') as f: # open file\n",
    "    lines = f.readlines() # read all lines to a list\n",
    "    \n",
    "print('lines:',lines)\n",
    "\n",
    "#----------- parse header\n",
    "header = lines[0].strip().split(',') # strip whitespace, split on ','. \n",
    "print('header:', header)\n",
    "\n",
    "#------------parse data\n",
    "data = [[],[],[]] # create an empty array for each column data\n",
    "\n",
    "for line in lines[1:]:  # start at second line, because first line is header\n",
    "    values = line.strip().split(',') # get the values from a line \n",
    "    data[0].append(dt.datetime.strptime(values[0],\"%d-%m-%Y\").date()) # parse date and append to column 0\n",
    "    data[1].append(int(values[1])) # conert to int and append to column 1\n",
    "    data[2].append(values[2]) # append to column 2, no conversion needed\n",
    "    \n",
    "print('data:', data)\n",
    "\n",
    "#----------create a dictionary with column-data . Column 0 is discarded as it is an index and not data\n",
    "dataDict = dict(list(zip(header[1:],data[1:])))\n",
    "print('dataDict:',dataDict)\n",
    "\n",
    "#-----------finally create the dataframe\n",
    "df =pd.DataFrame(data=dataDict, index=data[0]) # use standard constructor to create a dataframe\n",
    "\n",
    "df\n"
   ]
  },
  {
   "cell_type": "markdown",
   "metadata": {},
   "source": [
    "\n",
    "\n",
    "## Advanced example##\n",
    "We'll use a Put/Call datafrom CBOE as an example. This file can be parsed automatically, but we'll be doing it manually first to learn how to do it.\n",
    "\n",
    "The following piece of code downloads the data using `urllib2` module to a `lines` list. Each element of the list now contains a single line from the online url. Saving to disk is not neccesary. To take a look at the file, just click [this link](http://www.cboe.com/publish/ScheduledTask/MktData/datahouse/totalpc.csv) to download it through your browser.\n",
    "Steps taken to parse this file are similar to the steps taken in the simple example above, but while previous code was written for easy reading, the following code uses a couple of tricks to automate iterating through the coulumns.\n"
   ]
  },
  {
   "cell_type": "code",
   "execution_count": 8,
   "metadata": {
    "collapsed": false
   },
   "outputs": [],
   "source": [
    "import urllib.request, urllib.error, urllib.parse\n",
    "\n",
    "urlStr = 'http://www.cboe.com/publish/ScheduledTask/MktData/datahouse/totalpc.csv'\n",
    "lines = urllib.request.urlopen(urlStr).readlines() # get all data to lines list\n"
   ]
  },
  {
   "cell_type": "code",
   "execution_count": 9,
   "metadata": {
    "collapsed": false
   },
   "outputs": [
    {
     "name": "stdout",
     "output_type": "stream",
     "text": [
      "b\"Volume and Put/Call Ratio data is compiled for the convenience of site visitors and is furnished without responsibility for accuracy and is accepted by the site visitor on the condition that transmission or omissions shall not be made the basis for any claim demand or cause for action.  Historical index volume from November 1 2006 through May 31 2012 is based on cleared volume as reported by the OCC. The volume data reflected after May 31 2012 below is based upon preliminary reported volume rather than cleared volume. The information and data was obtained from sources believed to be reliable but accuracy is not guaranteed. Your use of CBOE Volume and Put/Call Ratio data is subject to the Terms and Conditions of CBOE's Websites.,,,,\\r\\n\" b', PRODUCT: TOTAL,,EXCHANGE: CBOE,\\r\\n' b'DATE,CALLS,PUTS,TOTAL,P/C Ratio\\r\\n' b'11/1/2006,1401036,1271445,2672481,0.91\\r\\n' b'11/2/2006,1348240,1218592,2566832,0.9\\r\\n' b'11/3/2006,1317371,1197794,2515165,0.91\\r\\n' b'11/6/2006,1260832,960752,2221584,0.76\\r\\n' b'11/7/2006,1463685,1158790,2622475,0.79\\r\\n' b'11/8/2006,1587664,1232542,2820206,0.78\\r\\n' b'11/9/2006,1539157,1288147,2827304,0.84\\r\\n' "
     ]
    }
   ],
   "source": [
    "for l in lines[:10]: print(l, end=' ') # print the lines one-by-one. \n",
    "#Notice the comma at the end of the line, this causes print commeand *not* to start a new line\n"
   ]
  },
  {
   "cell_type": "markdown",
   "metadata": {},
   "source": [
    "Now let's print several lines"
   ]
  },
  {
   "cell_type": "code",
   "execution_count": 10,
   "metadata": {
    "collapsed": false
   },
   "outputs": [
    {
     "name": "stdout",
     "output_type": "stream",
     "text": [
      "[lineNr 0]b\"Volume and Put/Call Ratio data is compiled for the convenience of site visitors and is furnished without responsibility for accuracy and is accepted by the site visitor on the condition that transmission or omissions shall not be made the basis for any claim demand or cause for action.  Historical index volume from November 1 2006 through May 31 2012 is based on cleared volume as reported by the OCC. The volume data reflected after May 31 2012 below is based upon preliminary reported volume rather than cleared volume. The information and data was obtained from sources believed to be reliable but accuracy is not guaranteed. Your use of CBOE Volume and Put/Call Ratio data is subject to the Terms and Conditions of CBOE's Websites.,,,,\\r\\n\"  [lineNr 1]b', PRODUCT: TOTAL,,EXCHANGE: CBOE,\\r\\n'  [lineNr 2]b'DATE,CALLS,PUTS,TOTAL,P/C Ratio\\r\\n'  [lineNr 3]b'11/1/2006,1401036,1271445,2672481,0.91\\r\\n'  [lineNr 4]b'11/2/2006,1348240,1218592,2566832,0.9\\r\\n'  [lineNr 5]b'11/3/2006,1317371,1197794,2515165,0.91\\r\\n'  [lineNr 6]b'11/6/2006,1260832,960752,2221584,0.76\\r\\n'  [lineNr 7]b'11/7/2006,1463685,1158790,2622475,0.79\\r\\n'  [lineNr 8]b'11/8/2006,1587664,1232542,2820206,0.78\\r\\n'  [lineNr 9]b'11/9/2006,1539157,1288147,2827304,0.84\\r\\n'  "
     ]
    }
   ],
   "source": [
    "for lineNr, line in enumerate(lines[:10]):\n",
    "    print('[lineNr %i]%s ' % (lineNr,line), end=' ')"
   ]
  },
  {
   "cell_type": "markdown",
   "metadata": {},
   "source": [
    "Line 2 contains column names, which now goes to the `header` list"
   ]
  },
  {
   "cell_type": "code",
   "execution_count": 11,
   "metadata": {
    "collapsed": false
   },
   "outputs": [
    {
     "name": "stdout",
     "output_type": "stream",
     "text": [
      "['DATE', 'CALLS', 'PUTS', 'TOTAL', 'P/C Ratio']\n"
     ]
    }
   ],
   "source": [
    "headerLine = 2 # line number\n",
    "header = lines[headerLine].decode().strip().split(',') # strip whitespace from line, and split it on ','\n",
    "\n",
    "print(header)"
   ]
  },
  {
   "cell_type": "markdown",
   "metadata": {},
   "source": [
    "Now create a list that will hold the actual data. It is a list of lists, one for each column"
   ]
  },
  {
   "cell_type": "code",
   "execution_count": 12,
   "metadata": {
    "collapsed": false
   },
   "outputs": [
    {
     "name": "stdout",
     "output_type": "stream",
     "text": [
      "[[], [], [], [], []]\n"
     ]
    }
   ],
   "source": [
    "columnData =   [[] for i in range(len(header))] # create empty list for each data column\n",
    "\n",
    "print(columnData)"
   ]
  },
  {
   "cell_type": "markdown",
   "metadata": {},
   "source": [
    "Now the data can be filled by iterating through each line after the header. "
   ]
  },
  {
   "cell_type": "code",
   "execution_count": 13,
   "metadata": {
    "collapsed": false
   },
   "outputs": [
    {
     "data": {
      "text/html": [
       "<div>\n",
       "<table border=\"1\" class=\"dataframe\">\n",
       "  <thead>\n",
       "    <tr style=\"text-align: right;\">\n",
       "      <th></th>\n",
       "      <th>CALLS</th>\n",
       "      <th>P/C Ratio</th>\n",
       "      <th>PUTS</th>\n",
       "      <th>TOTAL</th>\n",
       "    </tr>\n",
       "  </thead>\n",
       "  <tbody>\n",
       "    <tr>\n",
       "      <th>2016-01-25</th>\n",
       "      <td>1447809</td>\n",
       "      <td>1.03</td>\n",
       "      <td>1490857</td>\n",
       "      <td>2938666</td>\n",
       "    </tr>\n",
       "    <tr>\n",
       "      <th>2016-01-26</th>\n",
       "      <td>1632241</td>\n",
       "      <td>0.88</td>\n",
       "      <td>1443064</td>\n",
       "      <td>3075305</td>\n",
       "    </tr>\n",
       "    <tr>\n",
       "      <th>2016-01-27</th>\n",
       "      <td>1956550</td>\n",
       "      <td>0.95</td>\n",
       "      <td>1858828</td>\n",
       "      <td>3815378</td>\n",
       "    </tr>\n",
       "    <tr>\n",
       "      <th>2016-01-28</th>\n",
       "      <td>1977640</td>\n",
       "      <td>0.87</td>\n",
       "      <td>1717642</td>\n",
       "      <td>3695282</td>\n",
       "    </tr>\n",
       "    <tr>\n",
       "      <th>2016-01-29</th>\n",
       "      <td>2662269</td>\n",
       "      <td>0.91</td>\n",
       "      <td>2433017</td>\n",
       "      <td>5095286</td>\n",
       "    </tr>\n",
       "    <tr>\n",
       "      <th>2016-02-01</th>\n",
       "      <td>1506401</td>\n",
       "      <td>1.02</td>\n",
       "      <td>1537564</td>\n",
       "      <td>3043965</td>\n",
       "    </tr>\n",
       "    <tr>\n",
       "      <th>2016-02-02</th>\n",
       "      <td>1865021</td>\n",
       "      <td>1.03</td>\n",
       "      <td>1913534</td>\n",
       "      <td>3778555</td>\n",
       "    </tr>\n",
       "    <tr>\n",
       "      <th>2016-02-03</th>\n",
       "      <td>2438579</td>\n",
       "      <td>0.85</td>\n",
       "      <td>2067832</td>\n",
       "      <td>4506411</td>\n",
       "    </tr>\n",
       "    <tr>\n",
       "      <th>2016-02-04</th>\n",
       "      <td>2121221</td>\n",
       "      <td>0.94</td>\n",
       "      <td>1983991</td>\n",
       "      <td>4105212</td>\n",
       "    </tr>\n",
       "    <tr>\n",
       "      <th>2016-02-05</th>\n",
       "      <td>2408324</td>\n",
       "      <td>0.97</td>\n",
       "      <td>2328896</td>\n",
       "      <td>4737220</td>\n",
       "    </tr>\n",
       "  </tbody>\n",
       "</table>\n",
       "</div>"
      ],
      "text/plain": [
       "              CALLS  P/C Ratio     PUTS    TOTAL\n",
       "2016-01-25  1447809       1.03  1490857  2938666\n",
       "2016-01-26  1632241       0.88  1443064  3075305\n",
       "2016-01-27  1956550       0.95  1858828  3815378\n",
       "2016-01-28  1977640       0.87  1717642  3695282\n",
       "2016-01-29  2662269       0.91  2433017  5095286\n",
       "2016-02-01  1506401       1.02  1537564  3043965\n",
       "2016-02-02  1865021       1.03  1913534  3778555\n",
       "2016-02-03  2438579       0.85  2067832  4506411\n",
       "2016-02-04  2121221       0.94  1983991  4105212\n",
       "2016-02-05  2408324       0.97  2328896  4737220"
      ]
     },
     "execution_count": 13,
     "metadata": {},
     "output_type": "execute_result"
    }
   ],
   "source": [
    "import datetime as dt # shorthand notation for datetime module\n",
    "import pandas as pd\n",
    "\n",
    "for line in lines[(headerLine+1):]: # for each line starting after header line\n",
    "        fields = line.decode().rstrip().split(',') # split line to data fields. Each field is a string\n",
    "        # first field is the date, it is treated separately because it must be converted to\n",
    "        #datetime format. String from first field is appended to data[0]\n",
    "        columnData[0].append(dt.datetime.strptime(fields[0],'%m/%d/%Y').date()) \n",
    "        \n",
    "        # the rest of the fields are converted to floats in a loop\n",
    "        for i,field  in enumerate(fields[1:]): # for all fields from 1. i is the field number-1\n",
    "            columnData[i+1].append(float(field)) # convert data to float and append it to a column data\n",
    "\n",
    "d =   dict(list(zip(header[1:],columnData[1:]))) # create a dictionary with header-columnData pairs, exclude column 0       \n",
    "            \n",
    "df = pd.DataFrame(d, index = pd.Index(columnData[0])) #create DataFrame with index from column 0\n",
    "\n",
    "df.tail(10)"
   ]
  },
  {
   "cell_type": "markdown",
   "metadata": {},
   "source": [
    "## And the very easy way again##\n",
    "`read_csv` can accept a `buffer` as input and parse it automatically. So getting the data from the net and parsing it can be done on one single line!"
   ]
  },
  {
   "cell_type": "code",
   "execution_count": 14,
   "metadata": {
    "collapsed": false
   },
   "outputs": [
    {
     "data": {
      "text/html": [
       "<div>\n",
       "<table border=\"1\" class=\"dataframe\">\n",
       "  <thead>\n",
       "    <tr style=\"text-align: right;\">\n",
       "      <th></th>\n",
       "      <th>CALLS</th>\n",
       "      <th>PUTS</th>\n",
       "      <th>TOTAL</th>\n",
       "      <th>P/C Ratio</th>\n",
       "    </tr>\n",
       "    <tr>\n",
       "      <th>DATE</th>\n",
       "      <th></th>\n",
       "      <th></th>\n",
       "      <th></th>\n",
       "      <th></th>\n",
       "    </tr>\n",
       "  </thead>\n",
       "  <tbody>\n",
       "    <tr>\n",
       "      <th>2006-11-01</th>\n",
       "      <td>1401036</td>\n",
       "      <td>1271445</td>\n",
       "      <td>2672481</td>\n",
       "      <td>0.91</td>\n",
       "    </tr>\n",
       "    <tr>\n",
       "      <th>2006-11-02</th>\n",
       "      <td>1348240</td>\n",
       "      <td>1218592</td>\n",
       "      <td>2566832</td>\n",
       "      <td>0.90</td>\n",
       "    </tr>\n",
       "    <tr>\n",
       "      <th>2006-11-03</th>\n",
       "      <td>1317371</td>\n",
       "      <td>1197794</td>\n",
       "      <td>2515165</td>\n",
       "      <td>0.91</td>\n",
       "    </tr>\n",
       "    <tr>\n",
       "      <th>2006-11-06</th>\n",
       "      <td>1260832</td>\n",
       "      <td>960752</td>\n",
       "      <td>2221584</td>\n",
       "      <td>0.76</td>\n",
       "    </tr>\n",
       "    <tr>\n",
       "      <th>2006-11-07</th>\n",
       "      <td>1463685</td>\n",
       "      <td>1158790</td>\n",
       "      <td>2622475</td>\n",
       "      <td>0.79</td>\n",
       "    </tr>\n",
       "    <tr>\n",
       "      <th>...</th>\n",
       "      <td>...</td>\n",
       "      <td>...</td>\n",
       "      <td>...</td>\n",
       "      <td>...</td>\n",
       "    </tr>\n",
       "    <tr>\n",
       "      <th>2016-02-01</th>\n",
       "      <td>1506401</td>\n",
       "      <td>1537564</td>\n",
       "      <td>3043965</td>\n",
       "      <td>1.02</td>\n",
       "    </tr>\n",
       "    <tr>\n",
       "      <th>2016-02-02</th>\n",
       "      <td>1865021</td>\n",
       "      <td>1913534</td>\n",
       "      <td>3778555</td>\n",
       "      <td>1.03</td>\n",
       "    </tr>\n",
       "    <tr>\n",
       "      <th>2016-02-03</th>\n",
       "      <td>2438579</td>\n",
       "      <td>2067832</td>\n",
       "      <td>4506411</td>\n",
       "      <td>0.85</td>\n",
       "    </tr>\n",
       "    <tr>\n",
       "      <th>2016-02-04</th>\n",
       "      <td>2121221</td>\n",
       "      <td>1983991</td>\n",
       "      <td>4105212</td>\n",
       "      <td>0.94</td>\n",
       "    </tr>\n",
       "    <tr>\n",
       "      <th>2016-02-05</th>\n",
       "      <td>2408324</td>\n",
       "      <td>2328896</td>\n",
       "      <td>4737220</td>\n",
       "      <td>0.97</td>\n",
       "    </tr>\n",
       "  </tbody>\n",
       "</table>\n",
       "<p>2331 rows × 4 columns</p>\n",
       "</div>"
      ],
      "text/plain": [
       "              CALLS     PUTS    TOTAL  P/C Ratio\n",
       "DATE                                            \n",
       "2006-11-01  1401036  1271445  2672481       0.91\n",
       "2006-11-02  1348240  1218592  2566832       0.90\n",
       "2006-11-03  1317371  1197794  2515165       0.91\n",
       "2006-11-06  1260832   960752  2221584       0.76\n",
       "2006-11-07  1463685  1158790  2622475       0.79\n",
       "...             ...      ...      ...        ...\n",
       "2016-02-01  1506401  1537564  3043965       1.02\n",
       "2016-02-02  1865021  1913534  3778555       1.03\n",
       "2016-02-03  2438579  2067832  4506411       0.85\n",
       "2016-02-04  2121221  1983991  4105212       0.94\n",
       "2016-02-05  2408324  2328896  4737220       0.97\n",
       "\n",
       "[2331 rows x 4 columns]"
      ]
     },
     "execution_count": 14,
     "metadata": {},
     "output_type": "execute_result"
    }
   ],
   "source": [
    "df = pd.read_csv(urllib.request.urlopen(urlStr), header = 2, index_col=0,parse_dates=True)\n",
    "df"
   ]
  },
  {
   "cell_type": "code",
   "execution_count": 15,
   "metadata": {
    "collapsed": false
   },
   "outputs": [
    {
     "data": {
      "text/html": [
       "<div>\n",
       "<table border=\"1\" class=\"dataframe\">\n",
       "  <thead>\n",
       "    <tr style=\"text-align: right;\">\n",
       "      <th></th>\n",
       "      <th>CALLS</th>\n",
       "      <th>PUTS</th>\n",
       "      <th>TOTAL</th>\n",
       "      <th>P/C Ratio</th>\n",
       "    </tr>\n",
       "    <tr>\n",
       "      <th>DATE</th>\n",
       "      <th></th>\n",
       "      <th></th>\n",
       "      <th></th>\n",
       "      <th></th>\n",
       "    </tr>\n",
       "  </thead>\n",
       "  <tbody>\n",
       "    <tr>\n",
       "      <th>2016-02-01</th>\n",
       "      <td>1506401</td>\n",
       "      <td>1537564</td>\n",
       "      <td>3043965</td>\n",
       "      <td>1.02</td>\n",
       "    </tr>\n",
       "    <tr>\n",
       "      <th>2016-02-02</th>\n",
       "      <td>1865021</td>\n",
       "      <td>1913534</td>\n",
       "      <td>3778555</td>\n",
       "      <td>1.03</td>\n",
       "    </tr>\n",
       "    <tr>\n",
       "      <th>2016-02-03</th>\n",
       "      <td>2438579</td>\n",
       "      <td>2067832</td>\n",
       "      <td>4506411</td>\n",
       "      <td>0.85</td>\n",
       "    </tr>\n",
       "    <tr>\n",
       "      <th>2016-02-04</th>\n",
       "      <td>2121221</td>\n",
       "      <td>1983991</td>\n",
       "      <td>4105212</td>\n",
       "      <td>0.94</td>\n",
       "    </tr>\n",
       "    <tr>\n",
       "      <th>2016-02-05</th>\n",
       "      <td>2408324</td>\n",
       "      <td>2328896</td>\n",
       "      <td>4737220</td>\n",
       "      <td>0.97</td>\n",
       "    </tr>\n",
       "  </tbody>\n",
       "</table>\n",
       "</div>"
      ],
      "text/plain": [
       "              CALLS     PUTS    TOTAL  P/C Ratio\n",
       "DATE                                            \n",
       "2016-02-01  1506401  1537564  3043965       1.02\n",
       "2016-02-02  1865021  1913534  3778555       1.03\n",
       "2016-02-03  2438579  2067832  4506411       0.85\n",
       "2016-02-04  2121221  1983991  4105212       0.94\n",
       "2016-02-05  2408324  2328896  4737220       0.97"
      ]
     },
     "execution_count": 15,
     "metadata": {},
     "output_type": "execute_result"
    },
    {
     "data": {
      "image/png": "[encoded data removed]",
      "text/plain": [
       "<matplotlib.figure.Figure at 0x7fccf49dcac8>"
      ]
     },
     "metadata": {},
     "output_type": "display_data"
    }
   ],
   "source": [
    "df['P/C Ratio'].plot()\n",
    "df.tail()"
   ]
  },
  {
   "cell_type": "markdown",
   "metadata": {},
   "source": [
    "# Writing csv files#\n",
    "\n",
    "Normally you would not need to write csv files manually.  `DataFrame.to_csv()` takes care of this:"
   ]
  },
  {
   "cell_type": "code",
   "execution_count": 16,
   "metadata": {
    "collapsed": false
   },
   "outputs": [
    {
     "data": {
      "text/html": [
       "<div>\n",
       "<table border=\"1\" class=\"dataframe\">\n",
       "  <thead>\n",
       "    <tr style=\"text-align: right;\">\n",
       "      <th></th>\n",
       "      <th>CALLS</th>\n",
       "      <th>PUTS</th>\n",
       "      <th>TOTAL</th>\n",
       "      <th>P/C Ratio</th>\n",
       "    </tr>\n",
       "    <tr>\n",
       "      <th>DATE</th>\n",
       "      <th></th>\n",
       "      <th></th>\n",
       "      <th></th>\n",
       "      <th></th>\n",
       "    </tr>\n",
       "  </thead>\n",
       "  <tbody>\n",
       "    <tr>\n",
       "      <th>2006-11-01</th>\n",
       "      <td>1401036</td>\n",
       "      <td>1271445</td>\n",
       "      <td>2672481</td>\n",
       "      <td>0.91</td>\n",
       "    </tr>\n",
       "    <tr>\n",
       "      <th>2006-11-02</th>\n",
       "      <td>1348240</td>\n",
       "      <td>1218592</td>\n",
       "      <td>2566832</td>\n",
       "      <td>0.90</td>\n",
       "    </tr>\n",
       "    <tr>\n",
       "      <th>2006-11-03</th>\n",
       "      <td>1317371</td>\n",
       "      <td>1197794</td>\n",
       "      <td>2515165</td>\n",
       "      <td>0.91</td>\n",
       "    </tr>\n",
       "    <tr>\n",
       "      <th>2006-11-06</th>\n",
       "      <td>1260832</td>\n",
       "      <td>960752</td>\n",
       "      <td>2221584</td>\n",
       "      <td>0.76</td>\n",
       "    </tr>\n",
       "    <tr>\n",
       "      <th>2006-11-07</th>\n",
       "      <td>1463685</td>\n",
       "      <td>1158790</td>\n",
       "      <td>2622475</td>\n",
       "      <td>0.79</td>\n",
       "    </tr>\n",
       "    <tr>\n",
       "      <th>...</th>\n",
       "      <td>...</td>\n",
       "      <td>...</td>\n",
       "      <td>...</td>\n",
       "      <td>...</td>\n",
       "    </tr>\n",
       "    <tr>\n",
       "      <th>2016-02-01</th>\n",
       "      <td>1506401</td>\n",
       "      <td>1537564</td>\n",
       "      <td>3043965</td>\n",
       "      <td>1.02</td>\n",
       "    </tr>\n",
       "    <tr>\n",
       "      <th>2016-02-02</th>\n",
       "      <td>1865021</td>\n",
       "      <td>1913534</td>\n",
       "      <td>3778555</td>\n",
       "      <td>1.03</td>\n",
       "    </tr>\n",
       "    <tr>\n",
       "      <th>2016-02-03</th>\n",
       "      <td>2438579</td>\n",
       "      <td>2067832</td>\n",
       "      <td>4506411</td>\n",
       "      <td>0.85</td>\n",
       "    </tr>\n",
       "    <tr>\n",
       "      <th>2016-02-04</th>\n",
       "      <td>2121221</td>\n",
       "      <td>1983991</td>\n",
       "      <td>4105212</td>\n",
       "      <td>0.94</td>\n",
       "    </tr>\n",
       "    <tr>\n",
       "      <th>2016-02-05</th>\n",
       "      <td>2408324</td>\n",
       "      <td>2328896</td>\n",
       "      <td>4737220</td>\n",
       "      <td>0.97</td>\n",
       "    </tr>\n",
       "  </tbody>\n",
       "</table>\n",
       "<p>2331 rows × 4 columns</p>\n",
       "</div>"
      ],
      "text/plain": [
       "              CALLS     PUTS    TOTAL  P/C Ratio\n",
       "DATE                                            \n",
       "2006-11-01  1401036  1271445  2672481       0.91\n",
       "2006-11-02  1348240  1218592  2566832       0.90\n",
       "2006-11-03  1317371  1197794  2515165       0.91\n",
       "2006-11-06  1260832   960752  2221584       0.76\n",
       "2006-11-07  1463685  1158790  2622475       0.79\n",
       "...             ...      ...      ...        ...\n",
       "2016-02-01  1506401  1537564  3043965       1.02\n",
       "2016-02-02  1865021  1913534  3778555       1.03\n",
       "2016-02-03  2438579  2067832  4506411       0.85\n",
       "2016-02-04  2121221  1983991  4105212       0.94\n",
       "2016-02-05  2408324  2328896  4737220       0.97\n",
       "\n",
       "[2331 rows x 4 columns]"
      ]
     },
     "execution_count": 16,
     "metadata": {},
     "output_type": "execute_result"
    }
   ],
   "source": [
    "df.to_csv('tmp/pc_ratio.csv')\n",
    "df"
   ]
  },
  {
   "cell_type": "markdown",
   "metadata": {},
   "source": [
    "A big advantage is that the files written by `DataFrame.to_csv()`, will also be readable by `DataFrame.read_csv()` and `read_csv()` functions"
   ]
  },
  {
   "cell_type": "code",
   "execution_count": 17,
   "metadata": {
    "collapsed": false
   },
   "outputs": [
    {
     "data": {
      "text/html": [
       "<div>\n",
       "<table border=\"1\" class=\"dataframe\">\n",
       "  <thead>\n",
       "    <tr style=\"text-align: right;\">\n",
       "      <th></th>\n",
       "      <th>CALLS</th>\n",
       "      <th>PUTS</th>\n",
       "      <th>TOTAL</th>\n",
       "      <th>P/C Ratio</th>\n",
       "    </tr>\n",
       "    <tr>\n",
       "      <th>DATE</th>\n",
       "      <th></th>\n",
       "      <th></th>\n",
       "      <th></th>\n",
       "      <th></th>\n",
       "    </tr>\n",
       "  </thead>\n",
       "  <tbody>\n",
       "    <tr>\n",
       "      <th>2016-02-01</th>\n",
       "      <td>1506401</td>\n",
       "      <td>1537564</td>\n",
       "      <td>3043965</td>\n",
       "      <td>1.02</td>\n",
       "    </tr>\n",
       "    <tr>\n",
       "      <th>2016-02-02</th>\n",
       "      <td>1865021</td>\n",
       "      <td>1913534</td>\n",
       "      <td>3778555</td>\n",
       "      <td>1.03</td>\n",
       "    </tr>\n",
       "    <tr>\n",
       "      <th>2016-02-03</th>\n",
       "      <td>2438579</td>\n",
       "      <td>2067832</td>\n",
       "      <td>4506411</td>\n",
       "      <td>0.85</td>\n",
       "    </tr>\n",
       "    <tr>\n",
       "      <th>2016-02-04</th>\n",
       "      <td>2121221</td>\n",
       "      <td>1983991</td>\n",
       "      <td>4105212</td>\n",
       "      <td>0.94</td>\n",
       "    </tr>\n",
       "    <tr>\n",
       "      <th>2016-02-05</th>\n",
       "      <td>2408324</td>\n",
       "      <td>2328896</td>\n",
       "      <td>4737220</td>\n",
       "      <td>0.97</td>\n",
       "    </tr>\n",
       "  </tbody>\n",
       "</table>\n",
       "</div>"
      ],
      "text/plain": [
       "              CALLS     PUTS    TOTAL  P/C Ratio\n",
       "DATE                                            \n",
       "2016-02-01  1506401  1537564  3043965       1.02\n",
       "2016-02-02  1865021  1913534  3778555       1.03\n",
       "2016-02-03  2438579  2067832  4506411       0.85\n",
       "2016-02-04  2121221  1983991  4105212       0.94\n",
       "2016-02-05  2408324  2328896  4737220       0.97"
      ]
     },
     "execution_count": 17,
     "metadata": {},
     "output_type": "execute_result"
    }
   ],
   "source": [
    "df2 = pd.DataFrame.from_csv('tmp/pc_ratio.csv')\n",
    "df2.tail()"
   ]
  },
  {
   "cell_type": "code",
   "execution_count": 18,
   "metadata": {
    "collapsed": false
   },
   "outputs": [
    {
     "name": "stdout",
     "output_type": "stream",
     "text": [
      "              CALLS     PUTS    TOTAL  P/C Ratio\n",
      "DATE                                            \n",
      "2006-11-01  1401036  1271445  2672481       0.91\n",
      "2006-11-02  1348240  1218592  2566832       0.90\n",
      "2006-11-03  1317371  1197794  2515165       0.91\n",
      "2006-11-06  1260832   960752  2221584       0.76\n",
      "2006-11-07  1463685  1158790  2622475       0.79\n",
      "...             ...      ...      ...        ...\n",
      "2016-02-01  1506401  1537564  3043965       1.02\n",
      "2016-02-02  1865021  1913534  3778555       1.03\n",
      "2016-02-03  2438579  2067832  4506411       0.85\n",
      "2016-02-04  2121221  1983991  4105212       0.94\n",
      "2016-02-05  2408324  2328896  4737220       0.97\n",
      "\n",
      "[2331 rows x 4 columns]\n"
     ]
    },
    {
     "data": {
      "text/html": [
       "<div>\n",
       "<table border=\"1\" class=\"dataframe\">\n",
       "  <thead>\n",
       "    <tr style=\"text-align: right;\">\n",
       "      <th></th>\n",
       "      <th>CALLS</th>\n",
       "      <th>PUTS</th>\n",
       "      <th>TOTAL</th>\n",
       "      <th>P/C Ratio</th>\n",
       "    </tr>\n",
       "    <tr>\n",
       "      <th>DATE</th>\n",
       "      <th></th>\n",
       "      <th></th>\n",
       "      <th></th>\n",
       "      <th></th>\n",
       "    </tr>\n",
       "  </thead>\n",
       "  <tbody>\n",
       "    <tr>\n",
       "      <th>2016-02-01</th>\n",
       "      <td>1506401</td>\n",
       "      <td>1537564</td>\n",
       "      <td>3043965</td>\n",
       "      <td>1.02</td>\n",
       "    </tr>\n",
       "    <tr>\n",
       "      <th>2016-02-02</th>\n",
       "      <td>1865021</td>\n",
       "      <td>1913534</td>\n",
       "      <td>3778555</td>\n",
       "      <td>1.03</td>\n",
       "    </tr>\n",
       "    <tr>\n",
       "      <th>2016-02-03</th>\n",
       "      <td>2438579</td>\n",
       "      <td>2067832</td>\n",
       "      <td>4506411</td>\n",
       "      <td>0.85</td>\n",
       "    </tr>\n",
       "    <tr>\n",
       "      <th>2016-02-04</th>\n",
       "      <td>2121221</td>\n",
       "      <td>1983991</td>\n",
       "      <td>4105212</td>\n",
       "      <td>0.94</td>\n",
       "    </tr>\n",
       "    <tr>\n",
       "      <th>2016-02-05</th>\n",
       "      <td>2408324</td>\n",
       "      <td>2328896</td>\n",
       "      <td>4737220</td>\n",
       "      <td>0.97</td>\n",
       "    </tr>\n",
       "  </tbody>\n",
       "</table>\n",
       "</div>"
      ],
      "text/plain": [
       "              CALLS     PUTS    TOTAL  P/C Ratio\n",
       "DATE                                            \n",
       "2016-02-01  1506401  1537564  3043965       1.02\n",
       "2016-02-02  1865021  1913534  3778555       1.03\n",
       "2016-02-03  2438579  2067832  4506411       0.85\n",
       "2016-02-04  2121221  1983991  4105212       0.94\n",
       "2016-02-05  2408324  2328896  4737220       0.97"
      ]
     },
     "execution_count": 18,
     "metadata": {},
     "output_type": "execute_result"
    }
   ],
   "source": [
    "df3 = pd.read_csv('tmp/pc_ratio.csv',index_col=0, header=0,parse_dates=True)\n",
    "print(df3)\n",
    "df3.tail()"
   ]
  }
 ],
 "metadata": {
  "kernelspec": {
   "display_name": "Python 2",
   "language": "python",
   "name": "python2"
  },
  "language_info": {
   "codemirror_mode": {
    "name": "ipython",
    "version": 2
   },
   "file_extension": ".py",
   "mimetype": "text/x-python",
   "name": "python",
   "nbconvert_exporter": "python",
   "pygments_lexer": "ipython2",
   "version": "2.7.12"
  }
 },
 "nbformat": 4,
 "nbformat_minor": 0
}
